{
 "cells": [
  {
   "cell_type": "code",
   "execution_count": null,
   "id": "b276242c",
   "metadata": {},
   "outputs": [],
   "source": [
    "import pandas as pd\n",
    "import numpy as np\n",
    "from matplotlib import pyplot as plt\n",
    "\n",
    "from src.preprocess.utils import rename_cols\n",
    "from src.preprocess.pipeline import preprocess\n",
    "\n",
    "from src.splits import LeaveOneOutSplitter, GlobalTimeSplitter\n",
    "\n",
    "from src.stats.base import base_stats, compare_subsets\n",
    "from src.stats.duplicates import duplicates_stats\n",
    "from src.stats.leaks import get_leaks, leak_counts\n",
    "from src.stats.cold import get_cold, cold_counts, cold_stats\n",
    "from src.stats.temporal import time_counts\n",
    "from src.stats.plots import plot_inters_px, plot_inters_scatter"
   ]
  },
  {
   "cell_type": "code",
   "execution_count": 110,
   "id": "3f70b57e",
   "metadata": {},
   "outputs": [],
   "source": [
    "raw = pd.read_csv('data/Diginetica/raw.csv')\n",
    "\n",
    "# Rename columns for consistency (sessionId -> user_id, itemId -> item_id, datetime -> timestamp)\n",
    "raw = rename_cols(raw, user_id='sessionId', item_id='itemId', timestamp='datetime')"
   ]
  },
  {
   "cell_type": "markdown",
   "id": "77d84a5b",
   "metadata": {},
   "source": [
    "# Base statistics"
   ]
  },
  {
   "cell_type": "code",
   "execution_count": 111,
   "id": "f34313e3",
   "metadata": {},
   "outputs": [
    {
     "data": {
      "text/html": [
       "<div>\n",
       "<style scoped>\n",
       "    .dataframe tbody tr th:only-of-type {\n",
       "        vertical-align: middle;\n",
       "    }\n",
       "\n",
       "    .dataframe tbody tr th {\n",
       "        vertical-align: top;\n",
       "    }\n",
       "\n",
       "    .dataframe thead th {\n",
       "        text-align: right;\n",
       "    }\n",
       "</style>\n",
       "<table border=\"1\" class=\"dataframe\">\n",
       "  <thead>\n",
       "    <tr style=\"text-align: right;\">\n",
       "      <th></th>\n",
       "      <th>n_users</th>\n",
       "      <th>n_items</th>\n",
       "      <th>n_interactions</th>\n",
       "      <th>avg_seq_length</th>\n",
       "      <th>density</th>\n",
       "      <th>timeframe</th>\n",
       "    </tr>\n",
       "  </thead>\n",
       "  <tbody>\n",
       "    <tr>\n",
       "      <th>0</th>\n",
       "      <td>310324</td>\n",
       "      <td>122993</td>\n",
       "      <td>1235380</td>\n",
       "      <td>3.980936</td>\n",
       "      <td>0.000032</td>\n",
       "      <td>1.313399e+07</td>\n",
       "    </tr>\n",
       "  </tbody>\n",
       "</table>\n",
       "</div>"
      ],
      "text/plain": [
       "   n_users  n_items  n_interactions  avg_seq_length   density     timeframe\n",
       "0   310324   122993         1235380        3.980936  0.000032  1.313399e+07"
      ]
     },
     "execution_count": 111,
     "metadata": {},
     "output_type": "execute_result"
    }
   ],
   "source": [
    "# Display basic statistics of the raw dataset\n",
    "base_stats(raw)"
   ]
  },
  {
   "cell_type": "markdown",
   "id": "1b4e3e96",
   "metadata": {},
   "source": [
    "As can be seen, the data is very sparse. At the same time, the average sequence length for each user is quite short, making it challenging to train sequential models effectively due to insufficient context.\n",
    "\n"
   ]
  },
  {
   "cell_type": "markdown",
   "id": "f76ebe67",
   "metadata": {},
   "source": [
    "# Duplicates analysis"
   ]
  },
  {
   "cell_type": "code",
   "execution_count": 112,
   "id": "dadcccba",
   "metadata": {},
   "outputs": [
    {
     "data": {
      "text/html": [
       "<div>\n",
       "<style scoped>\n",
       "    .dataframe tbody tr th:only-of-type {\n",
       "        vertical-align: middle;\n",
       "    }\n",
       "\n",
       "    .dataframe tbody tr th {\n",
       "        vertical-align: top;\n",
       "    }\n",
       "\n",
       "    .dataframe thead th {\n",
       "        text-align: right;\n",
       "    }\n",
       "</style>\n",
       "<table border=\"1\" class=\"dataframe\">\n",
       "  <thead>\n",
       "    <tr style=\"text-align: right;\">\n",
       "      <th></th>\n",
       "      <th>Consecutive item duplicates</th>\n",
       "      <th>Non-unique item interactions</th>\n",
       "    </tr>\n",
       "  </thead>\n",
       "  <tbody>\n",
       "    <tr>\n",
       "      <th>Number of Users</th>\n",
       "      <td>50057.000000</td>\n",
       "      <td>86439.000000</td>\n",
       "    </tr>\n",
       "    <tr>\n",
       "      <th>Share of Users</th>\n",
       "      <td>0.161306</td>\n",
       "      <td>0.278544</td>\n",
       "    </tr>\n",
       "    <tr>\n",
       "      <th>Avg. Number per user</th>\n",
       "      <td>1.443654</td>\n",
       "      <td>1.947188</td>\n",
       "    </tr>\n",
       "    <tr>\n",
       "      <th>Avg. Share per user</th>\n",
       "      <td>0.294775</td>\n",
       "      <td>0.307073</td>\n",
       "    </tr>\n",
       "  </tbody>\n",
       "</table>\n",
       "</div>"
      ],
      "text/plain": [
       "                      Consecutive item duplicates  \\\n",
       "Number of Users                      50057.000000   \n",
       "Share of Users                           0.161306   \n",
       "Avg. Number per user                     1.443654   \n",
       "Avg. Share per user                      0.294775   \n",
       "\n",
       "                      Non-unique item interactions  \n",
       "Number of Users                       86439.000000  \n",
       "Share of Users                            0.278544  \n",
       "Avg. Number per user                      1.947188  \n",
       "Avg. Share per user                       0.307073  "
      ]
     },
     "execution_count": 112,
     "metadata": {},
     "output_type": "execute_result"
    }
   ],
   "source": [
    "# Analyze duplicates in the raw dataset\n",
    "duplicates_stats(raw)"
   ]
  },
  {
   "cell_type": "markdown",
   "id": "81eadcda",
   "metadata": {},
   "source": [
    "The Diginetica dataset contains a noticeable number of duplicate interactions: 16% of users have consecutive item repeats, and 28% have item repeats in general.\n",
    "\n",
    "On average, users with consecutive duplicates have around 1.4 repeated items, which make up about 29% of their interactions. This could be problematic for sequential models, as they might end up learning to predict the same item multiple times."
   ]
  },
  {
   "cell_type": "markdown",
   "id": "23a537db",
   "metadata": {},
   "source": [
    "Let's apply 5-core filter to filter out short sequences and consecutive item repeats."
   ]
  },
  {
   "cell_type": "code",
   "execution_count": 113,
   "id": "081c3c1f",
   "metadata": {},
   "outputs": [],
   "source": [
    "# Preprocessing: 5-core filter to have longer sequences, remove consecutive duplicates.\n",
    "preprocessed = preprocess(data=raw, relevance=None, drop_conseq_repeats=True, verbose=False)"
   ]
  },
  {
   "cell_type": "code",
   "execution_count": 114,
   "id": "a600c7a7",
   "metadata": {},
   "outputs": [
    {
     "data": {
      "text/html": [
       "<div>\n",
       "<style scoped>\n",
       "    .dataframe tbody tr th:only-of-type {\n",
       "        vertical-align: middle;\n",
       "    }\n",
       "\n",
       "    .dataframe tbody tr th {\n",
       "        vertical-align: top;\n",
       "    }\n",
       "\n",
       "    .dataframe thead th {\n",
       "        text-align: right;\n",
       "    }\n",
       "</style>\n",
       "<table border=\"1\" class=\"dataframe\">\n",
       "  <thead>\n",
       "    <tr style=\"text-align: right;\">\n",
       "      <th></th>\n",
       "      <th>Consecutive item duplicates</th>\n",
       "      <th>Non-unique item interactions</th>\n",
       "    </tr>\n",
       "  </thead>\n",
       "  <tbody>\n",
       "    <tr>\n",
       "      <th>Number of Users</th>\n",
       "      <td>0.0</td>\n",
       "      <td>30845.000000</td>\n",
       "    </tr>\n",
       "    <tr>\n",
       "      <th>Share of Users</th>\n",
       "      <td>0.0</td>\n",
       "      <td>0.503354</td>\n",
       "    </tr>\n",
       "    <tr>\n",
       "      <th>Avg. Number per user</th>\n",
       "      <td>0.0</td>\n",
       "      <td>2.078003</td>\n",
       "    </tr>\n",
       "    <tr>\n",
       "      <th>Avg. Share per user</th>\n",
       "      <td>0.0</td>\n",
       "      <td>0.236929</td>\n",
       "    </tr>\n",
       "  </tbody>\n",
       "</table>\n",
       "</div>"
      ],
      "text/plain": [
       "                      Consecutive item duplicates  \\\n",
       "Number of Users                               0.0   \n",
       "Share of Users                                0.0   \n",
       "Avg. Number per user                          0.0   \n",
       "Avg. Share per user                           0.0   \n",
       "\n",
       "                      Non-unique item interactions  \n",
       "Number of Users                       30845.000000  \n",
       "Share of Users                            0.503354  \n",
       "Avg. Number per user                      2.078003  \n",
       "Avg. Share per user                       0.236929  "
      ]
     },
     "execution_count": 114,
     "metadata": {},
     "output_type": "execute_result"
    }
   ],
   "source": [
    "# Analyze duplicates in the preprocessed dataset\n",
    "duplicates_stats(preprocessed)"
   ]
  },
  {
   "cell_type": "markdown",
   "id": "a28eaea5",
   "metadata": {},
   "source": [
    "The updated statistics show that consecutive item duplicates have been completely removed (0% of users). \n",
    "\n",
    "However, we still see plenty of non-consecutive repeats. About half of all users (50.3%) revisit items at some point, with an average of 2 repeats per user. Interestingly, while more users show this behavior now compared to before, these repeats make up a smaller portion of their overall activity (23.7% vs previous 30.7%). This is probably due to increased sequence lengths and improved variability.  \n",
    "\n",
    "Finally, the near-elimination of timestamp duplicates confirms better data integrity."
   ]
  },
  {
   "cell_type": "code",
   "execution_count": 115,
   "id": "981810e4",
   "metadata": {},
   "outputs": [
    {
     "data": {
      "text/html": [
       "<div>\n",
       "<style scoped>\n",
       "    .dataframe tbody tr th:only-of-type {\n",
       "        vertical-align: middle;\n",
       "    }\n",
       "\n",
       "    .dataframe tbody tr th {\n",
       "        vertical-align: top;\n",
       "    }\n",
       "\n",
       "    .dataframe thead th {\n",
       "        text-align: right;\n",
       "    }\n",
       "</style>\n",
       "<table border=\"1\" class=\"dataframe\">\n",
       "  <thead>\n",
       "    <tr style=\"text-align: right;\">\n",
       "      <th></th>\n",
       "      <th>n_users</th>\n",
       "      <th>n_items</th>\n",
       "      <th>n_interactions</th>\n",
       "      <th>avg_seq_length</th>\n",
       "      <th>density</th>\n",
       "      <th>timeframe</th>\n",
       "    </tr>\n",
       "  </thead>\n",
       "  <tbody>\n",
       "    <tr>\n",
       "      <th>Raw</th>\n",
       "      <td>310324.0</td>\n",
       "      <td>122993.0</td>\n",
       "      <td>1235380.0</td>\n",
       "      <td>3.980936</td>\n",
       "      <td>0.000032</td>\n",
       "      <td>1.313399e+07</td>\n",
       "    </tr>\n",
       "    <tr>\n",
       "      <th>Prepr.</th>\n",
       "      <td>61279.0</td>\n",
       "      <td>25593.0</td>\n",
       "      <td>485903.0</td>\n",
       "      <td>7.929356</td>\n",
       "      <td>0.000310</td>\n",
       "      <td>1.313397e+07</td>\n",
       "    </tr>\n",
       "  </tbody>\n",
       "</table>\n",
       "</div>"
      ],
      "text/plain": [
       "         n_users   n_items  n_interactions  avg_seq_length   density  \\\n",
       "Raw     310324.0  122993.0       1235380.0        3.980936  0.000032   \n",
       "Prepr.   61279.0   25593.0        485903.0        7.929356  0.000310   \n",
       "\n",
       "           timeframe  \n",
       "Raw     1.313399e+07  \n",
       "Prepr.  1.313397e+07  "
      ]
     },
     "execution_count": 115,
     "metadata": {},
     "output_type": "execute_result"
    }
   ],
   "source": [
    "# Compare base statistics for both data variants\n",
    "compare_subsets([raw, preprocessed], subset_names=['Raw', 'Prepr.'])"
   ]
  },
  {
   "cell_type": "markdown",
   "id": "f9ec3b4b",
   "metadata": {},
   "source": [
    "After preprocessing, we still have sufficient number of user-item interactions to properly train a model. However, the data is now cleaner for sequential modeling, with no consecutive noise but preserved signals of revisitation behavior. "
   ]
  },
  {
   "cell_type": "markdown",
   "id": "bb7cc1e8",
   "metadata": {},
   "source": [
    "# Splitting: Leave-One-Out"
   ]
  },
  {
   "cell_type": "markdown",
   "id": "bd8ea92a",
   "metadata": {},
   "source": [
    "Let's consider leave-last-out splitting as one of the most popular splitting startegies. In this setup the division is the following:\n",
    "- Train: All interactions except the last two.\n",
    "- Validation holdout: The second-to-last interaction.\n",
    "- Test holdout: The last interaction.\n"
   ]
  },
  {
   "cell_type": "code",
   "execution_count": 116,
   "id": "fdfbb37a",
   "metadata": {},
   "outputs": [],
   "source": [
    "splitter = LeaveOneOutSplitter()\n",
    "\n",
    "train, validation_input, validation_target, test_input, test_target = splitter.split(preprocessed)"
   ]
  },
  {
   "cell_type": "markdown",
   "id": "f6078b38",
   "metadata": {},
   "source": [
    "# Data leakage analysis"
   ]
  },
  {
   "cell_type": "markdown",
   "id": "f772c383",
   "metadata": {},
   "source": [
    "Let's analyze the presence of data leaks in the resulting split. A leak occurs when a test or validation interaction takes place on or before the most recent timestamp of the same item_id in the reference_data (usually the training set)."
   ]
  },
  {
   "cell_type": "code",
   "execution_count": 117,
   "id": "346d6a68",
   "metadata": {},
   "outputs": [
    {
     "data": {
      "text/html": [
       "<div>\n",
       "<style scoped>\n",
       "    .dataframe tbody tr th:only-of-type {\n",
       "        vertical-align: middle;\n",
       "    }\n",
       "\n",
       "    .dataframe tbody tr th {\n",
       "        vertical-align: top;\n",
       "    }\n",
       "\n",
       "    .dataframe thead th {\n",
       "        text-align: right;\n",
       "    }\n",
       "</style>\n",
       "<table border=\"1\" class=\"dataframe\">\n",
       "  <thead>\n",
       "    <tr style=\"text-align: right;\">\n",
       "      <th></th>\n",
       "      <th>user_id</th>\n",
       "      <th>item_id</th>\n",
       "      <th>timestamp</th>\n",
       "      <th>timestamp_ref_max</th>\n",
       "      <th>is_leak</th>\n",
       "    </tr>\n",
       "  </thead>\n",
       "  <tbody>\n",
       "    <tr>\n",
       "      <th>0</th>\n",
       "      <td>0</td>\n",
       "      <td>9743</td>\n",
       "      <td>2016-05-09 00:18:32.408000000</td>\n",
       "      <td>2016-05-11 00:06:52.336999936</td>\n",
       "      <td>True</td>\n",
       "    </tr>\n",
       "    <tr>\n",
       "      <th>1</th>\n",
       "      <td>1</td>\n",
       "      <td>22666</td>\n",
       "      <td>2016-05-09 00:17:25.017999872</td>\n",
       "      <td>2016-05-24 00:00:22.652000000</td>\n",
       "      <td>True</td>\n",
       "    </tr>\n",
       "    <tr>\n",
       "      <th>2</th>\n",
       "      <td>2</td>\n",
       "      <td>11812</td>\n",
       "      <td>2016-05-09 00:07:12.980000000</td>\n",
       "      <td>2016-05-24 00:00:21.941999872</td>\n",
       "      <td>True</td>\n",
       "    </tr>\n",
       "    <tr>\n",
       "      <th>3</th>\n",
       "      <td>3</td>\n",
       "      <td>4488</td>\n",
       "      <td>2016-04-09 00:13:43.477999872</td>\n",
       "      <td>2016-05-24 00:17:20.144999936</td>\n",
       "      <td>True</td>\n",
       "    </tr>\n",
       "    <tr>\n",
       "      <th>4</th>\n",
       "      <td>4</td>\n",
       "      <td>18827</td>\n",
       "      <td>2016-04-03 00:07:53.943000064</td>\n",
       "      <td>2016-05-12 00:18:10.152000000</td>\n",
       "      <td>True</td>\n",
       "    </tr>\n",
       "  </tbody>\n",
       "</table>\n",
       "</div>"
      ],
      "text/plain": [
       "   user_id  item_id                     timestamp  \\\n",
       "0        0     9743 2016-05-09 00:18:32.408000000   \n",
       "1        1    22666 2016-05-09 00:17:25.017999872   \n",
       "2        2    11812 2016-05-09 00:07:12.980000000   \n",
       "3        3     4488 2016-04-09 00:13:43.477999872   \n",
       "4        4    18827 2016-04-03 00:07:53.943000064   \n",
       "\n",
       "              timestamp_ref_max  is_leak  \n",
       "0 2016-05-11 00:06:52.336999936     True  \n",
       "1 2016-05-24 00:00:22.652000000     True  \n",
       "2 2016-05-24 00:00:21.941999872     True  \n",
       "3 2016-05-24 00:17:20.144999936     True  \n",
       "4 2016-05-12 00:18:10.152000000     True  "
      ]
     },
     "execution_count": 117,
     "metadata": {},
     "output_type": "execute_result"
    }
   ],
   "source": [
    "# Detect leaks between test_target and train\n",
    "get_leaks(test_target, train).head(5)"
   ]
  },
  {
   "cell_type": "code",
   "execution_count": 118,
   "id": "2b82d99b",
   "metadata": {},
   "outputs": [
    {
     "data": {
      "text/plain": [
       "{'total_interactions': 61279,\n",
       " 'leak_interactions': 54550,\n",
       " 'leak_share': 0.8901907668206074}"
      ]
     },
     "execution_count": 118,
     "metadata": {},
     "output_type": "execute_result"
    }
   ],
   "source": [
    "# Count total number of leaks: 89% of test_target interactions are leaks\n",
    "leak_counts(test_target, train)"
   ]
  },
  {
   "cell_type": "code",
   "execution_count": 119,
   "id": "3210860b",
   "metadata": {},
   "outputs": [
    {
     "data": {
      "text/plain": [
       "{'total_interactions': timestamp\n",
       " 2016-01-31      273\n",
       " 2016-02-29     9355\n",
       " 2016-03-31    13043\n",
       " 2016-04-30    19100\n",
       " 2016-05-31    18809\n",
       " 2016-06-30      699\n",
       " Freq: M, Name: item_id, dtype: int64,\n",
       " 'leak_interactions': timestamp\n",
       " 2016-01-31      273\n",
       " 2016-02-29     9272\n",
       " 2016-03-31    12665\n",
       " 2016-04-30    17942\n",
       " 2016-05-31    14347\n",
       " 2016-06-30       51\n",
       " Freq: M, Name: is_leak, dtype: int64,\n",
       " 'leak_share': timestamp\n",
       " 2016-01-31    1.000000\n",
       " 2016-02-29    0.991128\n",
       " 2016-03-31    0.971019\n",
       " 2016-04-30    0.939372\n",
       " 2016-05-31    0.762773\n",
       " 2016-06-30    0.072961\n",
       " Freq: M, dtype: float64}"
      ]
     },
     "execution_count": 119,
     "metadata": {},
     "output_type": "execute_result"
    }
   ],
   "source": [
    "# Count number of leaks per each month (or other granularity) in test_target subset\n",
    "leak_counts(test_target, train, 'm')"
   ]
  },
  {
   "cell_type": "markdown",
   "id": "f7e77316",
   "metadata": {},
   "source": [
    "# Splitting: Global Temporal Split"
   ]
  },
  {
   "cell_type": "markdown",
   "id": "fa37a26b",
   "metadata": {},
   "source": [
    "Due to data leakage, the model gains access to future or otherwise unavailable information, which may cause unrealistically high performance during evaluation but poor real-world generalization.\n",
    "\n",
    "To prevent that, let's consider global temporal split that divides the dataset **based on timestamps** rather than user sessions. \n",
    "Here, all interactions before a certain quantile of the global timestamp distribution are assigned to the **training set**, while the rest are used for **validation** and **test**. This approach better reflects real-world scenarios, where future events should not influence model training.\n",
    "\n",
    "By default, `target_type=\"all\"`, which means that the holdout set includes all interactions occurring after the temporal threshold. In this setup, the test set consists of users who have at least one interaction before the threshold (input part) and one or more interactions after it (target part)."
   ]
  },
  {
   "cell_type": "code",
   "execution_count": 120,
   "id": "e0dc916c",
   "metadata": {},
   "outputs": [
    {
     "data": {
      "text/plain": [
       "{'total_interactions': 48591, 'leak_interactions': 0, 'leak_share': 0.0}"
      ]
     },
     "execution_count": 120,
     "metadata": {},
     "output_type": "execute_result"
    }
   ],
   "source": [
    "splitter = GlobalTimeSplitter(quantile=0.9, target_type='all') # 90th percentile as a threshold\n",
    "\n",
    "train, validation_input, validation_target, test_input, test_target = splitter.split(preprocessed)\n",
    "\n",
    "leak_counts(test_target, train)"
   ]
  },
  {
   "cell_type": "markdown",
   "id": "21f8984e",
   "metadata": {},
   "source": [
    "Indeed, we managed to eliminate data leakage! \n",
    "\n",
    "But what about data statistics?"
   ]
  },
  {
   "cell_type": "code",
   "execution_count": 121,
   "id": "c5a4632a",
   "metadata": {},
   "outputs": [
    {
     "data": {
      "text/html": [
       "<div>\n",
       "<style scoped>\n",
       "    .dataframe tbody tr th:only-of-type {\n",
       "        vertical-align: middle;\n",
       "    }\n",
       "\n",
       "    .dataframe tbody tr th {\n",
       "        vertical-align: top;\n",
       "    }\n",
       "\n",
       "    .dataframe thead tr th {\n",
       "        text-align: left;\n",
       "    }\n",
       "</style>\n",
       "<table border=\"1\" class=\"dataframe\">\n",
       "  <thead>\n",
       "    <tr>\n",
       "      <th></th>\n",
       "      <th colspan=\"2\" halign=\"left\">n_users</th>\n",
       "      <th colspan=\"2\" halign=\"left\">n_items</th>\n",
       "      <th colspan=\"2\" halign=\"left\">n_interactions</th>\n",
       "      <th colspan=\"2\" halign=\"left\">avg_seq_length</th>\n",
       "      <th colspan=\"2\" halign=\"left\">density</th>\n",
       "      <th colspan=\"2\" halign=\"left\">timeframe</th>\n",
       "    </tr>\n",
       "    <tr>\n",
       "      <th></th>\n",
       "      <th>Abs. value</th>\n",
       "      <th>%</th>\n",
       "      <th>Abs. value</th>\n",
       "      <th>%</th>\n",
       "      <th>Abs. value</th>\n",
       "      <th>%</th>\n",
       "      <th>Abs. value</th>\n",
       "      <th>%</th>\n",
       "      <th>Abs. value</th>\n",
       "      <th>%</th>\n",
       "      <th>Abs. value</th>\n",
       "      <th>%</th>\n",
       "    </tr>\n",
       "  </thead>\n",
       "  <tbody>\n",
       "    <tr>\n",
       "      <th>test target</th>\n",
       "      <td>6346.0</td>\n",
       "      <td>10.36</td>\n",
       "      <td>13885.0</td>\n",
       "      <td>54.25</td>\n",
       "      <td>48591.0</td>\n",
       "      <td>10.00</td>\n",
       "      <td>7.656949</td>\n",
       "      <td>96.56</td>\n",
       "      <td>0.000551</td>\n",
       "      <td>177.99</td>\n",
       "      <td>7.778496e+05</td>\n",
       "      <td>5.92</td>\n",
       "    </tr>\n",
       "    <tr>\n",
       "      <th>test input</th>\n",
       "      <td>216.0</td>\n",
       "      <td>0.35</td>\n",
       "      <td>1182.0</td>\n",
       "      <td>4.62</td>\n",
       "      <td>1541.0</td>\n",
       "      <td>0.32</td>\n",
       "      <td>7.134259</td>\n",
       "      <td>89.97</td>\n",
       "      <td>0.006036</td>\n",
       "      <td>1948.12</td>\n",
       "      <td>9.427770e+02</td>\n",
       "      <td>0.01</td>\n",
       "    </tr>\n",
       "    <tr>\n",
       "      <th>train</th>\n",
       "      <td>54648.0</td>\n",
       "      <td>89.18</td>\n",
       "      <td>25575.0</td>\n",
       "      <td>99.93</td>\n",
       "      <td>433360.0</td>\n",
       "      <td>89.19</td>\n",
       "      <td>7.930025</td>\n",
       "      <td>100.01</td>\n",
       "      <td>0.000310</td>\n",
       "      <td>100.08</td>\n",
       "      <td>1.235612e+07</td>\n",
       "      <td>94.08</td>\n",
       "    </tr>\n",
       "  </tbody>\n",
       "</table>\n",
       "</div>"
      ],
      "text/plain": [
       "               n_users           n_items        n_interactions         \\\n",
       "            Abs. value      % Abs. value      %     Abs. value      %   \n",
       "test target     6346.0  10.36    13885.0  54.25        48591.0  10.00   \n",
       "test input       216.0   0.35     1182.0   4.62         1541.0   0.32   \n",
       "train          54648.0  89.18    25575.0  99.93       433360.0  89.19   \n",
       "\n",
       "            avg_seq_length            density              timeframe         \n",
       "                Abs. value       % Abs. value        %    Abs. value      %  \n",
       "test target       7.656949   96.56   0.000551   177.99  7.778496e+05   5.92  \n",
       "test input        7.134259   89.97   0.006036  1948.12  9.427770e+02   0.01  \n",
       "train             7.930025  100.01   0.000310   100.08  1.235612e+07  94.08  "
      ]
     },
     "execution_count": 121,
     "metadata": {},
     "output_type": "execute_result"
    }
   ],
   "source": [
    "compare_subsets([test_target, test_input, train], preprocessed, subset_names=['test target', 'test input', 'train'])"
   ]
  },
  {
   "cell_type": "markdown",
   "id": "fbcd34a9",
   "metadata": {},
   "source": [
    "# Cold entities analysis"
   ]
  },
  {
   "cell_type": "markdown",
   "id": "cb550440",
   "metadata": {},
   "source": [
    "Since user interaction sequences in the Diginetica dataset are relatively short in time, only a small number of users have interactions that occur before the temporal threshold and can therefore serve as input.\n",
    "\n",
    "The remaining users lack any historical activity prior to the split and consequently provide no usable context — these are referred to as **cold users**, meaning users who appear only in the holdout (test) portion of the data without prior interactions in the training set.\n"
   ]
  },
  {
   "cell_type": "code",
   "execution_count": 122,
   "id": "8bd6fbdd",
   "metadata": {},
   "outputs": [
    {
     "data": {
      "text/html": [
       "<div>\n",
       "<style scoped>\n",
       "    .dataframe tbody tr th:only-of-type {\n",
       "        vertical-align: middle;\n",
       "    }\n",
       "\n",
       "    .dataframe tbody tr th {\n",
       "        vertical-align: top;\n",
       "    }\n",
       "\n",
       "    .dataframe thead th {\n",
       "        text-align: right;\n",
       "    }\n",
       "</style>\n",
       "<table border=\"1\" class=\"dataframe\">\n",
       "  <thead>\n",
       "    <tr style=\"text-align: right;\">\n",
       "      <th></th>\n",
       "      <th>user_id</th>\n",
       "      <th>item_id</th>\n",
       "      <th>timestamp</th>\n",
       "      <th>is_cold</th>\n",
       "    </tr>\n",
       "  </thead>\n",
       "  <tbody>\n",
       "    <tr>\n",
       "      <th>356</th>\n",
       "      <td>37</td>\n",
       "      <td>2820</td>\n",
       "      <td>1.464134e+09</td>\n",
       "      <td>True</td>\n",
       "    </tr>\n",
       "    <tr>\n",
       "      <th>357</th>\n",
       "      <td>37</td>\n",
       "      <td>2697</td>\n",
       "      <td>1.464135e+09</td>\n",
       "      <td>True</td>\n",
       "    </tr>\n",
       "    <tr>\n",
       "      <th>358</th>\n",
       "      <td>37</td>\n",
       "      <td>10897</td>\n",
       "      <td>1.464135e+09</td>\n",
       "      <td>True</td>\n",
       "    </tr>\n",
       "    <tr>\n",
       "      <th>359</th>\n",
       "      <td>37</td>\n",
       "      <td>5301</td>\n",
       "      <td>1.464135e+09</td>\n",
       "      <td>True</td>\n",
       "    </tr>\n",
       "    <tr>\n",
       "      <th>360</th>\n",
       "      <td>37</td>\n",
       "      <td>5510</td>\n",
       "      <td>1.464135e+09</td>\n",
       "      <td>True</td>\n",
       "    </tr>\n",
       "  </tbody>\n",
       "</table>\n",
       "</div>"
      ],
      "text/plain": [
       "     user_id  item_id     timestamp  is_cold\n",
       "356       37     2820  1.464134e+09     True\n",
       "357       37     2697  1.464135e+09     True\n",
       "358       37    10897  1.464135e+09     True\n",
       "359       37     5301  1.464135e+09     True\n",
       "360       37     5510  1.464135e+09     True"
      ]
     },
     "execution_count": 122,
     "metadata": {},
     "output_type": "execute_result"
    }
   ],
   "source": [
    "get_cold(test_target, train, 'user_id').head(5) # get cold flags: test_target compared to train"
   ]
  },
  {
   "cell_type": "code",
   "execution_count": 123,
   "id": "816d9f32",
   "metadata": {},
   "outputs": [
    {
     "data": {
      "text/html": [
       "<div>\n",
       "<style scoped>\n",
       "    .dataframe tbody tr th:only-of-type {\n",
       "        vertical-align: middle;\n",
       "    }\n",
       "\n",
       "    .dataframe tbody tr th {\n",
       "        vertical-align: top;\n",
       "    }\n",
       "\n",
       "    .dataframe thead th {\n",
       "        text-align: right;\n",
       "    }\n",
       "</style>\n",
       "<table border=\"1\" class=\"dataframe\">\n",
       "  <thead>\n",
       "    <tr style=\"text-align: right;\">\n",
       "      <th></th>\n",
       "      <th>Number</th>\n",
       "      <th>Share (by count)</th>\n",
       "      <th>Share (by interactions)</th>\n",
       "    </tr>\n",
       "  </thead>\n",
       "  <tbody>\n",
       "    <tr>\n",
       "      <th>Cold Users</th>\n",
       "      <td>6133</td>\n",
       "      <td>0.966436</td>\n",
       "      <td>0.990101</td>\n",
       "    </tr>\n",
       "    <tr>\n",
       "      <th>Cold Items</th>\n",
       "      <td>18</td>\n",
       "      <td>0.001296</td>\n",
       "      <td>0.002387</td>\n",
       "    </tr>\n",
       "  </tbody>\n",
       "</table>\n",
       "</div>"
      ],
      "text/plain": [
       "            Number  Share (by count)  Share (by interactions)\n",
       "Cold Users    6133          0.966436                 0.990101\n",
       "Cold Items      18          0.001296                 0.002387"
      ]
     },
     "execution_count": 123,
     "metadata": {},
     "output_type": "execute_result"
    }
   ],
   "source": [
    "cold_stats(test_target, train) # too many cold users, they account for 99% interactions"
   ]
  },
  {
   "cell_type": "code",
   "execution_count": 124,
   "id": "8629e8c9",
   "metadata": {},
   "outputs": [
    {
     "data": {
      "text/plain": [
       "{'total_interactions': 48591,\n",
       " 'cold_interactions': 48110,\n",
       " 'cold_share': 0.9901010475190879}"
      ]
     },
     "execution_count": 124,
     "metadata": {},
     "output_type": "execute_result"
    }
   ],
   "source": [
    "cold_counts(test_target, train, 'user_id') # get number of cold interactions"
   ]
  },
  {
   "cell_type": "markdown",
   "id": "57a0c309",
   "metadata": {},
   "source": [
    "## Adjusting for cold users and items\n",
    "\n",
    "We attempt to **remove cold users and items** entirely from the test split to create a cleaner evaluation scenario.  \n",
    "However, this usually reduces the number of interactions drastically, so we’ll verify how much data remains after such filtering."
   ]
  },
  {
   "cell_type": "code",
   "execution_count": 125,
   "id": "f94ebdb4",
   "metadata": {},
   "outputs": [],
   "source": [
    "splitter = GlobalTimeSplitter(quantile=0.9, remove_cold_users=True, remove_cold_items=True)\n",
    "train, validation_input, validation_target, test_input, test_target = splitter.split(preprocessed)"
   ]
  },
  {
   "cell_type": "code",
   "execution_count": 126,
   "id": "bf13f5dc",
   "metadata": {},
   "outputs": [
    {
     "data": {
      "text/html": [
       "<div>\n",
       "<style scoped>\n",
       "    .dataframe tbody tr th:only-of-type {\n",
       "        vertical-align: middle;\n",
       "    }\n",
       "\n",
       "    .dataframe tbody tr th {\n",
       "        vertical-align: top;\n",
       "    }\n",
       "\n",
       "    .dataframe thead tr th {\n",
       "        text-align: left;\n",
       "    }\n",
       "</style>\n",
       "<table border=\"1\" class=\"dataframe\">\n",
       "  <thead>\n",
       "    <tr>\n",
       "      <th></th>\n",
       "      <th colspan=\"2\" halign=\"left\">n_users</th>\n",
       "      <th colspan=\"2\" halign=\"left\">n_items</th>\n",
       "      <th colspan=\"2\" halign=\"left\">n_interactions</th>\n",
       "      <th colspan=\"2\" halign=\"left\">avg_seq_length</th>\n",
       "      <th colspan=\"2\" halign=\"left\">density</th>\n",
       "      <th colspan=\"2\" halign=\"left\">timeframe</th>\n",
       "    </tr>\n",
       "    <tr>\n",
       "      <th></th>\n",
       "      <th>Abs. value</th>\n",
       "      <th>%</th>\n",
       "      <th>Abs. value</th>\n",
       "      <th>%</th>\n",
       "      <th>Abs. value</th>\n",
       "      <th>%</th>\n",
       "      <th>Abs. value</th>\n",
       "      <th>%</th>\n",
       "      <th>Abs. value</th>\n",
       "      <th>%</th>\n",
       "      <th>Abs. value</th>\n",
       "      <th>%</th>\n",
       "    </tr>\n",
       "  </thead>\n",
       "  <tbody>\n",
       "    <tr>\n",
       "      <th>test target</th>\n",
       "      <td>216.0</td>\n",
       "      <td>0.35</td>\n",
       "      <td>454.0</td>\n",
       "      <td>1.77</td>\n",
       "      <td>492.0</td>\n",
       "      <td>0.10</td>\n",
       "      <td>2.277778</td>\n",
       "      <td>28.73</td>\n",
       "      <td>0.005017</td>\n",
       "      <td>1619.34</td>\n",
       "      <td>2.492880e+02</td>\n",
       "      <td>0.00</td>\n",
       "    </tr>\n",
       "    <tr>\n",
       "      <th>test input</th>\n",
       "      <td>216.0</td>\n",
       "      <td>0.35</td>\n",
       "      <td>1182.0</td>\n",
       "      <td>4.62</td>\n",
       "      <td>1541.0</td>\n",
       "      <td>0.32</td>\n",
       "      <td>7.134259</td>\n",
       "      <td>89.97</td>\n",
       "      <td>0.006036</td>\n",
       "      <td>1948.12</td>\n",
       "      <td>9.427770e+02</td>\n",
       "      <td>0.01</td>\n",
       "    </tr>\n",
       "    <tr>\n",
       "      <th>train</th>\n",
       "      <td>54648.0</td>\n",
       "      <td>89.18</td>\n",
       "      <td>25575.0</td>\n",
       "      <td>99.93</td>\n",
       "      <td>433360.0</td>\n",
       "      <td>89.19</td>\n",
       "      <td>7.930025</td>\n",
       "      <td>100.01</td>\n",
       "      <td>0.000310</td>\n",
       "      <td>100.08</td>\n",
       "      <td>1.235612e+07</td>\n",
       "      <td>94.08</td>\n",
       "    </tr>\n",
       "  </tbody>\n",
       "</table>\n",
       "</div>"
      ],
      "text/plain": [
       "               n_users           n_items        n_interactions         \\\n",
       "            Abs. value      % Abs. value      %     Abs. value      %   \n",
       "test target      216.0   0.35      454.0   1.77          492.0   0.10   \n",
       "test input       216.0   0.35     1182.0   4.62         1541.0   0.32   \n",
       "train          54648.0  89.18    25575.0  99.93       433360.0  89.19   \n",
       "\n",
       "            avg_seq_length            density              timeframe         \n",
       "                Abs. value       % Abs. value        %    Abs. value      %  \n",
       "test target       2.277778   28.73   0.005017  1619.34  2.492880e+02   0.00  \n",
       "test input        7.134259   89.97   0.006036  1948.12  9.427770e+02   0.01  \n",
       "train             7.930025  100.01   0.000310   100.08  1.235612e+07  94.08  "
      ]
     },
     "execution_count": 126,
     "metadata": {},
     "output_type": "execute_result"
    }
   ],
   "source": [
    "compare_subsets([test_target, test_input, train], preprocessed, subset_names=['test target', 'test input', 'train'])"
   ]
  },
  {
   "cell_type": "code",
   "execution_count": 127,
   "id": "d9d13ff2",
   "metadata": {},
   "outputs": [
    {
     "data": {
      "text/html": [
       "<div>\n",
       "<style scoped>\n",
       "    .dataframe tbody tr th:only-of-type {\n",
       "        vertical-align: middle;\n",
       "    }\n",
       "\n",
       "    .dataframe tbody tr th {\n",
       "        vertical-align: top;\n",
       "    }\n",
       "\n",
       "    .dataframe thead th {\n",
       "        text-align: right;\n",
       "    }\n",
       "</style>\n",
       "<table border=\"1\" class=\"dataframe\">\n",
       "  <thead>\n",
       "    <tr style=\"text-align: right;\">\n",
       "      <th></th>\n",
       "      <th>Number</th>\n",
       "      <th>Share (by count)</th>\n",
       "      <th>Share (by interactions)</th>\n",
       "    </tr>\n",
       "  </thead>\n",
       "  <tbody>\n",
       "    <tr>\n",
       "      <th>Cold Users</th>\n",
       "      <td>3</td>\n",
       "      <td>0.013889</td>\n",
       "      <td>0.02439</td>\n",
       "    </tr>\n",
       "    <tr>\n",
       "      <th>Cold Items</th>\n",
       "      <td>0</td>\n",
       "      <td>0.000000</td>\n",
       "      <td>0.00000</td>\n",
       "    </tr>\n",
       "  </tbody>\n",
       "</table>\n",
       "</div>"
      ],
      "text/plain": [
       "            Number  Share (by count)  Share (by interactions)\n",
       "Cold Users       3          0.013889                  0.02439\n",
       "Cold Items       0          0.000000                  0.00000"
      ]
     },
     "execution_count": 127,
     "metadata": {},
     "output_type": "execute_result"
    }
   ],
   "source": [
    "cold_stats(test_target, train)"
   ]
  },
  {
   "cell_type": "code",
   "execution_count": 128,
   "id": "77f81b09",
   "metadata": {},
   "outputs": [
    {
     "data": {
      "text/plain": [
       "{'total_interactions': 492,\n",
       " 'cold_interactions': 12,\n",
       " 'cold_share': 0.024390243902439025}"
      ]
     },
     "execution_count": 128,
     "metadata": {},
     "output_type": "execute_result"
    }
   ],
   "source": [
    "cold_counts(test_target, train, 'user_id') "
   ]
  },
  {
   "cell_type": "markdown",
   "id": "898c8bab",
   "metadata": {},
   "source": [
    "## Alternative approach: Changing target type\n",
    "\n",
    "Instead of filtering out cold entities, we modify the **target selection strategy**.\n",
    "\n",
    "\n",
    "By setting `target_type='random'`, a random interaction is chosen as the target for each user, while all preceding interactions are used as input..  \n",
    "This approach preserves enough interaction history in the test_input set for meaningful prediction, while still maintaining overall temporal consistency.\n",
    "\n",
    "Other possible target types are `first` and `last`, which select the earliest or most recent interaction after the threshold as the target, respectively."
   ]
  },
  {
   "cell_type": "code",
   "execution_count": 129,
   "id": "641a1859",
   "metadata": {},
   "outputs": [],
   "source": [
    "splitter = GlobalTimeSplitter(quantile=0.9, remove_cold_items=True, target_type='random')\n",
    "train, validation_input, validation_target, test_input, test_target = splitter.split(preprocessed)"
   ]
  },
  {
   "cell_type": "code",
   "execution_count": 130,
   "id": "8f5eaaab",
   "metadata": {},
   "outputs": [
    {
     "data": {
      "text/html": [
       "<div>\n",
       "<style scoped>\n",
       "    .dataframe tbody tr th:only-of-type {\n",
       "        vertical-align: middle;\n",
       "    }\n",
       "\n",
       "    .dataframe tbody tr th {\n",
       "        vertical-align: top;\n",
       "    }\n",
       "\n",
       "    .dataframe thead th {\n",
       "        text-align: right;\n",
       "    }\n",
       "</style>\n",
       "<table border=\"1\" class=\"dataframe\">\n",
       "  <thead>\n",
       "    <tr style=\"text-align: right;\">\n",
       "      <th></th>\n",
       "      <th>Number</th>\n",
       "      <th>Share (by count)</th>\n",
       "      <th>Share (by interactions)</th>\n",
       "    </tr>\n",
       "  </thead>\n",
       "  <tbody>\n",
       "    <tr>\n",
       "      <th>Cold Users</th>\n",
       "      <td>6133</td>\n",
       "      <td>0.966436</td>\n",
       "      <td>0.966436</td>\n",
       "    </tr>\n",
       "    <tr>\n",
       "      <th>Cold Items</th>\n",
       "      <td>0</td>\n",
       "      <td>0.000000</td>\n",
       "      <td>0.000000</td>\n",
       "    </tr>\n",
       "  </tbody>\n",
       "</table>\n",
       "</div>"
      ],
      "text/plain": [
       "            Number  Share (by count)  Share (by interactions)\n",
       "Cold Users    6133          0.966436                 0.966436\n",
       "Cold Items       0          0.000000                 0.000000"
      ]
     },
     "execution_count": 130,
     "metadata": {},
     "output_type": "execute_result"
    }
   ],
   "source": [
    "cold_stats(test_target, train) # compare test_target against test_input"
   ]
  },
  {
   "cell_type": "code",
   "execution_count": 131,
   "id": "04b65b8d",
   "metadata": {},
   "outputs": [
    {
     "data": {
      "text/html": [
       "<div>\n",
       "<style scoped>\n",
       "    .dataframe tbody tr th:only-of-type {\n",
       "        vertical-align: middle;\n",
       "    }\n",
       "\n",
       "    .dataframe tbody tr th {\n",
       "        vertical-align: top;\n",
       "    }\n",
       "\n",
       "    .dataframe thead th {\n",
       "        text-align: right;\n",
       "    }\n",
       "</style>\n",
       "<table border=\"1\" class=\"dataframe\">\n",
       "  <thead>\n",
       "    <tr style=\"text-align: right;\">\n",
       "      <th></th>\n",
       "      <th>Number</th>\n",
       "      <th>Share (by count)</th>\n",
       "      <th>Share (by interactions)</th>\n",
       "    </tr>\n",
       "  </thead>\n",
       "  <tbody>\n",
       "    <tr>\n",
       "      <th>Cold Users</th>\n",
       "      <td>0</td>\n",
       "      <td>0.00000</td>\n",
       "      <td>0.000000</td>\n",
       "    </tr>\n",
       "    <tr>\n",
       "      <th>Cold Items</th>\n",
       "      <td>1357</td>\n",
       "      <td>0.29936</td>\n",
       "      <td>0.232903</td>\n",
       "    </tr>\n",
       "  </tbody>\n",
       "</table>\n",
       "</div>"
      ],
      "text/plain": [
       "            Number  Share (by count)  Share (by interactions)\n",
       "Cold Users       0           0.00000                 0.000000\n",
       "Cold Items    1357           0.29936                 0.232903"
      ]
     },
     "execution_count": 131,
     "metadata": {},
     "output_type": "execute_result"
    }
   ],
   "source": [
    "cold_stats(test_target, test_input) # compare test_target against test_input"
   ]
  },
  {
   "cell_type": "markdown",
   "id": "a04fc235",
   "metadata": {},
   "source": [
    "As expected, some users in the target set now have all of their interactions occurring after the temporal threshold. These users appear in the `test_input` portion but are absent from the training set."
   ]
  },
  {
   "cell_type": "code",
   "execution_count": 132,
   "id": "6576fd9d",
   "metadata": {},
   "outputs": [
    {
     "data": {
      "text/html": [
       "<div>\n",
       "<style scoped>\n",
       "    .dataframe tbody tr th:only-of-type {\n",
       "        vertical-align: middle;\n",
       "    }\n",
       "\n",
       "    .dataframe tbody tr th {\n",
       "        vertical-align: top;\n",
       "    }\n",
       "\n",
       "    .dataframe thead tr th {\n",
       "        text-align: left;\n",
       "    }\n",
       "</style>\n",
       "<table border=\"1\" class=\"dataframe\">\n",
       "  <thead>\n",
       "    <tr>\n",
       "      <th></th>\n",
       "      <th colspan=\"2\" halign=\"left\">n_users</th>\n",
       "      <th colspan=\"2\" halign=\"left\">n_items</th>\n",
       "      <th colspan=\"2\" halign=\"left\">n_interactions</th>\n",
       "      <th colspan=\"2\" halign=\"left\">avg_seq_length</th>\n",
       "      <th colspan=\"2\" halign=\"left\">density</th>\n",
       "      <th colspan=\"2\" halign=\"left\">timeframe</th>\n",
       "    </tr>\n",
       "    <tr>\n",
       "      <th></th>\n",
       "      <th>Abs. value</th>\n",
       "      <th>%</th>\n",
       "      <th>Abs. value</th>\n",
       "      <th>%</th>\n",
       "      <th>Abs. value</th>\n",
       "      <th>%</th>\n",
       "      <th>Abs. value</th>\n",
       "      <th>%</th>\n",
       "      <th>Abs. value</th>\n",
       "      <th>%</th>\n",
       "      <th>Abs. value</th>\n",
       "      <th>%</th>\n",
       "    </tr>\n",
       "  </thead>\n",
       "  <tbody>\n",
       "    <tr>\n",
       "      <th>test target</th>\n",
       "      <td>6346.0</td>\n",
       "      <td>10.36</td>\n",
       "      <td>4533.0</td>\n",
       "      <td>17.71</td>\n",
       "      <td>6346.0</td>\n",
       "      <td>1.31</td>\n",
       "      <td>1.000000</td>\n",
       "      <td>12.61</td>\n",
       "      <td>0.000221</td>\n",
       "      <td>71.20</td>\n",
       "      <td>7.778461e+05</td>\n",
       "      <td>5.92</td>\n",
       "    </tr>\n",
       "    <tr>\n",
       "      <th>test input</th>\n",
       "      <td>6346.0</td>\n",
       "      <td>10.36</td>\n",
       "      <td>9895.0</td>\n",
       "      <td>38.66</td>\n",
       "      <td>25735.0</td>\n",
       "      <td>5.30</td>\n",
       "      <td>4.055310</td>\n",
       "      <td>51.14</td>\n",
       "      <td>0.000410</td>\n",
       "      <td>132.28</td>\n",
       "      <td>7.787236e+05</td>\n",
       "      <td>5.93</td>\n",
       "    </tr>\n",
       "    <tr>\n",
       "      <th>train</th>\n",
       "      <td>54648.0</td>\n",
       "      <td>89.18</td>\n",
       "      <td>25575.0</td>\n",
       "      <td>99.93</td>\n",
       "      <td>433360.0</td>\n",
       "      <td>89.19</td>\n",
       "      <td>7.930025</td>\n",
       "      <td>100.01</td>\n",
       "      <td>0.000310</td>\n",
       "      <td>100.08</td>\n",
       "      <td>1.235612e+07</td>\n",
       "      <td>94.08</td>\n",
       "    </tr>\n",
       "  </tbody>\n",
       "</table>\n",
       "</div>"
      ],
      "text/plain": [
       "               n_users           n_items        n_interactions         \\\n",
       "            Abs. value      % Abs. value      %     Abs. value      %   \n",
       "test target     6346.0  10.36     4533.0  17.71         6346.0   1.31   \n",
       "test input      6346.0  10.36     9895.0  38.66        25735.0   5.30   \n",
       "train          54648.0  89.18    25575.0  99.93       433360.0  89.19   \n",
       "\n",
       "            avg_seq_length            density             timeframe         \n",
       "                Abs. value       % Abs. value       %    Abs. value      %  \n",
       "test target       1.000000   12.61   0.000221   71.20  7.778461e+05   5.92  \n",
       "test input        4.055310   51.14   0.000410  132.28  7.787236e+05   5.93  \n",
       "train             7.930025  100.01   0.000310  100.08  1.235612e+07  94.08  "
      ]
     },
     "execution_count": 132,
     "metadata": {},
     "output_type": "execute_result"
    }
   ],
   "source": [
    "compare_subsets([test_target, test_input, train], preprocessed, subset_names=['test target', 'test input', 'train'])"
   ]
  },
  {
   "cell_type": "markdown",
   "id": "0f8d4ee7",
   "metadata": {},
   "source": [
    "# Temporal statistics"
   ]
  },
  {
   "cell_type": "markdown",
   "id": "2a91b8b7",
   "metadata": {},
   "source": [
    "Here, we observe another potential issue — the Diginetica dataset covers only the first six months of the year. This limited time span hinders recommendation quality in the long run, as it prevents the model from capturing seasonal patterns or yearly trends."
   ]
  },
  {
   "cell_type": "code",
   "execution_count": 133,
   "id": "56c641dd",
   "metadata": {},
   "outputs": [
    {
     "data": {
      "text/html": [
       "<div>\n",
       "<style scoped>\n",
       "    .dataframe tbody tr th:only-of-type {\n",
       "        vertical-align: middle;\n",
       "    }\n",
       "\n",
       "    .dataframe tbody tr th {\n",
       "        vertical-align: top;\n",
       "    }\n",
       "\n",
       "    .dataframe thead th {\n",
       "        text-align: right;\n",
       "    }\n",
       "</style>\n",
       "<table border=\"1\" class=\"dataframe\">\n",
       "  <thead>\n",
       "    <tr style=\"text-align: right;\">\n",
       "      <th></th>\n",
       "      <th>month</th>\n",
       "      <th>n_inters</th>\n",
       "    </tr>\n",
       "  </thead>\n",
       "  <tbody>\n",
       "    <tr>\n",
       "      <th>0</th>\n",
       "      <td>1</td>\n",
       "      <td>0.004724</td>\n",
       "    </tr>\n",
       "    <tr>\n",
       "      <th>1</th>\n",
       "      <td>2</td>\n",
       "      <td>0.168996</td>\n",
       "    </tr>\n",
       "    <tr>\n",
       "      <th>2</th>\n",
       "      <td>3</td>\n",
       "      <td>0.232656</td>\n",
       "    </tr>\n",
       "    <tr>\n",
       "      <th>3</th>\n",
       "      <td>4</td>\n",
       "      <td>0.352058</td>\n",
       "    </tr>\n",
       "    <tr>\n",
       "      <th>4</th>\n",
       "      <td>5</td>\n",
       "      <td>0.241566</td>\n",
       "    </tr>\n",
       "  </tbody>\n",
       "</table>\n",
       "</div>"
      ],
      "text/plain": [
       "   month  n_inters\n",
       "0      1  0.004724\n",
       "1      2  0.168996\n",
       "2      3  0.232656\n",
       "3      4  0.352058\n",
       "4      5  0.241566"
      ]
     },
     "execution_count": 133,
     "metadata": {},
     "output_type": "execute_result"
    }
   ],
   "source": [
    "time_counts(train, granularity='m', normalize=True) # calculate interactions by month"
   ]
  },
  {
   "cell_type": "markdown",
   "id": "09579530",
   "metadata": {},
   "source": [
    "What’s even more problematic is that the target set contains interactions from July — a month that never appears in the training data."
   ]
  },
  {
   "cell_type": "code",
   "execution_count": 134,
   "id": "a3f4c8a5",
   "metadata": {},
   "outputs": [
    {
     "data": {
      "text/html": [
       "<div>\n",
       "<style scoped>\n",
       "    .dataframe tbody tr th:only-of-type {\n",
       "        vertical-align: middle;\n",
       "    }\n",
       "\n",
       "    .dataframe tbody tr th {\n",
       "        vertical-align: top;\n",
       "    }\n",
       "\n",
       "    .dataframe thead th {\n",
       "        text-align: right;\n",
       "    }\n",
       "</style>\n",
       "<table border=\"1\" class=\"dataframe\">\n",
       "  <thead>\n",
       "    <tr style=\"text-align: right;\">\n",
       "      <th></th>\n",
       "      <th>month</th>\n",
       "      <th>n_inters</th>\n",
       "    </tr>\n",
       "  </thead>\n",
       "  <tbody>\n",
       "    <tr>\n",
       "      <th>0</th>\n",
       "      <td>5</td>\n",
       "      <td>0.889852</td>\n",
       "    </tr>\n",
       "    <tr>\n",
       "      <th>1</th>\n",
       "      <td>6</td>\n",
       "      <td>0.110148</td>\n",
       "    </tr>\n",
       "  </tbody>\n",
       "</table>\n",
       "</div>"
      ],
      "text/plain": [
       "   month  n_inters\n",
       "0      5  0.889852\n",
       "1      6  0.110148"
      ]
     },
     "execution_count": 134,
     "metadata": {},
     "output_type": "execute_result"
    }
   ],
   "source": [
    "time_counts(test_target, granularity='m', normalize=True)"
   ]
  },
  {
   "cell_type": "code",
   "execution_count": 135,
   "id": "c6a35450",
   "metadata": {},
   "outputs": [
    {
     "data": {
      "application/vnd.plotly.v1+json": {
       "config": {
        "plotlyServerURL": "https://plot.ly"
       },
       "data": [
        {
         "alignmentgroup": "True",
         "hovertemplate": "subset=Train<br>timestamp=%{x}<br>n_inters=%{y}<extra></extra>",
         "legendgroup": "Train",
         "marker": {
          "color": "#636efa",
          "pattern": {
           "shape": ""
          }
         },
         "name": "Train",
         "offsetgroup": "Train",
         "orientation": "v",
         "showlegend": true,
         "textposition": "auto",
         "type": "bar",
         "x": [
          "2016-01-31T00:00:00",
          "2016-02-29T00:00:00",
          "2016-03-31T00:00:00",
          "2016-04-30T00:00:00",
          "2016-05-31T00:00:00"
         ],
         "xaxis": "x",
         "y": [
          2047,
          73236,
          100824,
          152568,
          104685
         ],
         "yaxis": "y"
        },
        {
         "alignmentgroup": "True",
         "hovertemplate": "subset=Test Target<br>timestamp=%{x}<br>n_inters=%{y}<extra></extra>",
         "legendgroup": "Test Target",
         "marker": {
          "color": "#EF553B",
          "pattern": {
           "shape": ""
          }
         },
         "name": "Test Target",
         "offsetgroup": "Test Target",
         "orientation": "v",
         "showlegend": true,
         "textposition": "auto",
         "type": "bar",
         "x": [
          "2016-05-31T00:00:00",
          "2016-06-30T00:00:00"
         ],
         "xaxis": "x",
         "y": [
          5647,
          699
         ],
         "yaxis": "y"
        }
       ],
       "layout": {
        "barmode": "relative",
        "legend": {
         "title": {
          "text": "subset"
         },
         "tracegroupgap": 0
        },
        "margin": {
         "t": 60
        },
        "template": {
         "data": {
          "bar": [
           {
            "error_x": {
             "color": "#2a3f5f"
            },
            "error_y": {
             "color": "#2a3f5f"
            },
            "marker": {
             "line": {
              "color": "#E5ECF6",
              "width": 0.5
             },
             "pattern": {
              "fillmode": "overlay",
              "size": 10,
              "solidity": 0.2
             }
            },
            "type": "bar"
           }
          ],
          "barpolar": [
           {
            "marker": {
             "line": {
              "color": "#E5ECF6",
              "width": 0.5
             },
             "pattern": {
              "fillmode": "overlay",
              "size": 10,
              "solidity": 0.2
             }
            },
            "type": "barpolar"
           }
          ],
          "carpet": [
           {
            "aaxis": {
             "endlinecolor": "#2a3f5f",
             "gridcolor": "white",
             "linecolor": "white",
             "minorgridcolor": "white",
             "startlinecolor": "#2a3f5f"
            },
            "baxis": {
             "endlinecolor": "#2a3f5f",
             "gridcolor": "white",
             "linecolor": "white",
             "minorgridcolor": "white",
             "startlinecolor": "#2a3f5f"
            },
            "type": "carpet"
           }
          ],
          "choropleth": [
           {
            "colorbar": {
             "outlinewidth": 0,
             "ticks": ""
            },
            "type": "choropleth"
           }
          ],
          "contour": [
           {
            "colorbar": {
             "outlinewidth": 0,
             "ticks": ""
            },
            "colorscale": [
             [
              0,
              "#0d0887"
             ],
             [
              0.1111111111111111,
              "#46039f"
             ],
             [
              0.2222222222222222,
              "#7201a8"
             ],
             [
              0.3333333333333333,
              "#9c179e"
             ],
             [
              0.4444444444444444,
              "#bd3786"
             ],
             [
              0.5555555555555556,
              "#d8576b"
             ],
             [
              0.6666666666666666,
              "#ed7953"
             ],
             [
              0.7777777777777778,
              "#fb9f3a"
             ],
             [
              0.8888888888888888,
              "#fdca26"
             ],
             [
              1,
              "#f0f921"
             ]
            ],
            "type": "contour"
           }
          ],
          "contourcarpet": [
           {
            "colorbar": {
             "outlinewidth": 0,
             "ticks": ""
            },
            "type": "contourcarpet"
           }
          ],
          "heatmap": [
           {
            "colorbar": {
             "outlinewidth": 0,
             "ticks": ""
            },
            "colorscale": [
             [
              0,
              "#0d0887"
             ],
             [
              0.1111111111111111,
              "#46039f"
             ],
             [
              0.2222222222222222,
              "#7201a8"
             ],
             [
              0.3333333333333333,
              "#9c179e"
             ],
             [
              0.4444444444444444,
              "#bd3786"
             ],
             [
              0.5555555555555556,
              "#d8576b"
             ],
             [
              0.6666666666666666,
              "#ed7953"
             ],
             [
              0.7777777777777778,
              "#fb9f3a"
             ],
             [
              0.8888888888888888,
              "#fdca26"
             ],
             [
              1,
              "#f0f921"
             ]
            ],
            "type": "heatmap"
           }
          ],
          "heatmapgl": [
           {
            "colorbar": {
             "outlinewidth": 0,
             "ticks": ""
            },
            "colorscale": [
             [
              0,
              "#0d0887"
             ],
             [
              0.1111111111111111,
              "#46039f"
             ],
             [
              0.2222222222222222,
              "#7201a8"
             ],
             [
              0.3333333333333333,
              "#9c179e"
             ],
             [
              0.4444444444444444,
              "#bd3786"
             ],
             [
              0.5555555555555556,
              "#d8576b"
             ],
             [
              0.6666666666666666,
              "#ed7953"
             ],
             [
              0.7777777777777778,
              "#fb9f3a"
             ],
             [
              0.8888888888888888,
              "#fdca26"
             ],
             [
              1,
              "#f0f921"
             ]
            ],
            "type": "heatmapgl"
           }
          ],
          "histogram": [
           {
            "marker": {
             "pattern": {
              "fillmode": "overlay",
              "size": 10,
              "solidity": 0.2
             }
            },
            "type": "histogram"
           }
          ],
          "histogram2d": [
           {
            "colorbar": {
             "outlinewidth": 0,
             "ticks": ""
            },
            "colorscale": [
             [
              0,
              "#0d0887"
             ],
             [
              0.1111111111111111,
              "#46039f"
             ],
             [
              0.2222222222222222,
              "#7201a8"
             ],
             [
              0.3333333333333333,
              "#9c179e"
             ],
             [
              0.4444444444444444,
              "#bd3786"
             ],
             [
              0.5555555555555556,
              "#d8576b"
             ],
             [
              0.6666666666666666,
              "#ed7953"
             ],
             [
              0.7777777777777778,
              "#fb9f3a"
             ],
             [
              0.8888888888888888,
              "#fdca26"
             ],
             [
              1,
              "#f0f921"
             ]
            ],
            "type": "histogram2d"
           }
          ],
          "histogram2dcontour": [
           {
            "colorbar": {
             "outlinewidth": 0,
             "ticks": ""
            },
            "colorscale": [
             [
              0,
              "#0d0887"
             ],
             [
              0.1111111111111111,
              "#46039f"
             ],
             [
              0.2222222222222222,
              "#7201a8"
             ],
             [
              0.3333333333333333,
              "#9c179e"
             ],
             [
              0.4444444444444444,
              "#bd3786"
             ],
             [
              0.5555555555555556,
              "#d8576b"
             ],
             [
              0.6666666666666666,
              "#ed7953"
             ],
             [
              0.7777777777777778,
              "#fb9f3a"
             ],
             [
              0.8888888888888888,
              "#fdca26"
             ],
             [
              1,
              "#f0f921"
             ]
            ],
            "type": "histogram2dcontour"
           }
          ],
          "mesh3d": [
           {
            "colorbar": {
             "outlinewidth": 0,
             "ticks": ""
            },
            "type": "mesh3d"
           }
          ],
          "parcoords": [
           {
            "line": {
             "colorbar": {
              "outlinewidth": 0,
              "ticks": ""
             }
            },
            "type": "parcoords"
           }
          ],
          "pie": [
           {
            "automargin": true,
            "type": "pie"
           }
          ],
          "scatter": [
           {
            "fillpattern": {
             "fillmode": "overlay",
             "size": 10,
             "solidity": 0.2
            },
            "type": "scatter"
           }
          ],
          "scatter3d": [
           {
            "line": {
             "colorbar": {
              "outlinewidth": 0,
              "ticks": ""
             }
            },
            "marker": {
             "colorbar": {
              "outlinewidth": 0,
              "ticks": ""
             }
            },
            "type": "scatter3d"
           }
          ],
          "scattercarpet": [
           {
            "marker": {
             "colorbar": {
              "outlinewidth": 0,
              "ticks": ""
             }
            },
            "type": "scattercarpet"
           }
          ],
          "scattergeo": [
           {
            "marker": {
             "colorbar": {
              "outlinewidth": 0,
              "ticks": ""
             }
            },
            "type": "scattergeo"
           }
          ],
          "scattergl": [
           {
            "marker": {
             "colorbar": {
              "outlinewidth": 0,
              "ticks": ""
             }
            },
            "type": "scattergl"
           }
          ],
          "scattermapbox": [
           {
            "marker": {
             "colorbar": {
              "outlinewidth": 0,
              "ticks": ""
             }
            },
            "type": "scattermapbox"
           }
          ],
          "scatterpolar": [
           {
            "marker": {
             "colorbar": {
              "outlinewidth": 0,
              "ticks": ""
             }
            },
            "type": "scatterpolar"
           }
          ],
          "scatterpolargl": [
           {
            "marker": {
             "colorbar": {
              "outlinewidth": 0,
              "ticks": ""
             }
            },
            "type": "scatterpolargl"
           }
          ],
          "scatterternary": [
           {
            "marker": {
             "colorbar": {
              "outlinewidth": 0,
              "ticks": ""
             }
            },
            "type": "scatterternary"
           }
          ],
          "surface": [
           {
            "colorbar": {
             "outlinewidth": 0,
             "ticks": ""
            },
            "colorscale": [
             [
              0,
              "#0d0887"
             ],
             [
              0.1111111111111111,
              "#46039f"
             ],
             [
              0.2222222222222222,
              "#7201a8"
             ],
             [
              0.3333333333333333,
              "#9c179e"
             ],
             [
              0.4444444444444444,
              "#bd3786"
             ],
             [
              0.5555555555555556,
              "#d8576b"
             ],
             [
              0.6666666666666666,
              "#ed7953"
             ],
             [
              0.7777777777777778,
              "#fb9f3a"
             ],
             [
              0.8888888888888888,
              "#fdca26"
             ],
             [
              1,
              "#f0f921"
             ]
            ],
            "type": "surface"
           }
          ],
          "table": [
           {
            "cells": {
             "fill": {
              "color": "#EBF0F8"
             },
             "line": {
              "color": "white"
             }
            },
            "header": {
             "fill": {
              "color": "#C8D4E3"
             },
             "line": {
              "color": "white"
             }
            },
            "type": "table"
           }
          ]
         },
         "layout": {
          "annotationdefaults": {
           "arrowcolor": "#2a3f5f",
           "arrowhead": 0,
           "arrowwidth": 1
          },
          "autotypenumbers": "strict",
          "coloraxis": {
           "colorbar": {
            "outlinewidth": 0,
            "ticks": ""
           }
          },
          "colorscale": {
           "diverging": [
            [
             0,
             "#8e0152"
            ],
            [
             0.1,
             "#c51b7d"
            ],
            [
             0.2,
             "#de77ae"
            ],
            [
             0.3,
             "#f1b6da"
            ],
            [
             0.4,
             "#fde0ef"
            ],
            [
             0.5,
             "#f7f7f7"
            ],
            [
             0.6,
             "#e6f5d0"
            ],
            [
             0.7,
             "#b8e186"
            ],
            [
             0.8,
             "#7fbc41"
            ],
            [
             0.9,
             "#4d9221"
            ],
            [
             1,
             "#276419"
            ]
           ],
           "sequential": [
            [
             0,
             "#0d0887"
            ],
            [
             0.1111111111111111,
             "#46039f"
            ],
            [
             0.2222222222222222,
             "#7201a8"
            ],
            [
             0.3333333333333333,
             "#9c179e"
            ],
            [
             0.4444444444444444,
             "#bd3786"
            ],
            [
             0.5555555555555556,
             "#d8576b"
            ],
            [
             0.6666666666666666,
             "#ed7953"
            ],
            [
             0.7777777777777778,
             "#fb9f3a"
            ],
            [
             0.8888888888888888,
             "#fdca26"
            ],
            [
             1,
             "#f0f921"
            ]
           ],
           "sequentialminus": [
            [
             0,
             "#0d0887"
            ],
            [
             0.1111111111111111,
             "#46039f"
            ],
            [
             0.2222222222222222,
             "#7201a8"
            ],
            [
             0.3333333333333333,
             "#9c179e"
            ],
            [
             0.4444444444444444,
             "#bd3786"
            ],
            [
             0.5555555555555556,
             "#d8576b"
            ],
            [
             0.6666666666666666,
             "#ed7953"
            ],
            [
             0.7777777777777778,
             "#fb9f3a"
            ],
            [
             0.8888888888888888,
             "#fdca26"
            ],
            [
             1,
             "#f0f921"
            ]
           ]
          },
          "colorway": [
           "#636efa",
           "#EF553B",
           "#00cc96",
           "#ab63fa",
           "#FFA15A",
           "#19d3f3",
           "#FF6692",
           "#B6E880",
           "#FF97FF",
           "#FECB52"
          ],
          "font": {
           "color": "#2a3f5f"
          },
          "geo": {
           "bgcolor": "white",
           "lakecolor": "white",
           "landcolor": "#E5ECF6",
           "showlakes": true,
           "showland": true,
           "subunitcolor": "white"
          },
          "hoverlabel": {
           "align": "left"
          },
          "hovermode": "closest",
          "mapbox": {
           "style": "light"
          },
          "paper_bgcolor": "white",
          "plot_bgcolor": "#E5ECF6",
          "polar": {
           "angularaxis": {
            "gridcolor": "white",
            "linecolor": "white",
            "ticks": ""
           },
           "bgcolor": "#E5ECF6",
           "radialaxis": {
            "gridcolor": "white",
            "linecolor": "white",
            "ticks": ""
           }
          },
          "scene": {
           "xaxis": {
            "backgroundcolor": "#E5ECF6",
            "gridcolor": "white",
            "gridwidth": 2,
            "linecolor": "white",
            "showbackground": true,
            "ticks": "",
            "zerolinecolor": "white"
           },
           "yaxis": {
            "backgroundcolor": "#E5ECF6",
            "gridcolor": "white",
            "gridwidth": 2,
            "linecolor": "white",
            "showbackground": true,
            "ticks": "",
            "zerolinecolor": "white"
           },
           "zaxis": {
            "backgroundcolor": "#E5ECF6",
            "gridcolor": "white",
            "gridwidth": 2,
            "linecolor": "white",
            "showbackground": true,
            "ticks": "",
            "zerolinecolor": "white"
           }
          },
          "shapedefaults": {
           "line": {
            "color": "#2a3f5f"
           }
          },
          "ternary": {
           "aaxis": {
            "gridcolor": "white",
            "linecolor": "white",
            "ticks": ""
           },
           "baxis": {
            "gridcolor": "white",
            "linecolor": "white",
            "ticks": ""
           },
           "bgcolor": "#E5ECF6",
           "caxis": {
            "gridcolor": "white",
            "linecolor": "white",
            "ticks": ""
           }
          },
          "title": {
           "x": 0.05
          },
          "xaxis": {
           "automargin": true,
           "gridcolor": "white",
           "linecolor": "white",
           "ticks": "",
           "title": {
            "standoff": 15
           },
           "zerolinecolor": "white",
           "zerolinewidth": 2
          },
          "yaxis": {
           "automargin": true,
           "gridcolor": "white",
           "linecolor": "white",
           "ticks": "",
           "title": {
            "standoff": 15
           },
           "zerolinecolor": "white",
           "zerolinewidth": 2
          }
         }
        },
        "xaxis": {
         "anchor": "y",
         "domain": [
          0,
          1
         ],
         "title": {
          "text": "timestamp"
         }
        },
        "yaxis": {
         "anchor": "x",
         "domain": [
          0,
          1
         ],
         "title": {
          "text": "n_inters"
         }
        }
       }
      }
     },
     "metadata": {},
     "output_type": "display_data"
    }
   ],
   "source": [
    "plot_inters_px([train, test_target], granularity=\"m\", labels=[\"Train\", \"Test Target\"])"
   ]
  }
 ],
 "metadata": {
  "kernelspec": {
   "display_name": "base",
   "language": "python",
   "name": "python3"
  },
  "language_info": {
   "codemirror_mode": {
    "name": "ipython",
    "version": 3
   },
   "file_extension": ".py",
   "mimetype": "text/x-python",
   "name": "python",
   "nbconvert_exporter": "python",
   "pygments_lexer": "ipython3",
   "version": "3.9.13"
  }
 },
 "nbformat": 4,
 "nbformat_minor": 5
}
