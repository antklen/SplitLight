{
 "cells": [
  {
   "cell_type": "code",
   "execution_count": 1,
   "id": "4a9a0d56",
   "metadata": {},
   "outputs": [],
   "source": [
    "import pandas as pd\n",
    "import numpy as np\n",
    "from matplotlib import pyplot as plt\n",
    "\n",
    "from src.preprocess.utils import rename_cols\n",
    "from src.preprocess.pipeline import preprocess\n",
    "\n",
    "from src.splits import LeaveOneOutSplitter, GlobalTimeSplitter\n",
    "\n",
    "from src.stats.base import base_stats, compare_subsets, temporal_stats\n",
    "\n",
    "from src.stats.temporal import time_counts\n",
    "from src.stats.plots import plot_inters_px, plot_inters_scatter"
   ]
  },
  {
   "cell_type": "markdown",
   "id": "0984a3fd",
   "metadata": {},
   "source": [
    "# Core and Temporal Statistics"
   ]
  },
  {
   "cell_type": "code",
   "execution_count": 2,
   "id": "e7afdad1",
   "metadata": {},
   "outputs": [
    {
     "name": "stdout",
     "output_type": "stream",
     "text": [
      "   user_id  item_id  ratings  timestamp\n",
      "0        1     1193        5  978300760\n",
      "1        1      661        3  978302109\n",
      "2        1      914        3  978301968\n",
      "3        1     3408        4  978300275\n",
      "4        1     2355        5  978824291\n"
     ]
    }
   ],
   "source": [
    "# Load Dataset\n",
    "movielens = pd.read_csv('data/Movielens-1m/raw.csv')\n",
    "\n",
    "print(movielens.head())"
   ]
  },
  {
   "cell_type": "markdown",
   "id": "708ff85f",
   "metadata": {},
   "source": [
    "### Base stats inspection"
   ]
  },
  {
   "cell_type": "code",
   "execution_count": 3,
   "id": "8c06b3c1",
   "metadata": {},
   "outputs": [
    {
     "data": {
      "text/html": [
       "<div>\n",
       "<style scoped>\n",
       "    .dataframe tbody tr th:only-of-type {\n",
       "        vertical-align: middle;\n",
       "    }\n",
       "\n",
       "    .dataframe tbody tr th {\n",
       "        vertical-align: top;\n",
       "    }\n",
       "\n",
       "    .dataframe thead th {\n",
       "        text-align: right;\n",
       "    }\n",
       "</style>\n",
       "<table border=\"1\" class=\"dataframe\">\n",
       "  <thead>\n",
       "    <tr style=\"text-align: right;\">\n",
       "      <th></th>\n",
       "      <th>n_users</th>\n",
       "      <th>n_items</th>\n",
       "      <th>n_interactions</th>\n",
       "      <th>avg_seq_length</th>\n",
       "      <th>density</th>\n",
       "      <th>timeframe</th>\n",
       "    </tr>\n",
       "  </thead>\n",
       "  <tbody>\n",
       "    <tr>\n",
       "      <th>0</th>\n",
       "      <td>6040</td>\n",
       "      <td>3706</td>\n",
       "      <td>1000209</td>\n",
       "      <td>165.597517</td>\n",
       "      <td>0.044684</td>\n",
       "      <td>89750658</td>\n",
       "    </tr>\n",
       "  </tbody>\n",
       "</table>\n",
       "</div>"
      ],
      "text/plain": [
       "   n_users  n_items  n_interactions  avg_seq_length   density  timeframe\n",
       "0     6040     3706         1000209      165.597517  0.044684   89750658"
      ]
     },
     "execution_count": 3,
     "metadata": {},
     "output_type": "execute_result"
    }
   ],
   "source": [
    "# Let's start by looking at some basic information about our dataset\n",
    "\n",
    "base_stats(movielens)"
   ]
  },
  {
   "cell_type": "code",
   "execution_count": 4,
   "id": "dbb37382",
   "metadata": {},
   "outputs": [
    {
     "data": {
      "text/html": [
       "<div>\n",
       "<style scoped>\n",
       "    .dataframe tbody tr th:only-of-type {\n",
       "        vertical-align: middle;\n",
       "    }\n",
       "\n",
       "    .dataframe tbody tr th {\n",
       "        vertical-align: top;\n",
       "    }\n",
       "\n",
       "    .dataframe thead th {\n",
       "        text-align: right;\n",
       "    }\n",
       "</style>\n",
       "<table border=\"1\" class=\"dataframe\">\n",
       "  <thead>\n",
       "    <tr style=\"text-align: right;\">\n",
       "      <th></th>\n",
       "      <th>n_users</th>\n",
       "      <th>n_items</th>\n",
       "      <th>n_interactions</th>\n",
       "      <th>avg_seq_length</th>\n",
       "      <th>density</th>\n",
       "      <th>timeframe</th>\n",
       "      <th>max_timestamp</th>\n",
       "      <th>min_timestamp</th>\n",
       "      <th>mean_time_between_interactions</th>\n",
       "      <th>median_time_between_interactions</th>\n",
       "      <th>...</th>\n",
       "      <th>mean_user_lifetime, %</th>\n",
       "      <th>mean_item_lifetime</th>\n",
       "      <th>median_item_lifetime</th>\n",
       "      <th>mean_item_lifetime, %</th>\n",
       "      <th>timestamp_collisions</th>\n",
       "      <th>timestamp_collisions, %</th>\n",
       "      <th>mean_item_occurrence</th>\n",
       "      <th>median_item_occurrence</th>\n",
       "      <th>mean_user_activity</th>\n",
       "      <th>median_user_activity</th>\n",
       "    </tr>\n",
       "  </thead>\n",
       "  <tbody>\n",
       "    <tr>\n",
       "      <th>0</th>\n",
       "      <td>6040</td>\n",
       "      <td>3706</td>\n",
       "      <td>1000209</td>\n",
       "      <td>165.597517</td>\n",
       "      <td>0.044684</td>\n",
       "      <td>89750658</td>\n",
       "      <td>1046454590</td>\n",
       "      <td>956703932</td>\n",
       "      <td>49865.742294</td>\n",
       "      <td>0.0</td>\n",
       "      <td>...</td>\n",
       "      <td>9.145089</td>\n",
       "      <td>6.857192e+07</td>\n",
       "      <td>79996300.0</td>\n",
       "      <td>76.402693</td>\n",
       "      <td>529046</td>\n",
       "      <td>52.893545</td>\n",
       "      <td>269.889099</td>\n",
       "      <td>123.5</td>\n",
       "      <td>165.597517</td>\n",
       "      <td>96.0</td>\n",
       "    </tr>\n",
       "  </tbody>\n",
       "</table>\n",
       "<p>1 rows × 22 columns</p>\n",
       "</div>"
      ],
      "text/plain": [
       "   n_users  n_items  n_interactions  avg_seq_length   density  timeframe  \\\n",
       "0     6040     3706         1000209      165.597517  0.044684   89750658   \n",
       "\n",
       "   max_timestamp  min_timestamp  mean_time_between_interactions  \\\n",
       "0     1046454590      956703932                    49865.742294   \n",
       "\n",
       "   median_time_between_interactions  ...  mean_user_lifetime, %  \\\n",
       "0                               0.0  ...               9.145089   \n",
       "\n",
       "   mean_item_lifetime  median_item_lifetime  mean_item_lifetime, %  \\\n",
       "0        6.857192e+07            79996300.0              76.402693   \n",
       "\n",
       "   timestamp_collisions  timestamp_collisions, %  mean_item_occurrence  \\\n",
       "0                529046                52.893545            269.889099   \n",
       "\n",
       "   median_item_occurrence  mean_user_activity  median_user_activity  \n",
       "0                   123.5          165.597517                  96.0  \n",
       "\n",
       "[1 rows x 22 columns]"
      ]
     },
     "execution_count": 4,
     "metadata": {},
     "output_type": "execute_result"
    }
   ],
   "source": [
    "# Extended stats give us more info, like interaction percentiles and temporal gaps\n",
    "\n",
    "base_stats(movielens, extended=True)"
   ]
  },
  {
   "cell_type": "markdown",
   "id": "5578205e",
   "metadata": {},
   "source": [
    "### Let's Split our Dataset!"
   ]
  },
  {
   "cell_type": "code",
   "execution_count": 5,
   "id": "5bdea4f3",
   "metadata": {},
   "outputs": [],
   "source": [
    "# We'll split the data by time. Older interactions go into training, newer ones go into test.\n",
    "# This simulates real-world scenarios where we predict future behavior based on past behavior.\n",
    "\n",
    "splitter = GlobalTimeSplitter(\n",
    "    quantile=0.9,            # Use 90th percentile of timestamp as cutoff\n",
    "    remove_cold_users=True,  # Exclude users unseen before validation/test\n",
    "    target_type=\"all\"        # Use all future interactions\n",
    ")\n",
    "\n",
    "# The splitter returns five datasets:\n",
    "train, validation_input, validation_target, test_input, test_target = splitter.split(movielens)"
   ]
  },
  {
   "cell_type": "code",
   "execution_count": 6,
   "id": "9795f3fc",
   "metadata": {},
   "outputs": [
    {
     "data": {
      "text/html": [
       "<div>\n",
       "<style scoped>\n",
       "    .dataframe tbody tr th:only-of-type {\n",
       "        vertical-align: middle;\n",
       "    }\n",
       "\n",
       "    .dataframe tbody tr th {\n",
       "        vertical-align: top;\n",
       "    }\n",
       "\n",
       "    .dataframe thead tr th {\n",
       "        text-align: left;\n",
       "    }\n",
       "</style>\n",
       "<table border=\"1\" class=\"dataframe\">\n",
       "  <thead>\n",
       "    <tr>\n",
       "      <th></th>\n",
       "      <th colspan=\"2\" halign=\"left\">n_users</th>\n",
       "      <th colspan=\"2\" halign=\"left\">n_items</th>\n",
       "      <th colspan=\"2\" halign=\"left\">n_interactions</th>\n",
       "      <th colspan=\"2\" halign=\"left\">avg_seq_length</th>\n",
       "      <th colspan=\"2\" halign=\"left\">density</th>\n",
       "      <th colspan=\"2\" halign=\"left\">timeframe</th>\n",
       "    </tr>\n",
       "    <tr>\n",
       "      <th></th>\n",
       "      <th>Abs. value</th>\n",
       "      <th>%</th>\n",
       "      <th>Abs. value</th>\n",
       "      <th>%</th>\n",
       "      <th>Abs. value</th>\n",
       "      <th>%</th>\n",
       "      <th>Abs. value</th>\n",
       "      <th>%</th>\n",
       "      <th>Abs. value</th>\n",
       "      <th>%</th>\n",
       "      <th>Abs. value</th>\n",
       "      <th>%</th>\n",
       "    </tr>\n",
       "  </thead>\n",
       "  <tbody>\n",
       "    <tr>\n",
       "      <th>Train</th>\n",
       "      <td>5511.0</td>\n",
       "      <td>91.24</td>\n",
       "      <td>3670.0</td>\n",
       "      <td>99.03</td>\n",
       "      <td>827047.0</td>\n",
       "      <td>82.69</td>\n",
       "      <td>150.072038</td>\n",
       "      <td>90.62</td>\n",
       "      <td>0.040892</td>\n",
       "      <td>91.51</td>\n",
       "      <td>21429435.0</td>\n",
       "      <td>23.88</td>\n",
       "    </tr>\n",
       "    <tr>\n",
       "      <th>Validation Target</th>\n",
       "      <td>500.0</td>\n",
       "      <td>8.28</td>\n",
       "      <td>407.0</td>\n",
       "      <td>10.98</td>\n",
       "      <td>500.0</td>\n",
       "      <td>0.05</td>\n",
       "      <td>1.000000</td>\n",
       "      <td>0.60</td>\n",
       "      <td>0.002457</td>\n",
       "      <td>5.50</td>\n",
       "      <td>21392068.0</td>\n",
       "      <td>23.83</td>\n",
       "    </tr>\n",
       "    <tr>\n",
       "      <th>Test Target</th>\n",
       "      <td>1180.0</td>\n",
       "      <td>19.54</td>\n",
       "      <td>3405.0</td>\n",
       "      <td>91.88</td>\n",
       "      <td>95812.0</td>\n",
       "      <td>9.58</td>\n",
       "      <td>81.196610</td>\n",
       "      <td>49.03</td>\n",
       "      <td>0.023846</td>\n",
       "      <td>53.37</td>\n",
       "      <td>68321176.0</td>\n",
       "      <td>76.12</td>\n",
       "    </tr>\n",
       "  </tbody>\n",
       "</table>\n",
       "</div>"
      ],
      "text/plain": [
       "                     n_users           n_items        n_interactions         \\\n",
       "                  Abs. value      % Abs. value      %     Abs. value      %   \n",
       "Train                 5511.0  91.24     3670.0  99.03       827047.0  82.69   \n",
       "Validation Target      500.0   8.28      407.0  10.98          500.0   0.05   \n",
       "Test Target           1180.0  19.54     3405.0  91.88        95812.0   9.58   \n",
       "\n",
       "                  avg_seq_length           density          timeframe         \n",
       "                      Abs. value      % Abs. value      %  Abs. value      %  \n",
       "Train                 150.072038  90.62   0.040892  91.51  21429435.0  23.88  \n",
       "Validation Target       1.000000   0.60   0.002457   5.50  21392068.0  23.83  \n",
       "Test Target            81.196610  49.03   0.023846  53.37  68321176.0  76.12  "
      ]
     },
     "execution_count": 6,
     "metadata": {},
     "output_type": "execute_result"
    }
   ],
   "source": [
    "# Compare statistics between subsets and the original dataset\n",
    "\n",
    "compare_subsets(\n",
    "    subsets=[train, validation_target, test_target],\n",
    "    reference_data=movielens,                                   # reference to compare with\n",
    "    subset_names=[\"Train\", \"Validation Target\", \"Test Target\"], # subset labels\n",
    "    extended=False,\n",
    "    return_ref_stats=False,                                     # do not return core stats for the reference\n",
    ")"
   ]
  },
  {
   "cell_type": "markdown",
   "id": "4934add3",
   "metadata": {},
   "source": [
    "### Temporal diagnostics example"
   ]
  },
  {
   "cell_type": "code",
   "execution_count": 7,
   "id": "c36414a3",
   "metadata": {},
   "outputs": [
    {
     "name": "stdout",
     "output_type": "stream",
     "text": [
      "\n",
      "Test temporal stats:\n",
      "max_timestamp                       9.781334e+08\n",
      "min_timestamp                       9.567039e+08\n",
      "timeframe                           2.142944e+07\n",
      "mean_time_between_interactions      7.018125e+03\n",
      "median_time_between_interactions    0.000000e+00\n",
      "mean_user_lifetime                  1.046206e+06\n",
      "median_user_lifetime                3.076000e+03\n",
      "mean_user_lifetime, %               4.882099e+00\n",
      "mean_item_lifetime                  1.818664e+07\n",
      "median_item_lifetime                2.065771e+07\n",
      "mean_item_lifetime, %               8.486759e+01\n",
      "timestamp_collisions                4.519710e+05\n",
      "timestamp_collisions, %             5.464877e+01\n",
      "dtype: float64\n"
     ]
    }
   ],
   "source": [
    "# You can also compute specific metrics from the extended statistics separately - for example, temporal statistics.\n",
    "temporal_summary_test = temporal_stats(train)\n",
    "\n",
    "print(\"\\nTest temporal stats:\")\n",
    "print(pd.Series(temporal_summary_test))"
   ]
  },
  {
   "cell_type": "markdown",
   "id": "362b8bb8",
   "metadata": {},
   "source": [
    "# Repeated Consumption"
   ]
  },
  {
   "cell_type": "code",
   "execution_count": 8,
   "id": "45d78e63",
   "metadata": {},
   "outputs": [],
   "source": [
    "# Check whether users interact with the same items multiple times\n",
    "\n",
    "from src.stats.duplicates import get_conseq_duplicates, get_item_repeat, get_all_duplicates, duplicates_stats"
   ]
  },
  {
   "cell_type": "code",
   "execution_count": 9,
   "id": "1b51f95d",
   "metadata": {},
   "outputs": [
    {
     "data": {
      "text/html": [
       "<div>\n",
       "<style scoped>\n",
       "    .dataframe tbody tr th:only-of-type {\n",
       "        vertical-align: middle;\n",
       "    }\n",
       "\n",
       "    .dataframe tbody tr th {\n",
       "        vertical-align: top;\n",
       "    }\n",
       "\n",
       "    .dataframe thead th {\n",
       "        text-align: right;\n",
       "    }\n",
       "</style>\n",
       "<table border=\"1\" class=\"dataframe\">\n",
       "  <thead>\n",
       "    <tr style=\"text-align: right;\">\n",
       "      <th></th>\n",
       "      <th>user_id</th>\n",
       "      <th>item_id</th>\n",
       "      <th>ratings</th>\n",
       "      <th>timestamp</th>\n",
       "      <th>timestamp_collisions</th>\n",
       "      <th>item_duplicate</th>\n",
       "    </tr>\n",
       "  </thead>\n",
       "  <tbody>\n",
       "    <tr>\n",
       "      <th>3180</th>\n",
       "      <td>24</td>\n",
       "      <td>1784</td>\n",
       "      <td>3</td>\n",
       "      <td>978131551</td>\n",
       "      <td>False</td>\n",
       "      <td>False</td>\n",
       "    </tr>\n",
       "    <tr>\n",
       "      <th>3216</th>\n",
       "      <td>24</td>\n",
       "      <td>3707</td>\n",
       "      <td>1</td>\n",
       "      <td>978131551</td>\n",
       "      <td>True</td>\n",
       "      <td>False</td>\n",
       "    </tr>\n",
       "    <tr>\n",
       "      <th>3222</th>\n",
       "      <td>24</td>\n",
       "      <td>1968</td>\n",
       "      <td>5</td>\n",
       "      <td>978131551</td>\n",
       "      <td>True</td>\n",
       "      <td>False</td>\n",
       "    </tr>\n",
       "    <tr>\n",
       "      <th>3232</th>\n",
       "      <td>24</td>\n",
       "      <td>364</td>\n",
       "      <td>4</td>\n",
       "      <td>978131578</td>\n",
       "      <td>False</td>\n",
       "      <td>False</td>\n",
       "    </tr>\n",
       "    <tr>\n",
       "      <th>3262</th>\n",
       "      <td>24</td>\n",
       "      <td>1721</td>\n",
       "      <td>3</td>\n",
       "      <td>978131578</td>\n",
       "      <td>True</td>\n",
       "      <td>False</td>\n",
       "    </tr>\n",
       "  </tbody>\n",
       "</table>\n",
       "</div>"
      ],
      "text/plain": [
       "      user_id  item_id  ratings  timestamp  timestamp_collisions  \\\n",
       "3180       24     1784        3  978131551                 False   \n",
       "3216       24     3707        1  978131551                  True   \n",
       "3222       24     1968        5  978131551                  True   \n",
       "3232       24      364        4  978131578                 False   \n",
       "3262       24     1721        3  978131578                  True   \n",
       "\n",
       "      item_duplicate  \n",
       "3180           False  \n",
       "3216           False  \n",
       "3222           False  \n",
       "3232           False  \n",
       "3262           False  "
      ]
     },
     "execution_count": 9,
     "metadata": {},
     "output_type": "execute_result"
    }
   ],
   "source": [
    "## Firstly, let's get duplicate flags\n",
    "\n",
    "get_item_repeat(train).head() # item repetitions (absent in Movielens-1m)"
   ]
  },
  {
   "cell_type": "code",
   "execution_count": 10,
   "id": "39841dd8",
   "metadata": {},
   "outputs": [
    {
     "data": {
      "text/html": [
       "<div>\n",
       "<style scoped>\n",
       "    .dataframe tbody tr th:only-of-type {\n",
       "        vertical-align: middle;\n",
       "    }\n",
       "\n",
       "    .dataframe tbody tr th {\n",
       "        vertical-align: top;\n",
       "    }\n",
       "\n",
       "    .dataframe thead th {\n",
       "        text-align: right;\n",
       "    }\n",
       "</style>\n",
       "<table border=\"1\" class=\"dataframe\">\n",
       "  <thead>\n",
       "    <tr style=\"text-align: right;\">\n",
       "      <th></th>\n",
       "      <th>user_id</th>\n",
       "      <th>item_id</th>\n",
       "      <th>ratings</th>\n",
       "      <th>timestamp</th>\n",
       "      <th>timestamp_collisions</th>\n",
       "      <th>item_duplicate</th>\n",
       "      <th>conseq_duplicate</th>\n",
       "    </tr>\n",
       "  </thead>\n",
       "  <tbody>\n",
       "    <tr>\n",
       "      <th>3180</th>\n",
       "      <td>24</td>\n",
       "      <td>1784</td>\n",
       "      <td>3</td>\n",
       "      <td>978131551</td>\n",
       "      <td>False</td>\n",
       "      <td>False</td>\n",
       "      <td>False</td>\n",
       "    </tr>\n",
       "    <tr>\n",
       "      <th>3216</th>\n",
       "      <td>24</td>\n",
       "      <td>3707</td>\n",
       "      <td>1</td>\n",
       "      <td>978131551</td>\n",
       "      <td>True</td>\n",
       "      <td>False</td>\n",
       "      <td>False</td>\n",
       "    </tr>\n",
       "    <tr>\n",
       "      <th>3222</th>\n",
       "      <td>24</td>\n",
       "      <td>1968</td>\n",
       "      <td>5</td>\n",
       "      <td>978131551</td>\n",
       "      <td>True</td>\n",
       "      <td>False</td>\n",
       "      <td>False</td>\n",
       "    </tr>\n",
       "    <tr>\n",
       "      <th>3232</th>\n",
       "      <td>24</td>\n",
       "      <td>364</td>\n",
       "      <td>4</td>\n",
       "      <td>978131578</td>\n",
       "      <td>False</td>\n",
       "      <td>False</td>\n",
       "      <td>False</td>\n",
       "    </tr>\n",
       "    <tr>\n",
       "      <th>3262</th>\n",
       "      <td>24</td>\n",
       "      <td>1721</td>\n",
       "      <td>3</td>\n",
       "      <td>978131578</td>\n",
       "      <td>True</td>\n",
       "      <td>False</td>\n",
       "      <td>False</td>\n",
       "    </tr>\n",
       "  </tbody>\n",
       "</table>\n",
       "</div>"
      ],
      "text/plain": [
       "      user_id  item_id  ratings  timestamp  timestamp_collisions  \\\n",
       "3180       24     1784        3  978131551                 False   \n",
       "3216       24     3707        1  978131551                  True   \n",
       "3222       24     1968        5  978131551                  True   \n",
       "3232       24      364        4  978131578                 False   \n",
       "3262       24     1721        3  978131578                  True   \n",
       "\n",
       "      item_duplicate  conseq_duplicate  \n",
       "3180           False             False  \n",
       "3216           False             False  \n",
       "3222           False             False  \n",
       "3232           False             False  \n",
       "3262           False             False  "
      ]
     },
     "execution_count": 10,
     "metadata": {},
     "output_type": "execute_result"
    }
   ],
   "source": [
    "get_conseq_duplicates(train).head() # no consequtive item repeats either"
   ]
  },
  {
   "cell_type": "code",
   "execution_count": 11,
   "id": "025fe86b",
   "metadata": {},
   "outputs": [
    {
     "data": {
      "text/html": [
       "<div>\n",
       "<style scoped>\n",
       "    .dataframe tbody tr th:only-of-type {\n",
       "        vertical-align: middle;\n",
       "    }\n",
       "\n",
       "    .dataframe tbody tr th {\n",
       "        vertical-align: top;\n",
       "    }\n",
       "\n",
       "    .dataframe thead th {\n",
       "        text-align: right;\n",
       "    }\n",
       "</style>\n",
       "<table border=\"1\" class=\"dataframe\">\n",
       "  <thead>\n",
       "    <tr style=\"text-align: right;\">\n",
       "      <th></th>\n",
       "      <th>Consecutive item duplicates</th>\n",
       "      <th>Non-unique item interactions</th>\n",
       "    </tr>\n",
       "  </thead>\n",
       "  <tbody>\n",
       "    <tr>\n",
       "      <th>Number of Users</th>\n",
       "      <td>0.0</td>\n",
       "      <td>0.0</td>\n",
       "    </tr>\n",
       "    <tr>\n",
       "      <th>Share of Users</th>\n",
       "      <td>0.0</td>\n",
       "      <td>0.0</td>\n",
       "    </tr>\n",
       "    <tr>\n",
       "      <th>Avg. Number per user</th>\n",
       "      <td>0.0</td>\n",
       "      <td>0.0</td>\n",
       "    </tr>\n",
       "    <tr>\n",
       "      <th>Avg. Share per user</th>\n",
       "      <td>0.0</td>\n",
       "      <td>0.0</td>\n",
       "    </tr>\n",
       "  </tbody>\n",
       "</table>\n",
       "</div>"
      ],
      "text/plain": [
       "                      Consecutive item duplicates  \\\n",
       "Number of Users                               0.0   \n",
       "Share of Users                                0.0   \n",
       "Avg. Number per user                          0.0   \n",
       "Avg. Share per user                           0.0   \n",
       "\n",
       "                      Non-unique item interactions  \n",
       "Number of Users                                0.0  \n",
       "Share of Users                                 0.0  \n",
       "Avg. Number per user                           0.0  \n",
       "Avg. Share per user                            0.0  "
      ]
     },
     "execution_count": 11,
     "metadata": {},
     "output_type": "execute_result"
    }
   ],
   "source": [
    "# Let's take a look at aggregate statistics\n",
    "\n",
    "duplicates_stats(train) # as we expected, no duplicates"
   ]
  },
  {
   "cell_type": "markdown",
   "id": "870aa98a",
   "metadata": {},
   "source": [
    "# Temporal Leakage"
   ]
  },
  {
   "cell_type": "code",
   "execution_count": 12,
   "id": "0800bb71",
   "metadata": {},
   "outputs": [],
   "source": [
    "# We want to make sure no future interactions \"leak\" into our training data\n",
    "\n",
    "from src.stats.leaks import get_leaks, temporal_overlap, find_shared_interactions, leak_counts"
   ]
  },
  {
   "cell_type": "code",
   "execution_count": 13,
   "id": "a84d6311",
   "metadata": {},
   "outputs": [],
   "source": [
    "# Use Leave-One-Out splitter for this analysis\n",
    "splitter = LeaveOneOutSplitter()\n",
    "\n",
    "train, validation_input, validation_target, test_input, test_target = splitter.split(movielens)"
   ]
  },
  {
   "cell_type": "code",
   "execution_count": 14,
   "id": "57df0fc2",
   "metadata": {},
   "outputs": [
    {
     "data": {
      "text/html": [
       "<div>\n",
       "<style scoped>\n",
       "    .dataframe tbody tr th:only-of-type {\n",
       "        vertical-align: middle;\n",
       "    }\n",
       "\n",
       "    .dataframe tbody tr th {\n",
       "        vertical-align: top;\n",
       "    }\n",
       "\n",
       "    .dataframe thead th {\n",
       "        text-align: right;\n",
       "    }\n",
       "</style>\n",
       "<table border=\"1\" class=\"dataframe\">\n",
       "  <thead>\n",
       "    <tr style=\"text-align: right;\">\n",
       "      <th></th>\n",
       "      <th>user_id</th>\n",
       "      <th>item_id</th>\n",
       "      <th>ratings</th>\n",
       "      <th>timestamp</th>\n",
       "      <th>timestamp_collisions</th>\n",
       "      <th>timestamp_ref_max</th>\n",
       "      <th>is_leak</th>\n",
       "    </tr>\n",
       "  </thead>\n",
       "  <tbody>\n",
       "    <tr>\n",
       "      <th>0</th>\n",
       "      <td>1</td>\n",
       "      <td>48</td>\n",
       "      <td>5</td>\n",
       "      <td>978824351.0</td>\n",
       "      <td>False</td>\n",
       "      <td>1.037993e+09</td>\n",
       "      <td>True</td>\n",
       "    </tr>\n",
       "    <tr>\n",
       "      <th>1</th>\n",
       "      <td>2</td>\n",
       "      <td>1917</td>\n",
       "      <td>3</td>\n",
       "      <td>978300174.0</td>\n",
       "      <td>True</td>\n",
       "      <td>1.046187e+09</td>\n",
       "      <td>True</td>\n",
       "    </tr>\n",
       "    <tr>\n",
       "      <th>2</th>\n",
       "      <td>3</td>\n",
       "      <td>2081</td>\n",
       "      <td>4</td>\n",
       "      <td>978298504.0</td>\n",
       "      <td>False</td>\n",
       "      <td>1.046189e+09</td>\n",
       "      <td>True</td>\n",
       "    </tr>\n",
       "    <tr>\n",
       "      <th>3</th>\n",
       "      <td>4</td>\n",
       "      <td>1954</td>\n",
       "      <td>5</td>\n",
       "      <td>978294282.0</td>\n",
       "      <td>True</td>\n",
       "      <td>1.044900e+09</td>\n",
       "      <td>True</td>\n",
       "    </tr>\n",
       "    <tr>\n",
       "      <th>4</th>\n",
       "      <td>5</td>\n",
       "      <td>288</td>\n",
       "      <td>2</td>\n",
       "      <td>978246585.0</td>\n",
       "      <td>False</td>\n",
       "      <td>1.043795e+09</td>\n",
       "      <td>True</td>\n",
       "    </tr>\n",
       "  </tbody>\n",
       "</table>\n",
       "</div>"
      ],
      "text/plain": [
       "   user_id  item_id  ratings    timestamp  timestamp_collisions  \\\n",
       "0        1       48        5  978824351.0                 False   \n",
       "1        2     1917        3  978300174.0                  True   \n",
       "2        3     2081        4  978298504.0                 False   \n",
       "3        4     1954        5  978294282.0                  True   \n",
       "4        5      288        2  978246585.0                 False   \n",
       "\n",
       "   timestamp_ref_max  is_leak  \n",
       "0       1.037993e+09     True  \n",
       "1       1.046187e+09     True  \n",
       "2       1.046189e+09     True  \n",
       "3       1.044900e+09     True  \n",
       "4       1.043795e+09     True  "
      ]
     },
     "execution_count": 14,
     "metadata": {},
     "output_type": "execute_result"
    }
   ],
   "source": [
    "# Let's get leakage flags\n",
    "\n",
    "leak_df = get_leaks(\n",
    "    data=test_target,           # data to analyze\n",
    "    reference_data=train,       # data to compare with\n",
    "    convert_timestamp=False,    # whether to convert timestamp to datetime or not\n",
    "    )\n",
    "\n",
    "leak_df.head()"
   ]
  },
  {
   "cell_type": "code",
   "execution_count": 15,
   "id": "3f955d92",
   "metadata": {},
   "outputs": [
    {
     "data": {
      "text/plain": [
       "{'total_interactions': 6040,\n",
       " 'leak_interactions': 5901,\n",
       " 'leak_share': 0.9769867549668875}"
      ]
     },
     "execution_count": 15,
     "metadata": {},
     "output_type": "execute_result"
    }
   ],
   "source": [
    "# Count the number of leaks overall\n",
    "\n",
    "leak_counts(\n",
    "    data=test_target, \n",
    "    reference_data=train,\n",
    "    granularity=None        # if granularity is not set, then we count leaks across all dataset\n",
    ")"
   ]
  },
  {
   "cell_type": "code",
   "execution_count": 16,
   "id": "e28137f4",
   "metadata": {},
   "outputs": [
    {
     "data": {
      "text/plain": [
       "{'total_interactions': timestamp\n",
       " 2000-12-31    4863\n",
       " 2001-12-31     590\n",
       " 2002-12-31     409\n",
       " 2003-12-31     178\n",
       " Freq: A-DEC, Name: item_id, dtype: int64,\n",
       " 'leak_interactions': timestamp\n",
       " 2000-12-31    4862\n",
       " 2001-12-31     589\n",
       " 2002-12-31     372\n",
       " 2003-12-31      78\n",
       " Freq: A-DEC, Name: is_leak, dtype: int64,\n",
       " 'leak_share': timestamp\n",
       " 2000-12-31    0.999794\n",
       " 2001-12-31    0.998305\n",
       " 2002-12-31    0.909535\n",
       " 2003-12-31    0.438202\n",
       " Freq: A-DEC, dtype: float64}"
      ]
     },
     "execution_count": 16,
     "metadata": {},
     "output_type": "execute_result"
    }
   ],
   "source": [
    "leak_counts(\n",
    "    data=test_target, \n",
    "    reference_data=train,\n",
    "    granularity='y'         # obtain leakage count per year\n",
    ")"
   ]
  },
  {
   "cell_type": "code",
   "execution_count": 17,
   "id": "b6c2a4c2",
   "metadata": {},
   "outputs": [
    {
     "data": {
      "text/html": [
       "<div>\n",
       "<style scoped>\n",
       "    .dataframe tbody tr th:only-of-type {\n",
       "        vertical-align: middle;\n",
       "    }\n",
       "\n",
       "    .dataframe tbody tr th {\n",
       "        vertical-align: top;\n",
       "    }\n",
       "\n",
       "    .dataframe thead th {\n",
       "        text-align: right;\n",
       "    }\n",
       "</style>\n",
       "<table border=\"1\" class=\"dataframe\">\n",
       "  <thead>\n",
       "    <tr style=\"text-align: right;\">\n",
       "      <th></th>\n",
       "      <th>reference_start</th>\n",
       "      <th>reference_end</th>\n",
       "      <th>target_start</th>\n",
       "      <th>target_end</th>\n",
       "      <th>overlap_start</th>\n",
       "      <th>overlap_end</th>\n",
       "      <th>overlap_duration_sec</th>\n",
       "      <th>overlap_share_reference</th>\n",
       "      <th>overlap_share_target</th>\n",
       "    </tr>\n",
       "  </thead>\n",
       "  <tbody>\n",
       "    <tr>\n",
       "      <th>0</th>\n",
       "      <td>2000-04-25 23:05:32</td>\n",
       "      <td>2003-02-28 17:49:08</td>\n",
       "      <td>2000-04-26 01:26:28</td>\n",
       "      <td>2003-02-28 17:49:50</td>\n",
       "      <td>2000-04-26 01:26:28</td>\n",
       "      <td>2003-02-28 17:49:08</td>\n",
       "      <td>89742160.0</td>\n",
       "      <td>0.999906</td>\n",
       "      <td>1.0</td>\n",
       "    </tr>\n",
       "  </tbody>\n",
       "</table>\n",
       "</div>"
      ],
      "text/plain": [
       "      reference_start       reference_end        target_start  \\\n",
       "0 2000-04-25 23:05:32 2003-02-28 17:49:08 2000-04-26 01:26:28   \n",
       "\n",
       "           target_end       overlap_start         overlap_end  \\\n",
       "0 2003-02-28 17:49:50 2000-04-26 01:26:28 2003-02-28 17:49:08   \n",
       "\n",
       "   overlap_duration_sec  overlap_share_reference  overlap_share_target  \n",
       "0            89742160.0                 0.999906                   1.0  "
      ]
     },
     "execution_count": 17,
     "metadata": {},
     "output_type": "execute_result"
    }
   ],
   "source": [
    "# Summary on whether 2 subsets have overlap in time\n",
    "\n",
    "temporal_overlap(test_target, train)"
   ]
  },
  {
   "cell_type": "code",
   "execution_count": 18,
   "id": "e84f09f8",
   "metadata": {},
   "outputs": [
    {
     "data": {
      "text/html": [
       "<div>\n",
       "<style scoped>\n",
       "    .dataframe tbody tr th:only-of-type {\n",
       "        vertical-align: middle;\n",
       "    }\n",
       "\n",
       "    .dataframe tbody tr th {\n",
       "        vertical-align: top;\n",
       "    }\n",
       "\n",
       "    .dataframe thead th {\n",
       "        text-align: right;\n",
       "    }\n",
       "</style>\n",
       "<table border=\"1\" class=\"dataframe\">\n",
       "  <thead>\n",
       "    <tr style=\"text-align: right;\">\n",
       "      <th></th>\n",
       "      <th>user_id</th>\n",
       "      <th>item_id</th>\n",
       "      <th>ratings_target</th>\n",
       "      <th>timestamp</th>\n",
       "      <th>timestamp_collisions_target</th>\n",
       "      <th>timestamp_dt_target</th>\n",
       "      <th>ratings_reference</th>\n",
       "      <th>timestamp_collisions_reference</th>\n",
       "      <th>timestamp_dt_reference</th>\n",
       "    </tr>\n",
       "  </thead>\n",
       "  <tbody>\n",
       "  </tbody>\n",
       "</table>\n",
       "</div>"
      ],
      "text/plain": [
       "Empty DataFrame\n",
       "Columns: [user_id, item_id, ratings_target, timestamp, timestamp_collisions_target, timestamp_dt_target, ratings_reference, timestamp_collisions_reference, timestamp_dt_reference]\n",
       "Index: []"
      ]
     },
     "execution_count": 18,
     "metadata": {},
     "output_type": "execute_result"
    }
   ],
   "source": [
    "# If 2 subsets have shared interactions, returns them\n",
    "\n",
    "find_shared_interactions(test_target, train)"
   ]
  },
  {
   "cell_type": "markdown",
   "id": "4c576763",
   "metadata": {},
   "source": [
    "# Cold Start"
   ]
  },
  {
   "cell_type": "code",
   "execution_count": 19,
   "id": "6e478586",
   "metadata": {},
   "outputs": [],
   "source": [
    "# Check for new users/items in test set that were not seen in training\n",
    "\n",
    "from src.stats.cold import get_cold, cold_counts, cold_stats"
   ]
  },
  {
   "cell_type": "code",
   "execution_count": 20,
   "id": "b0e06705",
   "metadata": {},
   "outputs": [],
   "source": [
    "# Let's get back to Global Temporal Split\n",
    "\n",
    "splitter = GlobalTimeSplitter(\n",
    "    quantile=0.9,            # Use 90th percentile of timestamp as cutoff\n",
    "    remove_cold_users=True,  # Exclude users unseen before validation/test\n",
    "    target_type=\"all\"        # Use all future interactions\n",
    ")\n",
    "\n",
    "train, validation_input, validation_target, test_input, test_target = splitter.split(movielens)"
   ]
  },
  {
   "cell_type": "code",
   "execution_count": 21,
   "id": "bc8a26a0",
   "metadata": {},
   "outputs": [
    {
     "data": {
      "text/html": [
       "<div>\n",
       "<style scoped>\n",
       "    .dataframe tbody tr th:only-of-type {\n",
       "        vertical-align: middle;\n",
       "    }\n",
       "\n",
       "    .dataframe tbody tr th {\n",
       "        vertical-align: top;\n",
       "    }\n",
       "\n",
       "    .dataframe thead th {\n",
       "        text-align: right;\n",
       "    }\n",
       "</style>\n",
       "<table border=\"1\" class=\"dataframe\">\n",
       "  <thead>\n",
       "    <tr style=\"text-align: right;\">\n",
       "      <th></th>\n",
       "      <th>user_id</th>\n",
       "      <th>item_id</th>\n",
       "      <th>ratings</th>\n",
       "      <th>timestamp</th>\n",
       "      <th>timestamp_collisions</th>\n",
       "      <th>is_cold</th>\n",
       "    </tr>\n",
       "  </thead>\n",
       "  <tbody>\n",
       "    <tr>\n",
       "      <th>3256</th>\n",
       "      <td>24</td>\n",
       "      <td>468</td>\n",
       "      <td>4</td>\n",
       "      <td>978133414</td>\n",
       "      <td>False</td>\n",
       "      <td>False</td>\n",
       "    </tr>\n",
       "    <tr>\n",
       "      <th>3266</th>\n",
       "      <td>24</td>\n",
       "      <td>1584</td>\n",
       "      <td>2</td>\n",
       "      <td>978133665</td>\n",
       "      <td>False</td>\n",
       "      <td>False</td>\n",
       "    </tr>\n",
       "    <tr>\n",
       "      <th>3250</th>\n",
       "      <td>24</td>\n",
       "      <td>1633</td>\n",
       "      <td>4</td>\n",
       "      <td>978133782</td>\n",
       "      <td>False</td>\n",
       "      <td>False</td>\n",
       "    </tr>\n",
       "    <tr>\n",
       "      <th>3268</th>\n",
       "      <td>24</td>\n",
       "      <td>2023</td>\n",
       "      <td>3</td>\n",
       "      <td>978133782</td>\n",
       "      <td>True</td>\n",
       "      <td>False</td>\n",
       "    </tr>\n",
       "    <tr>\n",
       "      <th>3181</th>\n",
       "      <td>24</td>\n",
       "      <td>1788</td>\n",
       "      <td>3</td>\n",
       "      <td>978133814</td>\n",
       "      <td>False</td>\n",
       "      <td>False</td>\n",
       "    </tr>\n",
       "  </tbody>\n",
       "</table>\n",
       "</div>"
      ],
      "text/plain": [
       "      user_id  item_id  ratings  timestamp  timestamp_collisions  is_cold\n",
       "3256       24      468        4  978133414                 False    False\n",
       "3266       24     1584        2  978133665                 False    False\n",
       "3250       24     1633        4  978133782                 False    False\n",
       "3268       24     2023        3  978133782                  True    False\n",
       "3181       24     1788        3  978133814                 False    False"
      ]
     },
     "execution_count": 21,
     "metadata": {},
     "output_type": "execute_result"
    }
   ],
   "source": [
    "# Get flags for cold users\n",
    "\n",
    "get_cold(\n",
    "    data=test_target, \n",
    "    reference_data=train, \n",
    "    col=\"user_id\"\n",
    ").head()"
   ]
  },
  {
   "cell_type": "code",
   "execution_count": 22,
   "id": "3d6673c9",
   "metadata": {},
   "outputs": [
    {
     "data": {
      "text/html": [
       "<div>\n",
       "<style scoped>\n",
       "    .dataframe tbody tr th:only-of-type {\n",
       "        vertical-align: middle;\n",
       "    }\n",
       "\n",
       "    .dataframe tbody tr th {\n",
       "        vertical-align: top;\n",
       "    }\n",
       "\n",
       "    .dataframe thead th {\n",
       "        text-align: right;\n",
       "    }\n",
       "</style>\n",
       "<table border=\"1\" class=\"dataframe\">\n",
       "  <thead>\n",
       "    <tr style=\"text-align: right;\">\n",
       "      <th></th>\n",
       "      <th>user_id</th>\n",
       "      <th>item_id</th>\n",
       "      <th>ratings</th>\n",
       "      <th>timestamp</th>\n",
       "      <th>timestamp_collisions</th>\n",
       "      <th>is_cold</th>\n",
       "    </tr>\n",
       "  </thead>\n",
       "  <tbody>\n",
       "    <tr>\n",
       "      <th>3256</th>\n",
       "      <td>24</td>\n",
       "      <td>468</td>\n",
       "      <td>4</td>\n",
       "      <td>978133414</td>\n",
       "      <td>False</td>\n",
       "      <td>False</td>\n",
       "    </tr>\n",
       "    <tr>\n",
       "      <th>3266</th>\n",
       "      <td>24</td>\n",
       "      <td>1584</td>\n",
       "      <td>2</td>\n",
       "      <td>978133665</td>\n",
       "      <td>False</td>\n",
       "      <td>False</td>\n",
       "    </tr>\n",
       "    <tr>\n",
       "      <th>3250</th>\n",
       "      <td>24</td>\n",
       "      <td>1633</td>\n",
       "      <td>4</td>\n",
       "      <td>978133782</td>\n",
       "      <td>False</td>\n",
       "      <td>False</td>\n",
       "    </tr>\n",
       "    <tr>\n",
       "      <th>3268</th>\n",
       "      <td>24</td>\n",
       "      <td>2023</td>\n",
       "      <td>3</td>\n",
       "      <td>978133782</td>\n",
       "      <td>True</td>\n",
       "      <td>False</td>\n",
       "    </tr>\n",
       "    <tr>\n",
       "      <th>3181</th>\n",
       "      <td>24</td>\n",
       "      <td>1788</td>\n",
       "      <td>3</td>\n",
       "      <td>978133814</td>\n",
       "      <td>False</td>\n",
       "      <td>False</td>\n",
       "    </tr>\n",
       "  </tbody>\n",
       "</table>\n",
       "</div>"
      ],
      "text/plain": [
       "      user_id  item_id  ratings  timestamp  timestamp_collisions  is_cold\n",
       "3256       24      468        4  978133414                 False    False\n",
       "3266       24     1584        2  978133665                 False    False\n",
       "3250       24     1633        4  978133782                 False    False\n",
       "3268       24     2023        3  978133782                  True    False\n",
       "3181       24     1788        3  978133814                 False    False"
      ]
     },
     "execution_count": 22,
     "metadata": {},
     "output_type": "execute_result"
    }
   ],
   "source": [
    "# Get flags for cold items\n",
    "\n",
    "get_cold(\n",
    "    data=test_target, \n",
    "    reference_data=train, \n",
    "    col=\"item_id\"\n",
    ").head()"
   ]
  },
  {
   "cell_type": "code",
   "execution_count": 23,
   "id": "578bb6b6",
   "metadata": {},
   "outputs": [
    {
     "data": {
      "text/html": [
       "<div>\n",
       "<style scoped>\n",
       "    .dataframe tbody tr th:only-of-type {\n",
       "        vertical-align: middle;\n",
       "    }\n",
       "\n",
       "    .dataframe tbody tr th {\n",
       "        vertical-align: top;\n",
       "    }\n",
       "\n",
       "    .dataframe thead th {\n",
       "        text-align: right;\n",
       "    }\n",
       "</style>\n",
       "<table border=\"1\" class=\"dataframe\">\n",
       "  <thead>\n",
       "    <tr style=\"text-align: right;\">\n",
       "      <th></th>\n",
       "      <th>Number</th>\n",
       "      <th>Share (by count)</th>\n",
       "      <th>Share (by interactions)</th>\n",
       "    </tr>\n",
       "  </thead>\n",
       "  <tbody>\n",
       "    <tr>\n",
       "      <th>Cold Users</th>\n",
       "      <td>92</td>\n",
       "      <td>0.077966</td>\n",
       "      <td>0.062132</td>\n",
       "    </tr>\n",
       "    <tr>\n",
       "      <th>Cold Items</th>\n",
       "      <td>29</td>\n",
       "      <td>0.008517</td>\n",
       "      <td>0.000950</td>\n",
       "    </tr>\n",
       "  </tbody>\n",
       "</table>\n",
       "</div>"
      ],
      "text/plain": [
       "            Number  Share (by count)  Share (by interactions)\n",
       "Cold Users      92          0.077966                 0.062132\n",
       "Cold Items      29          0.008517                 0.000950"
      ]
     },
     "execution_count": 23,
     "metadata": {},
     "output_type": "execute_result"
    }
   ],
   "source": [
    "cold_stats(\n",
    "    data=test_target, \n",
    "    reference_data=train\n",
    ")"
   ]
  },
  {
   "cell_type": "code",
   "execution_count": 24,
   "id": "b6974cdb",
   "metadata": {},
   "outputs": [
    {
     "data": {
      "text/plain": [
       "{'total_interactions': 95812,\n",
       " 'cold_interactions': 5953,\n",
       " 'cold_share': 0.06213209201352649}"
      ]
     },
     "execution_count": 24,
     "metadata": {},
     "output_type": "execute_result"
    }
   ],
   "source": [
    "# Similar to leekage count, if granularity is not specified, get counts for the whole data\n",
    "\n",
    "cold_counts(\n",
    "    data=test_target, \n",
    "    reference_data=train\n",
    ")"
   ]
  },
  {
   "cell_type": "code",
   "execution_count": 25,
   "id": "c395623d",
   "metadata": {},
   "outputs": [
    {
     "data": {
      "text/plain": [
       "{'total_interactions': timestamp\n",
       " 2000-12-31     2137\n",
       " 2001-12-31    66929\n",
       " 2002-12-31    23423\n",
       " 2003-12-31     3323\n",
       " Freq: A-DEC, Name: item_id, dtype: int64,\n",
       " 'cold_interactions': timestamp\n",
       " 2000-12-31      89\n",
       " 2001-12-31    2844\n",
       " 2002-12-31    2696\n",
       " 2003-12-31     324\n",
       " Freq: A-DEC, Name: is_cold, dtype: int64,\n",
       " 'cold_share': timestamp\n",
       " 2000-12-31    0.041647\n",
       " 2001-12-31    0.042493\n",
       " 2002-12-31    0.115101\n",
       " 2003-12-31    0.097502\n",
       " Freq: A-DEC, dtype: float64}"
      ]
     },
     "execution_count": 25,
     "metadata": {},
     "output_type": "execute_result"
    }
   ],
   "source": [
    "# And counts per year\n",
    "\n",
    "cold_counts(test_target, train, granularity='y')"
   ]
  },
  {
   "cell_type": "markdown",
   "id": "48157871",
   "metadata": {},
   "source": [
    "# Interactions Over Time (and Other Plots)"
   ]
  },
  {
   "cell_type": "code",
   "execution_count": 26,
   "id": "a8fb6980",
   "metadata": {},
   "outputs": [],
   "source": [
    "from src.stats.plots import (\n",
    "    plot_hist, plot_hist_px,\n",
    "    plot_inters, plot_inters_scatter\n",
    ")"
   ]
  },
  {
   "cell_type": "code",
   "execution_count": 27,
   "id": "0f666834",
   "metadata": {},
   "outputs": [
    {
     "data": {
      "image/png": "[encoded data removed]",
      "text/plain": [
       "<Figure size 640x480 with 1 Axes>"
      ]
     },
     "metadata": {},
     "output_type": "display_data"
    },
    {
     "data": {
      "text/html": [
       "<div>\n",
       "<style scoped>\n",
       "    .dataframe tbody tr th:only-of-type {\n",
       "        vertical-align: middle;\n",
       "    }\n",
       "\n",
       "    .dataframe tbody tr th {\n",
       "        vertical-align: top;\n",
       "    }\n",
       "\n",
       "    .dataframe thead th {\n",
       "        text-align: right;\n",
       "    }\n",
       "</style>\n",
       "<table border=\"1\" class=\"dataframe\">\n",
       "  <thead>\n",
       "    <tr style=\"text-align: right;\">\n",
       "      <th></th>\n",
       "      <th>count</th>\n",
       "      <th>mean</th>\n",
       "      <th>std</th>\n",
       "      <th>min</th>\n",
       "      <th>q01</th>\n",
       "      <th>q05</th>\n",
       "      <th>q25</th>\n",
       "      <th>median</th>\n",
       "      <th>q75</th>\n",
       "      <th>q95</th>\n",
       "      <th>q99</th>\n",
       "      <th>max</th>\n",
       "    </tr>\n",
       "  </thead>\n",
       "  <tbody>\n",
       "    <tr>\n",
       "      <th>Train</th>\n",
       "      <td>5511.0</td>\n",
       "      <td>150.072038</td>\n",
       "      <td>175.521932</td>\n",
       "      <td>2.0</td>\n",
       "      <td>9.1</td>\n",
       "      <td>22.0</td>\n",
       "      <td>41.0</td>\n",
       "      <td>86.0</td>\n",
       "      <td>189.5</td>\n",
       "      <td>506.00</td>\n",
       "      <td>836.90</td>\n",
       "      <td>2029.0</td>\n",
       "    </tr>\n",
       "    <tr>\n",
       "      <th>Test</th>\n",
       "      <td>1180.0</td>\n",
       "      <td>81.196610</td>\n",
       "      <td>115.496327</td>\n",
       "      <td>1.0</td>\n",
       "      <td>1.0</td>\n",
       "      <td>2.0</td>\n",
       "      <td>13.0</td>\n",
       "      <td>38.0</td>\n",
       "      <td>102.0</td>\n",
       "      <td>301.05</td>\n",
       "      <td>518.46</td>\n",
       "      <td>1014.0</td>\n",
       "    </tr>\n",
       "  </tbody>\n",
       "</table>\n",
       "</div>"
      ],
      "text/plain": [
       "        count        mean         std  min  q01   q05   q25  median    q75  \\\n",
       "Train  5511.0  150.072038  175.521932  2.0  9.1  22.0  41.0    86.0  189.5   \n",
       "Test   1180.0   81.196610  115.496327  1.0  1.0   2.0  13.0    38.0  102.0   \n",
       "\n",
       "          q95     q99     max  \n",
       "Train  506.00  836.90  2029.0  \n",
       "Test   301.05  518.46  1014.0  "
      ]
     },
     "execution_count": 27,
     "metadata": {},
     "output_type": "execute_result"
    }
   ],
   "source": [
    "# Here we compare the distribution of 'item_id' counts for each user - user activity\n",
    "\n",
    "train_user_interactions = train.groupby('user_id').count()\n",
    "test_user_interactions = test_target.groupby('user_id').count()\n",
    "\n",
    "fig, stats = plot_hist(\n",
    "    data=[train_user_interactions, test_user_interactions],\n",
    "    col=\"item_id\",\n",
    "    bins=30,                            # number of histogram bins\n",
    "    labels=[\"Train\", \"Test\"],\n",
    "    color=[\"#1f77b4\", \"#ff7f0e\"],   # blue/orange colors\n",
    "    alpha=0.7                           # takes pyplot-specific kwargs!\n",
    ")\n",
    "\n",
    "plt.title(\"Activity Distribution (Train vs Test)\")\n",
    "plt.show()\n",
    "\n",
    "stats"
   ]
  },
  {
   "cell_type": "code",
   "execution_count": 28,
   "id": "a0b57c21",
   "metadata": {},
   "outputs": [
    {
     "data": {
      "application/vnd.plotly.v1+json": {
       "config": {
        "plotlyServerURL": "https://plot.ly"
       },
       "data": [
        {
         "alignmentgroup": "True",
         "bingroup": "x",
         "hovertemplate": "variable=Train<br>value=%{x}<br>count=%{y}<extra></extra>",
         "legendgroup": "Train",
         "marker": {
          "color": "#636efa",
          "opacity": 0.7,
          "pattern": {
           "shape": ""
          }
         },
         "name": "Train",
         "nbinsx": 30,
         "offsetgroup": "Train",
         "orientation": "v",
         "showlegend": true,
         "type": "histogram",
         "x": {
          "bdata": "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",
          "dtype": "f8"
         },
         "xaxis": "x",
         "yaxis": "y"
        },
        {
         "alignmentgroup": "True",
         "bingroup": "x",
         "hovertemplate": "variable=Test<br>value=%{x}<br>count=%{y}<extra></extra>",
         "legendgroup": "Test",
         "marker": {
          "color": "#EF553B",
          "opacity": 0.7,
          "pattern": {
           "shape": ""
          }
         },
         "name": "Test",
         "nbinsx": 30,
         "offsetgroup": "Test",
         "orientation": "v",
         "showlegend": true,
         "type": "histogram",
         "x": {
          "bdata": "AAAAAACASUAAAAAAAAAsQAAAAAAAUHhAAAAAAAAA+H8AAAAAAAAwQAAAAAAAAFZAAAAAAAAA+H8AAAAAAAD4fwAAAAAAAPh/AAAAAABgaEAAAAAAAAD4fwAAAAAAAPA/AAAAAADAZEAAAAAAAAD4fwAAAAAAAPh/AAAAAAAA+H8AAAAAAAD4fwAAAAAAQFNAAAAAAAAA+H8AAAAAAAD4fwAAAAAAAFRAAAAAAAAAJkAAAAAAAAD4fwAAAAAAAPh/AAAAAAAA+H8AAAAAAAD4fwAAAAAAAPh/AAAAAAAA+H8AAAAAAAD4fwAAAAAAAPh/AAAAAAAAXkAAAAAAAAD4fwAAAAAAAPh/AAAAAAAALEAAAAAAAAD4fwAAAAAAQFVAAAAAAAAA+H8AAAAAAAD4fwAAAAAAAD5AAAAAAAAA+H8AAAAAAAD4fwAAAAAAAPh/AAAAAAAA+H8AAAAAAIBKQAAAAAAAAENAAAAAAAAAPEAAAAAAAAA3QAAAAAAAAPh/AAAAAAAAWEAAAAAAAAD4fwAAAAAAAPA/AAAAAAAA+H8AAAAAAAAUQAAAAAAAAPh/AAAAAAAA+H8AAAAAAAAzQAAAAAAAADNAAAAAAAAA+H8AAAAAAAD4fwAAAAAAACZAAAAAAAAAa0AAAAAAAAD4fwAAAAAAsHFAAAAAAAAA+H8AAAAAAAD4fwAAAAAAAPh/AAAAAAAAU0AAAAAAAAAAQAAAAAAAAPh/AAAAAABAV0AAAAAAAAD4fwAAAAAAAPh/AAAAAACAX0AAAAAAAAAwQAAAAAAAAPh/AAAAAAAA+H8AAAAAAAD4fwAAAAAAAPh/AAAAAAAA+H8AAAAAAAD4fwAAAAAAAPh/AAAAAAAAKkAAAAAAAAD4fwAAAAAAAElAAAAAAAAA8D8AAAAAAAD4fwAAAAAAAPA/AAAAAAAAOkAAAAAAAAD4fwAAAAAAAC5AAAAAAABAW0AAAAAAAAAmQAAAAAAAAPh/AAAAAACAU0AAAAAAAAD4fwAAAAAAAPh/AAAAAAAA+H8AAAAAAAA7QAAAAAAAAPh/AAAAAAAAGEAAAAAAAAAzQAAAAAAAAPh/AAAAAAAA+H8AAAAAAEBiQAAAAAAAAPh/AAAAAAAA+H8AAAAAAIBGQAAAAAAAAPh/AAAAAAAAJEAAAAAAAAD4fwAAAAAAAPh/AAAAAAAA+H8AAAAAAEBvQAAAAAAAAPh/AAAAAAAgb0AAAAAAAOBsQAAAAAAAgF5AAAAAAABQeEAAAAAAAAD4fwAAAAAAACZAAAAAAAAA+H8AAAAAAAD4fwAAAAAAAD5AAAAAAAAA+H8AAAAAAAAYQAAAAAAAAPh/AAAAAAAAUEAAAAAAAABMQAAAAAAAADNAAAAAAAAA+H8AAAAAAAAYQAAAAAAAAPh/AAAAAAAA+H8AAAAAAABNQAAAAAAAAPh/AAAAAAAA+H8AAAAAAAD4fwAAAAAA2IBAAAAAAAAA+H8AAAAAAAAIQAAAAAAAAPh/AAAAAAAA+H8AAAAAAAD4fwAAAAAAAPh/AAAAAAAAMUAAAAAAAIBTQAAAAAAAQFNAAAAAAAAA+H8AAAAAAAD4fwAAAAAAAPh/AAAAAACAUEAAAAAAAAD4fwAAAAAAAPh/AAAAAAAA+H8AAAAAAABDQAAAAAAAAFdAAAAAAAAA+H8AAAAAAOiBQAAAAAAAAPh/AAAAAAAA+H8AAAAAAAAmQAAAAAAAAPh/AAAAAAAA+H8AAAAAAAA1QAAAAAAAAPh/AAAAAABgYEAAAAAAAAD4fwAAAAAAAPh/AAAAAACAXUAAAAAAAAD4fwAAAAAAAPh/AAAAAAAA+H8AAAAAAAD4fwAAAAAAAPh/AAAAAAAA+H8AAAAAAAAAQAAAAAAAAPh/AAAAAAAA+H8AAAAAAAAiQAAAAAAAAPh/AAAAAAAA+H8AAAAAAAD4fwAAAAAAAPh/AAAAAAAAUEAAAAAAAAD4fwAAAAAAAPh/AAAAAAAA+H8AAAAAAAAcQAAAAAAAIGBAAAAAAAAA+H8AAAAAAIBVQAAAAAAAAPh/AAAAAAAA+H8AAAAAAAAYQAAAAAAAAFZAAAAAAAAA+H8AAAAAAMBVQAAAAAAAAPh/AAAAAAAARkAAAAAAAAD4fwAAAAAAAPh/AAAAAAAAKkAAAAAAAAD4fwAAAAAAAPh/AAAAAAAA+H8AAAAAAAD4fwAAAAAAABRAAAAAAAAA+H8AAAAAAAD4fwAAAAAAAPh/AAAAAAAA+H8AAAAAAAD4fwAAAAAAAPh/AAAAAAAA+H8AAAAAAIBHQAAAAAAAAPh/AAAAAAAA+H8AAAAAAAD4fwAAAAAAAPh/AAAAAACAQkAAAAAAAAD4fwAAAAAAAPh/AAAAAAAALEAAAAAAAAD4fwAAAAAAAPh/AAAAAAAAJkAAAAAAAOBiQAAAAAAAAPh/AAAAAAAA+H8AAAAAAAD4fwAAAAAAAPh/AAAAAAAA+H8AAAAAAAD4fwAAAAAAAPh/AAAAAAAAP0AAAAAAAAD4fwAAAAAAAPh/AAAAAAAA+H8AAAAAAAD4fwAAAAAAADRAAAAAAAAA+H8AAAAAAAD4fwAAAAAAAPh/AAAAAAAA+H8AAAAAAAD4fwAAAAAAAPh/AAAAAADAXkAAAAAAAAD4fwAAAAAAAPh/AAAAAAAA+H8AAAAAAAD4fwAAAAAAAPh/AAAAAAAAO0AAAAAAAAD4fwAAAAAAAPh/AAAAAADAWkAAAAAAAADwPwAAAAAAAPh/AAAAAAAgYEAAAAAAAAD4fwAAAAAAQHJAAAAAAAAA+H8AAAAAAAAqQAAAAAAAABBAAAAAAAAA+H8AAAAAAAD4fwAAAAAAgEVAAAAAAAAA+H8AAAAAAAD4fwAAAAAAAPh/AAAAAAAA+H8AAAAAAEBmQAAAAAAAAPh/AAAAAAAACEAAAAAAAAD4fwAAAAAAAPh/AAAAAAAA+H8AAAAAAAD4fwAAAAAAwFFAAAAAAAAA+H8AAAAAAAD4fwAAAAAAQHBAAAAAAAAAMUAAAAAAALB6QAAAAAAAAD9AAAAAAACAa0AAAAAAAAD4fwAAAAAAAPh/AAAAAAAA+H8AAAAAAAD4fwAAAAAAoGRAAAAAAAAA+H8AAAAAAAD4fwAAAAAAAPh/AAAAAAAA+H8AAAAAACBxQAAAAAAAAPh/AAAAAAAA+H8AAAAAAAD4fwAAAAAAABBAAAAAAAAA+H8AAAAAAAD4fwAAAAAAAPh/AAAAAACgYEAAAAAAAAAYQAAAAAAAAPh/AAAAAAAA+H8AAAAAAAD4fwAAAAAAAPh/AAAAAAAA+H8AAAAAAAA9QAAAAAAAAPh/AAAAAAAA+H8AAAAAAAD4fwAAAAAAwFpAAAAAAAAA+H8AAAAAAABOQAAAAAAAAPh/AAAAAAAA+H8AAAAAAAD4fwAAAAAAgFJAAAAAAAAA+H8AAAAAAAD4fwAAAAAAAEZAAAAAAABAW0AAAAAAAAD4fwAAAAAAAPh/AAAAAAAA+H8AAAAAAAD4fwAAAAAAAABAAAAAAAAA+H8AAAAAAAD4fwAAAAAAAPh/AAAAAAAA+H8AAAAAAAAQQAAAAAAAAPh/AAAAAAAA+H8AAAAAAAD4fwAAAAAAABxAAAAAAACAQ0AAAAAAAAD4fwAAAAAAAPh/AAAAAAAA+H8AAAAAAAD4fwAAAAAAgGtAAAAAAAAA+H8AAAAAAAD4fwAAAAAAACpAAAAAAAAALkAAAAAAAAA1QAAAAAAAABBAAAAAAAAA+H8AAAAAAAD4fwAAAAAAgERAAAAAAAAA+H8AAAAAAAD4fwAAAAAAMH1AAAAAAAAAM0AAAAAAAAD4fwAAAAAAAPh/AAAAAAAA+H8AAAAAAAD4fwAAAAAAAPh/AAAAAAAA+H8AAAAAAMBTQAAAAAAAACBAAAAAAAAA+H8AAAAAAABDQAAAAAAAAPh/AAAAAACoi0AAAAAAAAD4fwAAAAAAAPh/AAAAAAAA+H8AAAAAAAD4fwAAAAAAAPh/AAAAAAAA+H8AAAAAAAD4fwAAAAAAAPh/AAAAAAAA+H8AAAAAAAD4fwAAAAAA4GdAAAAAAAAAO0AAAAAAAAD4fwAAAAAAAPh/AAAAAABAd0AAAAAAAAD4fwAAAAAAAPh/AAAAAAAA+H8AAAAAAAD4fwAAAAAAAPh/AAAAAAAA+H8AAAAAAAD4fwAAAAAAAPh/AAAAAAAA+H8AAAAAAAA7QAAAAAAAwF1AAAAAAAAA+H8AAAAAAAD4fwAAAAAAAPh/AAAAAAAA+H8AAAAAAAD4fwAAAAAAAPh/AAAAAAAA+H8AAAAAAIBMQAAAAAAAAPh/AAAAAAAA+H8AAAAAAAD4fwAAAAAAAPh/AAAAAAAA+H8AAAAAAAD4fwAAAAAAAPh/AAAAAAAA+H8AAAAAAAD4fwAAAAAAAPh/AAAAAAAA+H8AAAAAAAD4fwAAAAAAAPh/AAAAAAAA+H8AAAAAAAD4fwAAAAAAAPh/AAAAAAAAM0AAAAAAAAD4fwAAAAAAAFRAAAAAAAAA+H8AAAAAAAD4fwAAAAAAAPh/AAAAAAAA+H8AAAAAAAA6QAAAAAAAAPh/AAAAAAAA+H8AAAAAAAD4fwAAAAAAAPh/AAAAAAAA+H8AAAAAAAD4fwAAAAAAQFJAAAAAAAAA+H8AAAAAAAD4fwAAAAAAACxAAAAAAAAA+H8AAAAAAAD4fwAAAAAAAPh/AAAAAAAA+H8AAAAAAAD4fwAAAAAAgEBAAAAAAAAA+H8AAAAAAAD4fwAAAAAAAPh/AAAAAAAA+H8AAAAAAAD4fwAAAAAAAPh/AAAAAAAAMEAAAAAAAAD4fwAAAAAAAPh/AAAAAAAA+H8AAAAAAMBuQAAAAAAAACJAAAAAAAAAKEAAAAAAAAD4fwAAAAAAAPh/AAAAAAAA+H8AAAAAAAD4fwAAAAAAAPh/AAAAAAAA+H8AAAAAAKB1QAAAAAAAADFAAAAAAAAA+H8AAAAAAOCKQAAAAAAAAPh/AAAAAAAA+H8AAAAAAAD4fwAAAAAAAPh/AAAAAAAA+H8AAAAAAAD4fwAAAAAAAPh/AAAAAAAA+H8AAAAAAAD4fwAAAAAAAPh/AAAAAAAA+H8AAAAAAAD4fwAAAAAAAPh/AAAAAAAA+H8AAAAAAAD4fwAAAAAAAPh/AAAAAACASkAAAAAAAAD4fwAAAAAAAPh/AAAAAAAA+H8AAAAAAAD4fwAAAAAAAPh/AAAAAAAA+H8AAAAAAAD4fwAAAAAAAPh/AAAAAAAA+H8AAAAAAAD4fwAAAAAAAPh/AAAAAAAA+H8AAAAAAAD4fwAAAAAAAPh/AAAAAAAA+H8AAAAAAAD4fwAAAAAAAPh/AAAAAAAA+H8AAAAAAAD4fwAAAAAAAPh/AAAAAAAA+H8AAAAAAAD4fwAAAAAAAPh/AAAAAAAA+H8AAAAAAAD4fwAAAAAAAPh/AAAAAAAAUUAAAAAAAEBSQAAAAAAAAC5AAAAAAAAA+H8AAAAAAAD4fwAAAAAAACpAAAAAAACgYUAAAAAAAAD4fwAAAAAAAPh/AAAAAAAA+H8AAAAAAAAoQAAAAAAAAPh/AAAAAAAA8D8AAAAAAAD4fwAAAAAAAPh/AAAAAAAA+H8AAAAAAAD4fwAAAAAAAPh/AAAAAAAA+H8AAAAAAAD4fwAAAAAAAPh/AAAAAAAA+H8AAAAAAAD4fwAAAAAAAPh/AAAAAAAAM0AAAAAAAAAwQAAAAAAAAPh/AAAAAAAAEEAAAAAAAAD4fwAAAAAAAPh/AAAAAAAA+H8AAAAAAAD4fwAAAAAAAPh/AAAAAAAA+H8AAAAAAAD4fwAAAAAAAPh/AAAAAAAA+H8AAAAAAAD4fwAAAAAAAElAAAAAAADAYEAAAAAAAAD4fwAAAAAAAC5AAAAAAAAA+H8AAAAAAAD4fwAAAAAAAPh/AAAAAAAA+H8AAAAAAAD4fwAAAAAAADFAAAAAAAAA+H8AAAAAAEBTQAAAAAAAAPh/AAAAAAAA+H8AAAAAAAD4fwAAAAAA4GdAAAAAAAAA+H8AAAAAAIBNQAAAAAAAAPh/AAAAAAAA+H8AAAAAAAD4fwAAAAAAAPh/AAAAAAAA+H8AAAAAAAD4fwAAAAAAgFlAAAAAAAAA8D8AAAAAAAAkQAAAAAAAAPh/AAAAAAAA+H8AAAAAAAD4fwAAAAAAAPh/AAAAAAAA+H8AAAAAAAD4fwAAAAAAAPh/AAAAAAAA+H8AAAAAAAD4fwAAAAAAAPh/AAAAAAAA+H8AAAAAAAD4fwAAAAAAAPh/AAAAAAAA+H8AAAAAAABIQAAAAAAAAPh/AAAAAAAA+H8AAAAAAAD4fwAAAAAAADpAAAAAAAAA+H8AAAAAAAD4fwAAAAAAAPh/AAAAAAAA+H8AAAAAAAD4fwAAAAAAAPh/AAAAAABAjUAAAAAAAAD4fwAAAAAAAPh/AAAAAAAA+H8AAAAAAAD4fwAAAAAAAPh/AAAAAAAA+H8AAAAAAAD4fwAAAAAAAPh/AAAAAAAA+H8AAAAAAAD4fwAAAAAAAPh/AAAAAAAA+H8AAAAAAABUQAAAAAAA8HNAAAAAAAAACEAAAAAAAAD4fwAAAAAAAPh/AAAAAADAUEAAAAAAAAD4fwAAAAAAgGNAAAAAAAAAZUAAAAAAAAD4fwAAAAAAAE1AAAAAAAAA+H8AAAAAAAD4fwAAAAAAAPh/AAAAAAAA+H8AAAAAAAD4fwAAAAAAAPA/AAAAAAAA+H8AAAAAAEBlQAAAAAAAACxAAAAAAAAA+H8AAAAAAAD4fwAAAAAAAABAAAAAAAAAMUAAAAAAAMBpQAAAAAAAAPh/AAAAAAAA+H8AAAAAAAD4fwAAAAAAAF5AAAAAAAAA+H8AAAAAAAD4fwAAAAAAAPh/AAAAAAAA+H8AAAAAACBhQAAAAAAAAPh/AAAAAAAA+H8AAAAAAAD4fwAAAAAAAPh/AAAAAAAA+H8AAAAAAAD4fwAAAAAAAPh/AAAAAAAARkAAAAAAAIBeQAAAAAAAAPh/AAAAAAAA+H8AAAAAAAD4fwAAAAAAAPh/AAAAAAAASkAAAAAAAAD4fwAAAAAAAPh/AAAAAAAAJkAAAAAAAAD4fwAAAAAAAPh/AAAAAACAVEAAAAAAAAD4fwAAAAAAAPh/AAAAAAAwd0AAAAAAAMBRQAAAAAAAgElAAAAAAAAAXkAAAAAAAAD4fwAAAAAAAPh/AAAAAAAA+H8AAAAAAAD4fwAAAAAAAPh/AAAAAAAA+H8AAAAAAAD4fwAAAAAAAPh/AAAAAAAA+H8AAAAAAAD4fwAAAAAAgEVAAAAAAAAA+H8AAAAAAEBVQAAAAAAAAPh/AAAAAAAAOkAAAAAAAAD4fwAAAAAAAPh/AAAAAAAAEEAAAAAAAAD4fwAAAAAAAPh/AAAAAAAA+H8AAAAAAAD4fwAAAAAAACJAAAAAAAAA+H8AAAAAAAD4fwAAAAAAAPh/AAAAAAAAHEAAAAAAAAD4fwAAAAAAAPh/AAAAAAAAckAAAAAAAAD4fwAAAAAAAPh/AAAAAAAA+H8AAAAAAAAuQAAAAAAAAD1AAAAAAAAA+H8AAAAAAAD4fwAAAAAAAPh/AAAAAAAA+H8AAAAAAAD4fwAAAAAAAPh/AAAAAAAA+H8AAAAAAAD4fwAAAAAAAPh/AAAAAAAA+H8AAAAAAAD4fwAAAAAAAPh/AAAAAAAA+H8AAAAAAAD4fwAAAAAAAPh/AAAAAAAA+H8AAAAAAAD4fwAAAAAAAPh/AAAAAAAA+H8AAAAAAAD4fwAAAAAAAPh/AAAAAAAA+H8AAAAAAAD4fwAAAAAAADhAAAAAAAAA+H8AAAAAAAD4fwAAAAAAAPh/AAAAAAAAMUAAAAAAAAD4fwAAAAAAgEhAAAAAAAAA+H8AAAAAAAD4fwAAAAAAAPh/AAAAAAAA+H8AAAAAAAD4fwAAAAAAAAhAAAAAAAAwfUAAAAAAAGBgQAAAAAAAAPh/AAAAAAAA+H8AAAAAAAD4fwAAAAAAAPh/AAAAAAAA+H8AAAAAAEBUQAAAAAAAAPh/AAAAAAAA8D8AAAAAAAD4fwAAAAAAAPh/AAAAAAAA+H8AAAAAAAD4fwAAAAAAAPh/AAAAAAAA+H8AAAAAAAD4fwAAAAAAADFAAAAAAAAA+H8AAAAAAAD4fwAAAAAAAPh/AAAAAAAA+H8AAAAAAAD4fwAAAAAAAPA/AAAAAAAA+H8AAAAAAAD4fwAAAAAAAPh/AAAAAAAA+H8AAAAAAAD4fwAAAAAAAPh/AAAAAABAakAAAAAAAAD4fwAAAAAAAPh/AAAAAAAAOUAAAAAAAAD4fwAAAAAAADVAAAAAAAAA+H8AAAAAAAD4fwAAAAAAAPh/AAAAAAAA+H8AAAAAAAD4fwAAAAAAAPh/AAAAAAAAc0AAAAAAAAD4fwAAAAAAAPh/AAAAAADAU0AAAAAAAAD4fwAAAAAAAPh/AAAAAAAA+H8AAAAAAAD4fwAAAAAAAPh/AAAAAABAXkAAAAAAAAD4fwAAAAAAAPh/AAAAAAAA+H8AAAAAAAD4fwAAAAAAAPh/AAAAAAAAQ0AAAAAAAAD4fwAAAAAAABxAAAAAAAAA+H8AAAAAAAD4fwAAAAAAAPh/AAAAAACAREAAAAAAAAD4fwAAAAAAAPh/AAAAAAAA+H8AAAAAAAD4fwAAAAAAAPh/AAAAAAAAQEAAAAAAAABXQAAAAAAAAPh/AAAAAAAALEAAAAAAAAD4fwAAAAAAAPh/AAAAAAAA+H8AAAAAAGBhQAAAAAAAAPh/AAAAAAAA+H8AAAAAAAD4fwAAAAAAAPh/AAAAAAAA+H8AAAAAAAD4fwAAAAAAgEZAAAAAAADAVEAAAAAAAAD4fwAAAAAAADJAAAAAAAAARkAAAAAAAAD4fwAAAAAAAPh/AAAAAAAA+H8AAAAAAHB2QAAAAAAAAPh/AAAAAAAA+H8AAAAAADByQAAAAAAAAPh/AAAAAAAA+H8AAAAAAAD4fwAAAAAAAPh/AAAAAAAA+H8AAAAAAAAoQAAAAAAAAPh/AAAAAAAA+H8AAAAAAAD4fwAAAAAAAPh/AAAAAAAAFEAAAAAAAAD4fwAAAAAAAPh/AAAAAAAA+H8AAAAAAIBEQAAAAAAAAPh/AAAAAAAA+H8AAAAAAAD4fwAAAAAAABRAAAAAAAAA+H8AAAAAAIBUQAAAAAAAAPh/AAAAAAAA+H8AAAAAAAAzQAAAAAAAAE1AAAAAAAAA+H8AAAAAAAD4fwAAAAAAAPh/AAAAAAAA+H8AAAAAAAD4fwAAAAAAAPh/AAAAAADAXEAAAAAAAAD4fwAAAAAAAPh/AAAAAAAA+H8AAAAAAAD4fwAAAAAAAPh/AAAAAAAA+H8AAAAAAAD4fwAAAAAAAPh/AAAAAACATkAAAAAAAAD4fwAAAAAAADFAAAAAAAAA+H8AAAAAAAD4fwAAAAAAABxAAAAAAAAA+H8AAAAAAAA1QAAAAAAAAPh/AAAAAAAA+H8AAAAAAABBQAAAAAAAAPh/AAAAAAAA+H8AAAAAAIBFQAAAAAAAAPh/AAAAAAAA+H8AAAAAAAA1QAAAAAAAAPA/AAAAAAAA+H8AAAAAAAD4fwAAAAAAAPh/AAAAAAAAKEAAAAAAAAD4fwAAAAAAAPh/AAAAAAAAGEAAAAAAAAD4fwAAAAAAAPh/AAAAAAAA+H8AAAAAAAD4fwAAAAAAQFtAAAAAAAAA+H8AAAAAAAD4fwAAAAAAAPh/AAAAAAAA+H8AAAAAAEB8QAAAAAAAAPh/AAAAAAAA+H8AAAAAAAD4fwAAAAAAYGpAAAAAAAAAO0AAAAAAAAA3QAAAAAAAAPh/AAAAAAAA+H8AAAAAAAD4fwAAAAAAAPh/AAAAAAAA+H8AAAAAAABmQAAAAAAAAPh/AAAAAAAA+H8AAAAAAAD4fwAAAAAAAPh/AAAAAAAA+H8AAAAAAAD4fwAAAAAAAPh/AAAAAAAA+H8AAAAAAAD4fwAAAAAAAPh/AAAAAAAA+H8AAAAAAAAkQAAAAAAAAPh/AAAAAAAA+H8AAAAAAAD4fwAAAAAAAPh/AAAAAAAA+H8AAAAAAAD4fwAAAAAAAPA/AAAAAAAA+H8AAAAAAADwPwAAAAAAcHZAAAAAAAAA+H8AAAAAAAD4fwAAAAAAAPh/AAAAAAAA+H8AAAAAAAD4fwAAAAAAAPh/AAAAAAAAQEAAAAAAAAA8QAAAAAAAAPh/AAAAAAAAJEAAAAAAAAD4fwAAAAAAAE5AAAAAAAAA+H8AAAAAAAAiQAAAAAAAAPh/AAAAAAAA+H8AAAAAAAD4fwAAAAAAAPh/AAAAAAAA+H8AAAAAAABTQAAAAAAAAPh/AAAAAAAA+H8AAAAAAAD4fwAAAAAAAPh/AAAAAABAVkAAAAAAAAD4fwAAAAAAAPh/AAAAAAAA+H8AAAAAAAD4fwAAAAAAAPh/AAAAAAAA+H8AAAAAAABAQAAAAAAAQGtAAAAAAACwj0AAAAAAAAD4fwAAAAAAAPh/AAAAAAAA+H8AAAAAAIBGQAAAAAAAAPh/AAAAAAAA+H8AAAAAAAD4fwAAAAAAAPh/AAAAAAAA+H8AAAAAAAD4fwAAAAAAAPh/AAAAAAAwdEAAAAAAAAD4fwAAAAAAAPh/AAAAAAAA+H8AAAAAAAAcQAAAAAAAAPh/AAAAAAAAFEAAAAAAAAD4fwAAAAAAAPh/AAAAAAAA+H8AAAAAAMBZQAAAAAAAAPh/AAAAAAAA+H8AAAAAAMBdQAAAAAAAAPh/AAAAAAAA+H8AAAAAAEBYQAAAAAAAwGRAAAAAAAAA+H8AAAAAAAAmQAAAAAAAQF5AAAAAAAAA+H8AAAAAAAAgQAAAAAAAAPh/AAAAAAAA+H8AAAAAAAAuQAAAAAAAAPh/AAAAAAAA+H8AAAAAAAD4fwAAAAAAAPh/AAAAAAAA+H8AAAAAAAD4fwAAAAAAAHdAAAAAAAAA+H8AAAAAAAAsQAAAAAAAAPh/AAAAAAAAXEAAAAAAAEBSQAAAAAAAAPh/AAAAAAAA+H8AAAAAAAD4fwAAAAAAAPh/AAAAAAAA+H8AAAAAAAD4fwAAAAAAABhAAAAAAAAA+H8AAAAAAAD4fwAAAAAAAPh/AAAAAAAA+H8AAAAAAAD4fwAAAAAAAPh/AAAAAAAA+H8AAAAAAAD4fwAAAAAAAPh/AAAAAAAA+H8AAAAAAABZQAAAAAAAAPh/AAAAAAAA+H8AAAAAAAD4fwAAAAAAcHVAAAAAAACATEAAAAAAAAD4fwAAAAAAAPh/AAAAAAAA+H8AAAAAAAD4fwAAAAAAAPh/AAAAAAAA+H8AAAAAAAD4fwAAAAAAACJAAAAAAAAA+H8AAAAAAAD4fwAAAAAAAPh/AAAAAAAA+H8AAAAAAAD4fwAAAAAAAPh/AAAAAAAA+H8AAAAAAABBQAAAAAAAAFxAAAAAAAAA+H8AAAAAAAD4fwAAAAAAwFVAAAAAAAAA+H8AAAAAAAD4fwAAAAAAAPh/AAAAAAAA+H8AAAAAAAAqQAAAAAAAAPh/AAAAAADogUAAAAAAAAAgQAAAAAAAAPh/AAAAAAAA+H8AAAAAAAD4fwAAAAAAAPh/AAAAAAAA+H8AAAAAAAD4fwAAAAAAIGRAAAAAAAAwekAAAAAAAAD4fwAAAAAAAPh/AAAAAAAA+H8AAAAAAAD4fwAAAAAAAPh/AAAAAAAA+H8AAAAAAAD4fwAAAAAAgEFAAAAAAAAA+H8AAAAAAADwPwAAAAAAAPh/AAAAAAAA+H8AAAAAAAD4fwAAAAAAAPh/AAAAAAAAPEAAAAAAAEBdQAAAAAAAAPh/AAAAAAAA+H8AAAAAAAD4fwAAAAAAAPh/AAAAAAAACEAAAAAAAAD4fwAAAAAAAPh/AAAAAAAAJEAAAAAAAAAsQAAAAAAAAPh/AAAAAAAA+H8AAAAAAAD4fwAAAAAAAPh/AAAAAAAA+H8AAAAAAAD4fwAAAAAAAPh/AAAAAAAA+H8AAAAAAAD4fwAAAAAAAPh/AAAAAAAA+H8AAAAAAAD4fwAAAAAAAPA/AAAAAAAALkAAAAAAAGB0QAAAAAAAAPh/AAAAAACAVkAAAAAAAAD4fwAAAAAAAPh/AAAAAAAA+H8AAAAAAAD4fwAAAAAAAPh/AAAAAADAV0AAAAAAAAD4fwAAAAAAAPh/AAAAAAAA+H8AAAAAAAA6QAAAAAAAAPh/AAAAAAAA+H8AAAAAAAD4fwAAAAAAwGxAAAAAAAAA+H8AAAAAAAD4fwAAAAAAAPh/AAAAAAAA+H8AAAAAADCDQAAAAAAAAPh/AAAAAAAA8D8AAAAAAAD4fwAAAAAAAPh/AAAAAAAA+H8AAAAAAAD4fwAAAAAAAPh/AAAAAAAAaEAAAAAAAAD4fwAAAAAAAPh/AAAAAAAA+H8AAAAAAAAgQAAAAAAAABxAAAAAAAAAM0AAAAAAAAD4fwAAAAAAAPh/AAAAAAAA+H8AAAAAAABNQAAAAAAAADFAAAAAAAAA+H8AAAAAAAA4QAAAAAAAAPh/AAAAAAAALEAAAAAAAMBSQAAAAAAAAPh/AAAAAAAA+H8AAAAAAAD4fwAAAAAAAPh/AAAAAAAA+H8AAAAAAAD4fwAAAAAAAPh/AAAAAAAA+H8AAAAAAABMQAAAAAAAgEFAAAAAAABAU0AAAAAAAAD4fwAAAAAAAPh/AAAAAADAcUAAAAAAAAD4fwAAAAAAAPh/AAAAAAAA+H8AAAAAAAD4fwAAAAAAAPh/AAAAAAAA+H8AAAAAAAD4fwAAAAAAAPh/AAAAAAAAAEAAAAAAAAD4fwAAAAAAAGxAAAAAAAAA+H8AAAAAAAD4fwAAAAAAAPh/AAAAAAAA+H8AAAAAAAD4fwAAAAAAAPh/AAAAAAAA8D8AAAAAAAD4fwAAAAAAAPh/AAAAAAAAKkAAAAAAAAD4fwAAAAAAAD5AAAAAAAAA+H8AAAAAAAD4fwAAAAAAAPh/AAAAAAAA8D8AAAAAAAD4fwAAAAAAAPh/AAAAAAAA+H8AAAAAAAD4fwAAAAAAADNAAAAAAAAA+H8AAAAAAAAyQAAAAAAAAPh/AAAAAAAA+H8AAAAAAAAYQAAAAAAAAPh/AAAAAAAA+H8AAAAAAIBXQAAAAAAAwFJAAAAAAAAA+H8AAAAAAAD4fwAAAAAAAF9AAAAAAAAA+H8AAAAAAGBlQAAAAAAAgEBAAAAAAAAAGEAAAAAAAAD4fwAAAAAAAPh/AAAAAAAA+H8AAAAAAAD4fwAAAAAAADtAAAAAAAAA+H8AAAAAAAD4fwAAAAAAAPh/AAAAAAAA+H8AAAAAAAD4fwAAAAAAAPh/AAAAAAAAWEAAAAAAAAD4fwAAAAAAAPh/AAAAAAAA+H8AAAAAAAD4fwAAAAAAAPh/AAAAAAAA+H8AAAAAAAD4fwAAAAAAAPh/AAAAAAAA+H8AAAAAAAD4fwAAAAAAADRAAAAAAAAA+H8AAAAAAAAqQAAAAAAAAPh/AAAAAAAA+H8AAAAAAAD4fwAAAAAAAPh/AAAAAAAA+H8AAAAAAABSQAAAAAAA4HBAAAAAAAAA+H8AAAAAAAD4fwAAAAAAAPh/AAAAAAAA+H8AAAAAACBmQAAAAAAAAPh/AAAAAAAAV0AAAAAAAAD4fwAAAAAAAPh/AAAAAAAA+H8AAAAAAAD4fwAAAAAAAPh/AAAAAAAA+H8AAAAAAAD4fwAAAAAAAEBAAAAAAAAA+H8AAAAAAAD4fwAAAAAAAPh/AAAAAAAA+H8AAAAAAAD4fwAAAAAAwFlAAAAAAAAA+H8AAAAAAEBhQAAAAAAAAPh/AAAAAAAA+H8AAAAAAAD4fwAAAAAAAPh/AAAAAAAA+H8AAAAAAIBYQAAAAAAAcHNAAAAAAAAA+H8AAAAAAAD4fwAAAAAAcHdAAAAAAAAATkAAAAAAAAD4fwAAAAAAAPh/AAAAAAAA+H8AAAAAAAD4fwAAAAAAAPh/AAAAAAAA+H8AAAAAAAD4fwAAAAAAAPh/AAAAAAAA+H8AAAAAAAD4fwAAAAAAAPh/AAAAAAAA+H8AAAAAAAD4fwAAAAAAAPh/AAAAAAAA+H8AAAAAAAD4fwAAAAAAAPh/AAAAAAAA+H8AAAAAAAD4fwAAAAAAAPh/AAAAAADIjkAAAAAAAAA3QAAAAAAAQFJAAAAAAAAA+H8AAAAAAJBzQAAAAAAAAPh/AAAAAAAA+H8AAAAAAAD4fwAAAAAAABhAAAAAAAAA+H8AAAAAAGBsQAAAAAAAQFVAAAAAAAAA+H8AAAAAAAD4fwAAAAAAAPh/AAAAAAAA+H8AAAAAAMBbQAAAAAAAAPh/AAAAAAAA+H8AAAAAAAD4fwAAAAAAAPh/AAAAAAAA+H8AAAAAAAD4fwAAAAAAAPh/AAAAAAAA+H8AAAAAAAD4fwAAAAAAAPh/AAAAAAAA+H8AAAAAAAD4fwAAAAAAAPh/AAAAAAAA+H8AAAAAAAD4fwAAAAAAAPh/AAAAAAAA+H8AAAAAAABPQAAAAAAAYGJAAAAAAAAA+H8AAAAAAAD4fwAAAAAAAPh/AAAAAAAA+H8AAAAAAAD4fwAAAAAAAPh/AAAAAABAUkAAAAAAAAD4fwAAAAAAAPh/AAAAAAAA+H8AAAAAAAD4fwAAAAAAAPh/AAAAAAAA+H8AAAAAAAD4fwAAAAAAAPh/AAAAAACAVEAAAAAAAAA+QAAAAAAAABhAAAAAAAAA+H8AAAAAAAD4fwAAAAAAYHNAAAAAAAAA+H8AAAAAAAD4fwAAAAAAAPh/AAAAAAAALkAAAAAAAAD4fwAAAAAAAPh/AAAAAAAA+H8AAAAAAAD4fwAAAAAAAPh/AAAAAAAATkAAAAAAAAD4fwAAAAAAAPh/AAAAAAAAJEAAAAAAAAD4fwAAAAAAAPh/AAAAAAAA+H8AAAAAAAD4fwAAAAAAgFxAAAAAAAAA+H8AAAAAAAD4fwAAAAAAAPh/AAAAAADgbkAAAAAAAAD4fwAAAAAAAPh/AAAAAAAA+H8AAAAAAAD4fwAAAAAAAPh/AAAAAAAA+H8AAAAAAAAAQAAAAAAAADVAAAAAAAAA+H8AAAAAAAD4fwAAAAAAAPh/AAAAAAAA+H8AAAAAAAD4fwAAAAAAQFJAAAAAAAAgYEAAAAAAAAD4fwAAAAAAAPh/AAAAAAAA+H8AAAAAACBkQAAAAAAAAPh/AAAAAAAA+H8AAAAAAAD4fwAAAAAAAPh/AAAAAACAX0AAAAAAAAA2QAAAAAAAAPh/AAAAAAAA+H8AAAAAAABdQAAAAAAAQF5AAAAAAAAA+H8AAAAAAAD4fwAAAAAAAPh/AAAAAAAA+H8AAAAAAAD4fwAAAAAAAPh/AAAAAAAA+H8AAAAAAAD4fwAAAAAAAPh/AAAAAAAA+H8AAAAAAAD4fwAAAAAAAPh/AAAAAAAA+H8AAAAAAAD4fwAAAAAAAPh/AAAAAAAA+H8AAAAAANB/QAAAAAAAAPh/AAAAAAAA+H8AAAAAAAD4fwAAAAAAAPh/AAAAAADAUEAAAAAAAAD4fwAAAAAAAPh/AAAAAAAAP0AAAAAAAAD4fwAAAAAAAPh/AAAAAAAA+H8AAAAAAAAwQAAAAAAAAPh/AAAAAAAA+H8AAAAAAAD4fwAAAAAAQGRAAAAAAAAA+H8AAAAAAABBQAAAAAAAAPh/AAAAAAAAYkAAAAAAAAD4fwAAAAAAAPh/AAAAAAAA+H8AAAAAAEBfQAAAAAAAAPh/AAAAAAAA+H8AAAAAAAD4fwAAAAAAAPh/AAAAAAAA+H8AAAAAAMB8QAAAAAAAAPh/AAAAAAAA+H8AAAAAAAD4fwAAAAAAgEtAAAAAAAAA+H8AAAAAAAD4fwAAAAAAAPh/AAAAAAAA+H8AAAAAAAD4fwAAAAAAAPh/AAAAAAAA+H8AAAAAAABAQAAAAAAAAPh/AAAAAAAA+H8AAAAAAABVQAAAAAAAAPh/AAAAAAAA+H8AAAAAAAD4fwAAAAAAAPh/AAAAAAAA+H8AAAAAAAD4fwAAAAAAAPA/AAAAAAAA+H8AAAAAAAD4fwAAAAAAgFFAAAAAAAAA+H8AAAAAAAD4fwAAAAAAAPh/AAAAAACgZ0AAAAAAAAD4fwAAAAAAgGVAAAAAAAAA+H8AAAAAAFB2QAAAAAAAAPh/AAAAAAAA+H8AAAAAAADwPwAAAAAAACxAAAAAAAAA+H8AAAAAAAD4fwAAAAAAAPh/AAAAAAAALkAAAAAAAAD4fwAAAAAAAPh/AAAAAAAA+H8AAAAAAAD4fwAAAAAAAPh/AAAAAAAA+H8AAAAAAAD4fwAAAAAAAPh/AAAAAAAA+H8AAAAAAAD4fwAAAAAAAPh/AAAAAAAA+H8AAAAAAAD4fwAAAAAAAF9AAAAAAAAA+H8AAAAAAAD4fwAAAAAAAPh/AAAAAAAA+H8AAAAAAAD4fwAAAAAAAPh/AAAAAAAA+H8AAAAAAAD4fwAAAAAAAPh/AAAAAAAA+H8AAAAAAAD4fwAAAAAAAPh/AAAAAAAA+H8AAAAAAAD4fwAAAAAAAPh/AAAAAAAA+H8AAAAAAAD4fwAAAAAAAPh/AAAAAAAA+H8AAAAAAAD4fwAAAAAAAPh/AAAAAAAA+H8AAAAAAAD4fwAAAAAAgEBAAAAAAACAZEAAAAAAAAD4fwAAAAAA4HxAAAAAAAAAOUAAAAAAAAD4fwAAAAAAAPh/AAAAAAAA+H8AAAAAAAD4fwAAAAAAAPh/AAAAAAAA+H8AAAAAAAD4fwAAAAAAgEJAAAAAAABAfUAAAAAAAAD4fwAAAAAAAPh/AAAAAAAAREAAAAAAAAAsQAAAAAAAQHBAAAAAAAAA+H8AAAAAAAD4fwAAAAAAAPh/AAAAAAAA+H8AAAAAAAD4fwAAAAAAADpAAAAAAAAA+H8AAAAAAAD4fwAAAAAAAPh/AAAAAAAA+H8AAAAAAAAIQAAAAAAAgEVAAAAAAAAA+H8AAAAAAAD4fwAAAAAAAPh/AAAAAABgf0AAAAAAAAD4fwAAAAAAAPh/AAAAAAAA+H8AAAAAAAD4fwAAAAAAAPh/AAAAAAAAIEAAAAAAAAD4fwAAAAAAAPh/AAAAAAAA+H8AAAAAAAD4fwAAAAAAAPh/AAAAAAAA+H8AAAAAAAD4fwAAAAAAAPh/AAAAAABgb0AAAAAAAAD4fwAAAAAAAPh/AAAAAAAA+H8AAAAAAAAqQAAAAAAAAPh/AAAAAAAA+H8AAAAAABBwQAAAAAAAAPh/AAAAAAAA+H8AAAAAAAD4fwAAAAAAAPh/AAAAAAAA+H8AAAAAAAD4fwAAAAAAAPh/AAAAAAAA+H8AAAAAAAD4fwAAAAAAAPh/AAAAAAAAGEAAAAAAAAD4fwAAAAAAAPh/AAAAAAAA+H8AAAAAAAD4fwAAAAAAAPh/AAAAAAAA+H8AAAAAAAD4fwAAAAAAQFxAAAAAAAAA+H8AAAAAAAAzQAAAAAAAABhAAAAAAACAbUAAAAAAAAD4fwAAAAAAAPh/AAAAAAAA+H8AAAAAAAD4fwAAAAAAAPh/AAAAAAAA+H8AAAAAAAD4fwAAAAAAAPh/AAAAAAAAEEAAAAAAAAD4fwAAAAAAAPh/AAAAAAAA+H8AAAAAAAD4fwAAAAAAgEdAAAAAAAAA+H8AAAAAAABBQAAAAAAAAPh/AAAAAAAAMUAAAAAAAAD4fwAAAAAAAPh/AAAAAAAA+H8AAAAAAAD4fwAAAAAAAPh/AAAAAAAA+H8AAAAAAAD4fwAAAAAAAPh/AAAAAAAA+H8AAAAAAAD4fwAAAAAAAPh/AAAAAADAZkAAAAAAAAD4fwAAAAAAAPh/AAAAAAAA+H8AAAAAAAD4fwAAAAAAAPh/AAAAAAAA+H8AAAAAAAD4fwAAAAAAAPh/AAAAAAAA+H8AAAAAAAD4fwAAAAAAAPh/AAAAAAAAMUAAAAAAAAD4fwAAAAAAAPh/AAAAAAAAKkAAAAAAAAD4fwAAAAAAAPh/AAAAAAAA+H8AAAAAAAD4fwAAAAAAAPh/AAAAAAAA+H8AAAAAAABAQAAAAAAAAPh/AAAAAAAAAEAAAAAAAAA7QAAAAAAAAPh/AAAAAAAA+H8AAAAAAAD4fwAAAAAAAABAAAAAAAAAekAAAAAAAAD4fwAAAAAAAPh/AAAAAAAA+H8AAAAAAAD4fwAAAAAAAPh/AAAAAAAA+H8AAAAAAAD4fwAAAAAAIHVAAAAAAAAA+H8AAAAAAAD4fwAAAAAAAGdAAAAAAAAA+H8AAAAAAAD4fwAAAAAAAPh/AAAAAAAA+H8AAAAAAGBjQAAAAAAAgEVAAAAAAAAA+H8AAAAAAAAIQAAAAAAAAPh/AAAAAAAAXkAAAAAAAAAcQAAAAAAAAPh/AAAAAAAA+H8AAAAAAAD4fwAAAAAAAPh/AAAAAAAA+H8AAAAAAAD4fwAAAAAAAABAAAAAAAAA+H8AAAAAAAD4fwAAAAAAAPh/AAAAAAAA+H8AAAAAAAD4fwAAAAAAgEdAAAAAAAAA+H8AAAAAAAD4fwAAAAAAADNAAAAAAAAA+H8AAAAAAMBSQAAAAAAAAPh/AAAAAAAA+H8AAAAAAAD4fwAAAAAAAPh/AAAAAADQc0AAAAAAAAAxQAAAAAAAAPh/AAAAAAAA+H8AAAAAAAD4fwAAAAAAAPh/AAAAAAAAd0AAAAAAAAAyQAAAAAAAAPh/AAAAAAAA+H8AAAAAAAD4fwAAAAAAAPh/AAAAAAAA+H8AAAAAAAD4fwAAAAAAAPh/AAAAAAAA+H8AAAAAAAD4fwAAAAAAAPh/AAAAAAAA+H8AAAAAACiGQAAAAAAAAPh/AAAAAAAA+H8AAAAAAAD4fwAAAAAAAPh/AAAAAAAA+H8AAAAAAAAIQAAAAAAAAPh/AAAAAAAA+H8AAAAAAEBhQAAAAAAAAPh/AAAAAAAA+H8AAAAAAAD4fwAAAAAAAPh/AAAAAADAbEAAAAAAAAD4fwAAAAAAAPh/AAAAAAAA+H8AAAAAAAD4fwAAAAAAAPh/AAAAAAAA+H8AAAAAAAD4fwAAAAAAAPh/AAAAAAAA+H8AAAAAAAD4fwAAAAAAAHJAAAAAAAAA+H8AAAAAAMBfQAAAAAAAAPh/AAAAAAAASkAAAAAAAAD4fwAAAAAAAPh/AAAAAAAA+H8AAAAAAAD4fwAAAAAAAPh/AAAAAACAVEAAAAAAAAD4fwAAAAAAADhAAAAAAAAA+H8AAAAAAAD4fwAAAAAAAPh/AAAAAACgdEAAAAAAAAAUQAAAAAAAAPh/AAAAAAAAIEAAAAAAAAD4fwAAAAAAAPh/AAAAAAAA+H8AAAAAAAD4fwAAAAAAAPh/AAAAAAAA+H8AAAAAAIBgQAAAAAAAAPh/AAAAAAAA+H8AAAAAAAD4fwAAAAAAAPh/AAAAAAAACEAAAAAAAAD4fwAAAAAAAPh/AAAAAAAA+H8AAAAAAMBcQAAAAAAAACRAAAAAAACQckAAAAAAAAD4fwAAAAAAwFlAAAAAAAAAEEAAAAAAAAD4fwAAAAAAAPh/AAAAAAAA+H8AAAAAAAD4fwAAAAAAADtAAAAAAAAA+H8AAAAAAAD4fwAAAAAAAPh/AAAAAAAA+H8AAAAAAAD4fwAAAAAAABBAAAAAAAAAFEAAAAAAAAD4fwAAAAAAYGBAAAAAAAAA+H8AAAAAAABCQAAAAAAAAPh/AAAAAAAA+H8AAAAAAAD4fwAAAAAAAPh/AAAAAAAA+H8AAAAAAAD4fwAAAAAAAPh/AAAAAAAA+H8AAAAAAAD4fwAAAAAAAPh/AAAAAAAALkAAAAAAAABKQAAAAAAAAPh/AAAAAAAA+H8AAAAAAGBtQAAAAAAAAPh/AAAAAAAA+H8AAAAAAABCQAAAAAAAABBAAAAAAAAANkAAAAAAAAD4fwAAAAAAgExAAAAAAABAY0AAAAAAAAD4fwAAAAAAABRAAAAAAAAA+H8AAAAAAAD4fwAAAAAAAPh/AAAAAAAA+H8AAAAAAABSQAAAAAAAAPh/AAAAAAAA+H8AAAAAAAD4fwAAAAAAABBAAAAAAAAAGEAAAAAAAAD4fwAAAAAAAPh/AAAAAAAA+H8AAAAAAAD4fwAAAAAA4HlAAAAAAAAA+H8AAAAAAAD4fwAAAAAAAPh/AAAAAAAA+H8AAAAAAAA9QAAAAAAAAPh/AAAAAAAA+H8AAAAAAABHQAAAAAAAAPh/AAAAAAAA+H8AAAAAAAD4fwAAAAAAAPh/AAAAAAAAOUAAAAAAAAD4fwAAAAAAAPA/AAAAAAAAOUAAAAAAAAD4fwAAAAAAAPh/AAAAAACga0AAAAAAAAD4fwAAAAAAAPh/AAAAAAAA+H8AAAAAAAD4fwAAAAAAAPh/AAAAAAAA+H8AAAAAAAA+QAAAAAAAgEhAAAAAAAAA+H8AAAAAAAD4fwAAAAAAAPh/AAAAAAAA+H8AAAAAAAAkQAAAAAAAYIJAAAAAAAAA+H8AAAAAAAD4fwAAAAAAAPh/AAAAAAAA+H8AAAAAAAD4fwAAAAAAAPh/AAAAAAAA+H8AAAAAAAD4fwAAAAAAAPh/AAAAAAAA+H8AAAAAAAD4fwAAAAAAADlAAAAAAAAA+H8AAAAAAAD4fwAAAAAAIGhAAAAAAAAA+H8AAAAAAAD4fwAAAAAAAPh/AAAAAAAA+H8AAAAAAAA3QAAAAAAAAPh/AAAAAAAA+H8AAAAAAAD4fwAAAAAAAPh/AAAAAAAA+H8AAAAAAAAoQAAAAAAAAPh/AAAAAACASkAAAAAAAGBkQAAAAAAAAPh/AAAAAAAA+H8AAAAAAAD4fwAAAAAAACZAAAAAAAAA+H8AAAAAAAAzQAAAAAAAAPh/AAAAAACgakAAAAAAAAD4fwAAAAAAACRAAAAAAAAAEEAAAAAAAABQQAAAAAAAAPh/AAAAAAAA+H8AAAAAAAD4fwAAAAAAAPh/AAAAAACAYEAAAAAAAAD4fwAAAAAAwGxAAAAAAAAA+H8AAAAAAEBZQAAAAAAAAPh/AAAAAAAA+H8AAAAAAAD4fwAAAAAAAPh/AAAAAAAA+H8AAAAAAAD4fwAAAAAAAPh/AAAAAAAA+H8AAAAAAAD4fwAAAAAAAPh/AAAAAAAA+H8AAAAAAAD4fwAAAAAAAPh/AAAAAAAA+H8AAAAAAAD4fwAAAAAAAPh/AAAAAAAA+H8AAAAAAAD4fwAAAAAAAPh/AAAAAAAA+H8AAAAAAAAgQAAAAAAAAPh/AAAAAAAA+H8AAAAAAAD4fwAAAAAAAPh/AAAAAAAAN0AAAAAAAAD4fwAAAAAAAPh/AAAAAAAA+H8AAAAAAAD4fwAAAAAAAPh/AAAAAAAA+H8AAAAAAAD4fwAAAAAAAPh/AAAAAADgbEAAAAAAAAD4fwAAAAAAAPh/AAAAAACgZkAAAAAAAAD4fwAAAAAAAPh/AAAAAAAA+H8AAAAAAEBYQAAAAAAAAPh/AAAAAAAA+H8AAAAAAAD4fwAAAAAAAPh/AAAAAAAAPkAAAAAAAAD4fwAAAAAAAPh/AAAAAAAA+H8AAAAAAAD4fwAAAAAAAPh/AAAAAAAA+H8AAAAAAIBUQAAAAAAAAPh/AAAAAABAUEAAAAAAAAD4fwAAAAAAAPh/AAAAAAAAMkAAAAAAAAD4fwAAAAAAAGNAAAAAAAAA+H8AAAAAAAD4fwAAAAAAAPh/AAAAAAAA+H8AAAAAAAD4fwAAAAAAAPh/AAAAAAAA+H8AAAAAAAD4fwAAAAAAAPh/AAAAAAAA+H8AAAAAAAD4fwAAAAAAAPh/AAAAAAAA8D8AAAAAAAD4fwAAAAAAADRAAAAAAAAA+H8AAAAAAAD4fwAAAAAAAPh/AAAAAAAA+H8AAAAAAAD4fwAAAAAAAPh/AAAAAAAA+H8AAAAAAAD4fwAAAAAAAPh/AAAAAAAA+H8AAAAAAAD4fwAAAAAAAPh/AAAAAAAA+H8AAAAAAMBZQAAAAAAAAPh/AAAAAAAA+H8AAAAAAAD4fwAAAAAAAPh/AAAAAAAA+H8AAAAAAAD4fwAAAAAAAF9AAAAAAAAA+H8AAAAAAAD4fwAAAAAAAPh/AAAAAAAA+H8AAAAAAAD4fwAAAAAAAPh/AAAAAABAVkAAAAAAAAD4fwAAAAAAgFNAAAAAAAAA+H8AAAAAAAAuQAAAAAAAAPh/AAAAAACAW0AAAAAAAIBnQAAAAAAAAPh/AAAAAAAA+H8AAAAAAAD4fwAAAAAAAPh/AAAAAAAA+H8AAAAAAAD4fwAAAAAAAPh/AAAAAACgakAAAAAAAAD4fwAAAAAAAPh/AAAAAAAA+H8AAAAAAAD4fwAAAAAAAPh/AAAAAAAA+H8AAAAAAAD4fwAAAAAAAPh/AAAAAAAA+H8AAAAAAAAuQAAAAAAAADBAAAAAAAAAaUAAAAAAAEBQQAAAAAAAAPh/AAAAAAAA+H8AAAAAAAD4fwAAAAAAAEJAAAAAAAAA+H8AAAAAAAD4fwAAAAAAAPh/AAAAAAAA+H8AAAAAAIBmQAAAAAAAAPh/AAAAAAAA+H8AAAAAAAD4fwAAAAAAAPh/AAAAAAAA+H8AAAAAAAD4fwAAAAAAAPh/AAAAAAAA+H8AAAAAAAD4fwAAAAAAAPh/AAAAAAAA+H8AAAAAAAD4fwAAAAAAAPh/AAAAAAAA+H8AAAAAAAD4fwAAAAAAAPh/AAAAAAAA+H8AAAAAAAD4fwAAAAAAADxAAAAAAAAA+H8AAAAAAAD4fwAAAAAAAPh/AAAAAAAAAEAAAAAAAAD4fwAAAAAAAPh/AAAAAAAAFEAAAAAAAAD4fwAAAAAAAPh/AAAAAAAA+H8AAAAAAAD4fwAAAAAAAPh/AAAAAAAAMEAAAAAAAAD4fwAAAAAAAPh/AAAAAAAA+H8AAAAAAAA3QAAAAAAAAPh/AAAAAAAA+H8AAAAAAAD4fwAAAAAAAPh/AAAAAAAA+H8AAAAAAAD4fwAAAAAAAPA/AAAAAAAA+H8AAAAAAAA9QAAAAAAAADtAAAAAAAAA+H8AAAAAAAD4fwAAAAAAAPh/AAAAAAAA+H8AAAAAAAD4fwAAAAAAAPh/AAAAAAAA+H8AAAAAAAD4fwAAAAAAADlAAAAAAAAA+H8AAAAAAAD4fwAAAAAAAPh/AAAAAAAA+H8AAAAAAAD4fwAAAAAAAPh/AAAAAAAA+H8AAAAAAADwPwAAAAAAAPh/AAAAAAAA+H8AAAAAAMBaQAAAAAAAAPh/AAAAAAAA+H8AAAAAAAD4fwAAAAAAAPh/AAAAAAAA+H8AAAAAAABFQAAAAAAAAPh/AAAAAAAAJEAAAAAAAAD4fwAAAAAAAPh/AAAAAAAA+H8AAAAAAAD4fwAAAAAAAPh/AAAAAAAA+H8AAAAAAAD4fwAAAAAAAPh/AAAAAAAA+H8AAAAAAAD4fwAAAAAAAPh/AAAAAAAA+H8AAAAAAIBPQAAAAAAAAPh/AAAAAAAA+H8AAAAAAAD4fwAAAAAAQF5AAAAAAAAA+H8AAAAAAAD4fwAAAAAAAChAAAAAAAAA+H8AAAAAAAD4fwAAAAAAAPh/AAAAAAAA+H8AAAAAAAD4fwAAAAAAACJAAAAAAAAA+H8AAAAAAAD4fwAAAAAAAPh/AAAAAABAYUAAAAAAAAD4fwAAAAAAAPh/AAAAAAAA+H8AAAAAAAD4fwAAAAAAAPh/AAAAAAAA+H8AAAAAAAD4fwAAAAAAAPh/AAAAAAAA+H8AAAAAAAA2QAAAAAAAAPh/AAAAAAAAMkAAAAAAAAD4fwAAAAAAAPh/AAAAAAAA+H8AAAAAAAD4fwAAAAAAAABAAAAAAAAA+H8AAAAAAAD4fwAAAAAAAPh/AAAAAAAAAEAAAAAAAAD4fwAAAAAAAPh/AAAAAAAA+H8AAAAAAAD4fwAAAAAAAPh/AAAAAAAA+H8AAAAAAAD4fwAAAAAAwFVAAAAAAAAA+H8AAAAAAAD4fwAAAAAAAPh/AAAAAAAA+H8AAAAAAAD4fwAAAAAAAPh/AAAAAAAA+H8AAAAAAAA/QAAAAAAAAPh/AAAAAAAAHEAAAAAAAAD4fwAAAAAAAPh/AAAAAAAA+H8AAAAAAAD4fwAAAAAAAPh/AAAAAAAA+H8AAAAAAAD4fwAAAAAAADlAAAAAAAAA+H8AAAAAAAD4fwAAAAAAAPh/AAAAAAAA+H8AAAAAAEBSQAAAAAAAAPh/AAAAAACAZ0AAAAAAAAAIQAAAAAAAAPh/AAAAAAAA+H8AAAAAAAD4fwAAAAAAAPh/AAAAAAAA+H8AAAAAAAD4fwAAAAAAAPh/AAAAAACAV0AAAAAAAAD4fwAAAAAAAPh/AAAAAAAA+H8AAAAAAAD4fwAAAAAAAPh/AAAAAAAA+H8AAAAAAAD4fwAAAAAAAPh/AAAAAAAAFEAAAAAAAAD4fwAAAAAAAPh/AAAAAAAA+H8AAAAAAAD4fwAAAAAAAPh/AAAAAAAAKEAAAAAAAAD4fwAAAAAAAPh/AAAAAAAA+H8AAAAAAAD4fwAAAAAAAPh/AAAAAAAA+H8AAAAAAAA/QAAAAAAAAPh/AAAAAAAA+H8AAAAAAAD4fwAAAAAAQGNAAAAAAAAA+H8AAAAAAAD4fwAAAAAAAPh/AAAAAAAAFEAAAAAAAAD4fwAAAAAAAPh/AAAAAAAA+H8AAAAAAAD4fwAAAAAAAPh/AAAAAACARUAAAAAAAAD4fwAAAAAAAPh/AAAAAADAUEAAAAAAAADwPwAAAAAAAPh/AAAAAAAAR0AAAAAAAAD4fwAAAAAAAPh/AAAAAAAA+H8AAAAAAAD4fwAAAAAAAPh/AAAAAAAA+H8AAAAAAAD4fwAAAAAAAPh/AAAAAAAA+H8AAAAAAAD4fwAAAAAAAPh/AAAAAAAA+H8AAAAAAAD4fwAAAAAAAPh/AAAAAAAA+H8AAAAAAAD4fwAAAAAAAPh/AAAAAAAA+H8AAAAAAAD4fwAAAAAAAPh/AAAAAAAA+H8AAAAAAIBOQAAAAAAAAPh/AAAAAAAA+H8AAAAAAAD4fwAAAAAAAPh/AAAAAAAA+H8AAAAAAADwPwAAAAAAAPh/AAAAAAAA+H8AAAAAAAD4fwAAAAAAAPh/AAAAAAAA+H8AAAAAAAD4fwAAAAAAAPh/AAAAAAAA+H8AAAAAAGB6QAAAAAAAAPh/AAAAAAAA+H8AAAAAAABGQAAAAAAAAPh/AAAAAAAA+H8AAAAAAAD4fwAAAAAAAPh/AAAAAAAA+H8AAAAAAAD4fwAAAAAAAPh/AAAAAAAAEEAAAAAAAAD4fwAAAAAAAPh/AAAAAAAA+H8AAAAAAAD4fwAAAAAAAPh/AAAAAAAAAEAAAAAAAAD4fwAAAAAAAPh/AAAAAAAA+H8AAAAAAAAqQAAAAAAAAFJAAAAAAAAA+H8AAAAAAAD4fwAAAAAAAPh/AAAAAAAA+H8AAAAAAAD4fwAAAAAAAPh/AAAAAAAA+H8AAAAAAAD4fwAAAAAAAPh/AAAAAAAA+H8AAAAAAAD4fwAAAAAAAPh/AAAAAAAA+H8AAAAAAAD4fwAAAAAAAPA/AAAAAAAA+H8AAAAAAAD4fwAAAAAAAPh/AAAAAAAA+H8AAAAAAAD4fwAAAAAAAPh/AAAAAAAA+H8AAAAAAAD4fwAAAAAAAPh/AAAAAAAAHEAAAAAAAIBTQAAAAAAAAPh/AAAAAAAA+H8AAAAAAAAAQAAAAAAAAPh/AAAAAAAA+H8AAAAAAAD4fwAAAAAAAPh/AAAAAAAA+H8AAAAAAAD4fwAAAAAAAPh/AAAAAAAA+H8AAAAAAAD4fwAAAAAAAPh/AAAAAAAAIEAAAAAAAAD4fwAAAAAAgExAAAAAAAAA+H8AAAAAAAD4fwAAAAAAAPh/AAAAAAAA+H8AAAAAAAD4fwAAAAAAAPh/AAAAAAAA+H8AAAAAAAD4fwAAAAAAAPh/AAAAAABAUEAAAAAAAAD4fwAAAAAAAPh/AAAAAAAA+H8AAAAAAAAgQAAAAAAAQF5AAAAAAAAA+H8AAAAAAAD4fwAAAAAAAPh/AAAAAAAA+H8AAAAAAAD4fwAAAAAAAPh/AAAAAAAALkAAAAAAAAD4fwAAAAAAADRAAAAAAAAA+H8AAAAAAGBnQAAAAAAAAPh/AAAAAAAA+H8AAAAAAIBDQAAAAAAAACJAAAAAAAAAWUAAAAAAAAD4fwAAAAAAAPh/AAAAAAAA+H8AAAAAAAA+QAAAAAAAAPh/AAAAAAAAHEAAAAAAAAD4fwAAAAAAAPh/AAAAAAAA+H8AAAAAAAD4fwAAAAAAAFFAAAAAAAAA+H8AAAAAAAD4fwAAAAAAAPh/AAAAAAAA+H8AAAAAAAD4fwAAAAAAAPh/AAAAAAAA+H8AAAAAAAD4fwAAAAAAAPh/AAAAAAAA+H8AAAAAAAD4fwAAAAAAAPh/AAAAAAAA+H8AAAAAAIBMQAAAAAAAADBAAAAAAAAA+H8AAAAAAAD4fwAAAAAAAPh/AAAAAAAA+H8AAAAAAAD4fwAAAAAAAPh/AAAAAAAA+H8AAAAAAAD4fwAAAAAAAPh/AAAAAAAA+H8AAAAAAMBuQAAAAAAAgEpAAAAAAAAA+H8AAAAAAAD4fwAAAAAAAPh/AAAAAACAWEAAAAAAAAD4fwAAAAAAAPh/AAAAAAAA+H8AAAAAAAD4fwAAAAAAAPh/AAAAAAAA+H8AAAAAAAD4fwAAAAAAAPh/AAAAAAAA+H8AAAAAAAD4fwAAAAAAAPh/AAAAAAAA+H8AAAAAAAD4fwAAAAAAAPh/AAAAAAAA+H8AAAAAAAD4fwAAAAAAAPh/AAAAAAAA+H8AAAAAAAD4fwAAAAAAAPh/AAAAAAAA+H8AAAAAAAD4fwAAAAAAAPh/AAAAAAAA+H8AAAAAAABKQAAAAAAAAPh/AAAAAAAA+H8AAAAAAAD4fwAAAAAAAPh/AAAAAAAA+H8AAAAAAAD4fwAAAAAAAPh/AAAAAAAA+H8AAAAAAAAQQAAAAAAAAPh/AAAAAAAA+H8AAAAAAAD4fwAAAAAAAPh/AAAAAAAA+H8AAAAAAAD4fwAAAAAAAPh/AAAAAAAA+H8AAAAAAAD4fwAAAAAAAPh/AAAAAAAA+H8AAAAAAAD4fwAAAAAAAPh/AAAAAAAA+H8AAAAAAAD4fwAAAAAAAPh/AAAAAAAA+H8AAAAAAAD4fwAAAAAAAPh/AAAAAAAA+H8AAAAAAAD4fwAAAAAAAPh/AAAAAAAA+H8AAAAAAABAQAAAAAAAAPh/AAAAAAAA+H8AAAAAAAD4fwAAAAAAAABAAAAAAAAA+H8AAAAAAAD4fwAAAAAAAFdAAAAAAAAAPkAAAAAAAAD4fwAAAAAAAPh/AAAAAACAREAAAAAAAAD4fwAAAAAAAPh/AAAAAAAA+H8AAAAAAAAkQAAAAAAAAPh/AAAAAAAAKkAAAAAAAAD4fwAAAAAAAPh/AAAAAAAA+H8AAAAAAAAIQAAAAAAAAPh/AAAAAAAAQkAAAAAAAAD4fwAAAAAAAPh/AAAAAAAAN0AAAAAAAAD4fwAAAAAAABRAAAAAAAAAPUAAAAAAAAD4fwAAAAAAoGBAAAAAAAAA+H8AAAAAAAD4fwAAAAAAgEdAAAAAAAAA+H8AAAAAAAAkQAAAAAAAAPh/AAAAAAAA+H8AAAAAAAD4fwAAAAAAAPh/AAAAAAAAJEAAAAAAAIBRQAAAAAAAAPh/AAAAAAAA+H8AAAAAAPB1QAAAAAAAAPh/AAAAAAAA+H8AAAAAAAD4fwAAAAAAAPh/AAAAAAAAOUAAAAAAAAA/QAAAAAAAAPh/AAAAAAAA+H8AAAAAAADwPwAAAAAAAPh/AAAAAACATkAAAAAAAAA8QAAAAAAAwF1AAAAAAAAA+H8AAAAAAAD4fwAAAAAAAPh/AAAAAAAAU0AAAAAAAAD4fwAAAAAAAPh/AAAAAAAA+H8AAAAAAAD4fwAAAAAAAGBAAAAAAAAA+H8AAAAAAAD4fwAAAAAAAFhAAAAAAAAA+H8AAAAAAAAcQAAAAAAAAPh/AAAAAAAACEAAAAAAAAD4fwAAAAAAAPh/AAAAAAAA+H8AAAAAAABEQAAAAAAAAPh/AAAAAAAA+H8AAAAAAAD4fwAAAAAAAPh/AAAAAAAA+H8AAAAAAAD4fwAAAAAAAPh/AAAAAACAQ0AAAAAAADBxQAAAAAAAAPh/AAAAAAAA+H8AAAAAAAD4fwAAAAAAcHFAAAAAAAAA+H8AAAAAAAAcQAAAAAAAAPh/AAAAAAAA+H8AAAAAAAD4fwAAAAAAAPh/AAAAAAAA+H8AAAAAAAD4fwAAAAAAAPh/AAAAAAAA+H8AAAAAAABRQAAAAAAAgE9AAAAAAAAA+H8AAAAAAAD4fwAAAAAAAPh/AAAAAAAA+H8AAAAAAAD4fwAAAAAAAPh/AAAAAABAUUAAAAAAAAD4fwAAAAAAAPh/AAAAAAAA+H8AAAAAAAAYQAAAAAAAAPh/AAAAAAAA+H8AAAAAAAD4fwAAAAAAAPh/AAAAAAAA+H8AAAAAAABGQAAAAAAAAPh/AAAAAABAbkAAAAAAAAD4fwAAAAAAAPh/AAAAAAAA+H8AAAAAAAAcQAAAAAAAAPh/AAAAAADAVUAAAAAAAAD4fwAAAAAAAPh/AAAAAAAAMEAAAAAAAAD4fwAAAAAAAPh/AAAAAACAQEAAAAAAAAAmQAAAAAAAAPh/AAAAAAAAVUAAAAAAAAD4fwAAAAAAAPh/AAAAAAAA+H8AAAAAAAD4fwAAAAAAACpAAAAAAAAAMUAAAAAAAEBRQAAAAAAAAPh/AAAAAACAQUAAAAAAAAD4fwAAAAAAQG9AAAAAAACAQUAAAAAAAAD4fwAAAAAAAPh/AAAAAAAA+H8AAAAAAAD4fwAAAAAAAPh/AAAAAAAA+H8AAAAAAEBpQAAAAAAAAPh/AAAAAAAA+H8AAAAAAAD4fwAAAAAAAPh/AAAAAAAA+H8AAAAAAAD4fwAAAAAAABxAAAAAAADwcUAAAAAAAAD4fwAAAAAAAPh/AAAAAAAA+H8AAAAAAAD4fwAAAAAAACJAAAAAAAAA+H8AAAAAAAD4fwAAAAAAAPh/AAAAAAAA+H8AAAAAAAD4fwAAAAAAAPh/AAAAAAAA+H8AAAAAAAD4fwAAAAAAAPh/AAAAAAAA+H8AAAAAAABkQAAAAAAAAPh/AAAAAAAA+H8AAAAAAAD4fwAAAAAAAPh/AAAAAAAA+H8AAAAAAAD4fwAAAAAAADZAAAAAAAAA+H8AAAAAAAD4fwAAAAAAAPh/AAAAAAAA+H8AAAAAAAD4fwAAAAAAAPh/AAAAAAAA+H8AAAAAAIBxQAAAAAAAAPh/AAAAAACAQ0AAAAAAAAD4fwAAAAAAAPh/AAAAAAAA+H8AAAAAAAD4fwAAAAAAgGFAAAAAAAAA+H8AAAAAAAD4fwAAAAAAAPh/AAAAAAAA+H8AAAAAAAD4fwAAAAAAAPh/AAAAAAAA+H8AAAAAAAD4fwAAAAAAAPh/AAAAAAAA+H8AAAAAAAD4fwAAAAAAAPh/AAAAAAAA+H8AAAAAACBkQAAAAAAAwFxAAAAAAAAA+H8AAAAAAAD4fwAAAAAAAPh/AAAAAAAA+H8AAAAAAIBJQAAAAAAAAPh/AAAAAAAA+H8AAAAAAAD4fwAAAAAAAPh/AAAAAAAA+H8AAAAAAAD4fwAAAAAAADFAAAAAAAAA+H8AAAAAAAD4fwAAAAAAAPh/AAAAAABAVEAAAAAAAAD4fwAAAAAAAPh/AAAAAAAA+H8AAAAAAAD4fwAAAAAAAPh/AAAAAAAA+H8AAAAAAAD4fwAAAAAAAElAAAAAAACgZ0AAAAAAAIBbQAAAAAAAADxAAAAAAAAA+H8AAAAAAIBFQAAAAAAAAEhAAAAAAAAA+H8AAAAAAEBRQAAAAAAAAPh/AAAAAAAA+H8AAAAAAAD4fwAAAAAAAPh/AAAAAAAA+H8AAAAAAAD4fwAAAAAAAPh/AAAAAAAA+H8AAAAAAAAoQAAAAAAAAPh/AAAAAAAA+H8AAAAAAAD4fwAAAAAAAPh/AAAAAAAA+H8AAAAAAAD4fwAAAAAAAPh/AAAAAAAA+H8AAAAAAABdQAAAAAAAAPh/AAAAAAAA+H8AAAAAAIBJQAAAAAAAAPh/AAAAAAAA+H8AAAAAAAD4fwAAAAAAAPh/AAAAAAAA+H8AAAAAAAD4fwAAAAAAAPh/AAAAAAAA+H8AAAAAAAD4fwAAAAAAgE5AAAAAAAAA+H8AAAAAAAAYQAAAAAAAQG5AAAAAAAAAY0AAAAAAAAD4fwAAAAAAgEBAAAAAAAAANUAAAAAAAAD4fwAAAAAAAPh/AAAAAAAA+H8AAAAAAAD4fwAAAAAAAPh/AAAAAAAA+H8AAAAAAAAcQAAAAAAAAPh/AAAAAACAZkAAAAAAAAD4fwAAAAAAAPh/AAAAAAAA+H8AAAAAAADwPwAAAAAAAPh/AAAAAABAVUAAAAAAAAAIQAAAAAAAAPh/AAAAAAAA+H8AAAAAAAAYQAAAAAAAAEhAAAAAAADAWkAAAAAAAAD4fwAAAAAAAPh/AAAAAAAA+H8AAAAAAAD4fwAAAAAAwFtAAAAAAAAA+H8AAAAAAAAcQAAAAAAAAPh/AAAAAAAAMkAAAAAAAAD4fwAAAAAAAPh/AAAAAAAA+H8AAAAAAAAzQAAAAAAAAPh/AAAAAAAAFEAAAAAAAIBCQAAAAAAAAPh/AAAAAAAA+H8AAAAAAAD4fwAAAAAAAPh/AAAAAAAA+H8AAAAAAAD4fwAAAAAAAPh/AAAAAAAA+H8AAAAAAAD4fwAAAAAAADVAAAAAAAAA+H8AAAAAAAD4fwAAAAAAAABAAAAAAAAA+H8AAAAAAAD4fwAAAAAAADVAAAAAAAAAREAAAAAAAAD4fwAAAAAAAPh/AAAAAAAA+H8AAAAAAAD4fwAAAAAAAPh/AAAAAAAAPkAAAAAAAAD4fwAAAAAAAPh/AAAAAAAA+H8AAAAAAAD4fwAAAAAA0HJAAAAAAAAA+H8AAAAAAAD4fwAAAAAAgE1AAAAAAAAA+H8AAAAAAAD4fwAAAAAAAPh/AAAAAAAA+H8AAAAAAAD4fwAAAAAAAPh/AAAAAAAA+H8AAAAAAAD4fwAAAAAAAPh/AAAAAAAA+H8AAAAAAAD4fwAAAAAAgE1AAAAAAAAA+H8AAAAAAAD4fwAAAAAAADFAAAAAAAAA+H8AAAAAAAD4fwAAAAAAABBAAAAAAAAA+H8AAAAAAAD4fwAAAAAAAPh/AAAAAAAAFEAAAAAAAAA4QAAAAAAAAPh/AAAAAAAAIEAAAAAAAAD4fwAAAAAAABRAAAAAAAAA+H8AAAAAAKBpQAAAAAAAgENAAAAAAAAA+H8AAAAAAAD4fwAAAAAAAPh/AAAAAACAWUAAAAAAAAD4fwAAAAAAAPh/AAAAAAAA+H8AAAAAAAD4fwAAAAAAAPh/AAAAAAAA+H8AAAAAAAD4fwAAAAAAABxAAAAAAAAAM0AAAAAAAAD4fwAAAAAAAPh/AAAAAAAA+H8AAAAAAAD4fwAAAAAAABRAAAAAAAAAQEAAAAAAAAD4fwAAAAAAAPh/AAAAAAAA+H8AAAAAAAA+QAAAAAAAAPh/AAAAAAAA+H8AAAAAAAD4fwAAAAAAAPh/AAAAAAAA+H8AAAAAAAD4fwAAAAAAAPh/AAAAAAAA+H8AAAAAAAAIQAAAAAAAAPh/AAAAAAAAOUAAAAAAAAD4fwAAAAAAAC5AAAAAAAAA+H8AAAAAAAD4fwAAAAAAAAhAAAAAAAAA+H8AAAAAAAD4fwAAAAAAQFFAAAAAAAAA+H8AAAAAAAD4fwAAAAAAAPh/AAAAAAAA+H8AAAAAAAD4fwAAAAAAAPh/AAAAAAAAJEAAAAAAAAD4fwAAAAAAAPh/AAAAAAAA+H8AAAAAAAD4fwAAAAAAAPh/AAAAAAAA+H8AAAAAAAD4fwAAAAAAgFlAAAAAAAAA+H8AAAAAAAD4fwAAAAAAAPh/AAAAAADAU0AAAAAAAAD4fwAAAAAAAPh/AAAAAAAA+H8AAAAAAABKQAAAAAAAAPh/AAAAAAAA+H8AAAAAAAD4fwAAAAAAAE5AAAAAAAAA+H8AAAAAAAD4fwAAAAAAAPh/AAAAAAAA+H8AAAAAAAD4fwAAAAAAAPh/AAAAAAAA+H8AAAAAAAD4fwAAAAAAAPh/AAAAAAAA+H8AAAAAAAD4fwAAAAAAAPh/AAAAAAAA+H8AAAAAAAD4fwAAAAAAAPh/AAAAAAAA+H8AAAAAAAD4fwAAAAAAAPh/AAAAAAAA+H8AAAAAAAD4fwAAAAAAAPh/AAAAAAAAPUAAAAAAAAA/QAAAAAAAYGBAAAAAAAAA+H8AAAAAAAAkQAAAAAAAAPh/AAAAAAAA+H8AAAAAAAD4fwAAAAAAAPh/AAAAAAAA+H8AAAAAAAD4fwAAAAAAAPh/AAAAAAAA+H8AAAAAAAD4fwAAAAAAAPh/AAAAAAAA+H8AAAAAACBnQAAAAAAAAPh/AAAAAACAQ0AAAAAAAAD4fwAAAAAAAPA/AAAAAABAVkAAAAAAAAD4fwAAAAAAAPh/AAAAAAAA+H8AAAAAAAD4fwAAAAAAQFZAAAAAAAAA+H8AAAAAAAD4fwAAAAAAADdAAAAAAAAA+H8AAAAAAAD4fwAAAAAAAPh/AAAAAAAA+H8AAAAAAAD4fwAAAAAAAPh/AAAAAAAA+H8AAAAAAAD4fwAAAAAAAPh/AAAAAAAA+H8AAAAAAAD4fwAAAAAAAFdAAAAAAAAA+H8AAAAAAAD4fwAAAAAAAPh/AAAAAAAA+H8AAAAAAAD4fwAAAAAAAPh/AAAAAAAA+H8AAAAAAAD4fwAAAAAAAPh/AAAAAAAA+H8AAAAAAOBlQAAAAAAAADlAAAAAAAAA+H8AAAAAAAAIQAAAAAAAAPh/AAAAAAAA8D8AAAAAAAD4fwAAAAAAAPh/AAAAAAAA+H8AAAAAAAD4fwAAAAAAAPh/AAAAAAAA+H8AAAAAAAD4fwAAAAAAAPh/AAAAAAAAQkAAAAAAAIBLQAAAAAAAAPh/AAAAAAAA+H8AAAAAAAD4fwAAAAAAAPh/AAAAAAAAQkAAAAAAAIBMQAAAAAAAAPh/AAAAAAAA+H8AAAAAAAD4fwAAAAAAAPh/AAAAAAAA+H8AAAAAAAD4fwAAAAAAAABAAAAAAAAA+H8AAAAAAAD4fwAAAAAAAPh/AAAAAAAA+H8AAAAAAAD4fwAAAAAAAPh/AAAAAAAA+H8AAAAAAAD4fwAAAAAAAPh/AAAAAAAA+H8AAAAAAAD4fwAAAAAAAPh/AAAAAAAA+H8AAAAAAAD4fwAAAAAAAPh/AAAAAAAAIEAAAAAAAAD4fwAAAAAAAPh/AAAAAAAA+H8AAAAAAEBpQAAAAAAAAPh/AAAAAAAA+H8AAAAAAAD4fwAAAAAAAERAAAAAAACAUUAAAAAAAAD4fwAAAAAAAFhAAAAAAAAA+H8AAAAAAAD4fwAAAAAAAPh/AAAAAAAA+H8AAAAAAAD4fwAAAAAAAPh/AAAAAAAAM0AAAAAAAAD4fwAAAAAAAPh/AAAAAAAA+H8AAAAAAAD4fwAAAAAAAPh/AAAAAAAA+H8AAAAAAAD4fwAAAAAAADxAAAAAAAAAOEAAAAAAAAD4fwAAAAAAAPh/AAAAAAAA+H8AAAAAAGByQAAAAAAAAPh/AAAAAAAA+H8AAAAAAAD4fwAAAAAAAPh/AAAAAAAA+H8AAAAAAAD4fwAAAAAAAPh/AAAAAAAA8D8AAAAAAAiAQAAAAAAAAPh/AAAAAAAA+H8AAAAAAAD4fwAAAAAAAPh/AAAAAAAA+H8AAAAAAAD4fwAAAAAAAPh/AAAAAAAA+H8AAAAAAMBfQAAAAAAAAEtAAAAAAAAATUAAAAAAAABRQAAAAAAAAPh/AAAAAAAA+H8AAAAAAAD4fwAAAAAAAPh/AAAAAAAA+H8AAAAAAABpQAAAAAAAAPh/AAAAAAAA+H8AAAAAAIBGQAAAAAAAAPh/AAAAAAAAGEAAAAAAAAD4fwAAAAAAAPh/AAAAAAAAPEAAAAAAAAD4fwAAAAAAAEZAAAAAAAAA+H8AAAAAAAD4fwAAAAAAABBAAAAAAAAA+H8AAAAAAAD4fwAAAAAAgE9AAAAAAAAAAEAAAAAAAAD4fwAAAAAAAPh/AAAAAAAA+H8AAAAAAAA8QAAAAAAAAPh/AAAAAAAA+H8AAAAAAAD4fwAAAAAAAPh/AAAAAAAA+H8AAAAAAAD4fwAAAAAAAPh/AAAAAAAA+H8AAAAAAAD4fwAAAAAAADhAAAAAAAAACEAAAAAAAEBZQAAAAAAAAPh/AAAAAAAAIEAAAAAAAAD4fwAAAAAAADlAAAAAAAAA+H8AAAAAAAD4fwAAAAAAoGZAAAAAAAAA+H8AAAAAAAAYQAAAAAAAAPh/AAAAAAAA+H8AAAAAAAD4fwAAAAAAAPh/AAAAAAAA+H8AAAAAAAD4fwAAAAAAQGBAAAAAAAAA+H8AAAAAAAAYQAAAAAAAAPh/AAAAAAAAfEAAAAAAAAD4fwAAAAAAAPh/AAAAAAAA+H8AAAAAAAD4fwAAAAAAAPh/AAAAAAAA+H8AAAAAAAD4fwAAAAAAgGdAAAAAAAAA+H8AAAAAAAD4fwAAAAAAAPh/AAAAAAAA+H8AAAAAAAD4fwAAAAAAAPh/AAAAAAAA+H8AAAAAAAAAQAAAAAAAAPh/AAAAAAAA+H8AAAAAAAD4fwAAAAAAAPh/AAAAAAAA+H8AAAAAAAD4fwAAAAAAAPh/AAAAAAAA+H8AAAAAAAD4fwAAAAAAwGNAAAAAAAAAPEAAAAAAAABEQAAAAAAAAPh/AAAAAADAWUAAAAAAAAD4fwAAAAAAwFpAAAAAAAAA+H8AAAAAAAD4fwAAAAAAAEdAAAAAAAAA+H8AAAAAAAD4fwAAAAAAAPh/AAAAAAAA+H8AAAAAAAD4fwAAAAAAAEdAAAAAAACATkAAAAAAAIBcQAAAAAAAAPh/AAAAAAAA+H8AAAAAAAD4fwAAAAAAAPh/AAAAAAAA+H8AAAAAAAAkQAAAAAAAAPh/AAAAAAAA+H8AAAAAAAD4fwAAAAAAACRAAAAAAAAAW0AAAAAAAAD4fwAAAAAAAPh/AAAAAAAA+H8AAAAAAAD4fwAAAAAAAPh/AAAAAAAA+H8AAAAAAAD4fwAAAAAAAPh/AAAAAAAA+H8AAAAAAAD4fwAAAAAAAPh/AAAAAAAA+H8AAAAAAAD4fwAAAAAAAPh/AAAAAAAAOkAAAAAAAAD4fwAAAAAAAPh/AAAAAAAATUAAAAAAAAD4fwAAAAAAAPh/AAAAAAAA+H8AAAAAAAD4fwAAAAAAAPh/AAAAAAAAJEAAAAAAAAD4fwAAAAAAAPh/AAAAAADAUkAAAAAAAAD4fwAAAAAAgFFAAAAAAAAA+H8AAAAAAAD4fwAAAAAAAPh/AAAAAAAA+H8AAAAAAAD4fwAAAAAAAPh/AAAAAAAA+H8AAAAAAAA3QAAAAAAAAPh/AAAAAAAA+H8AAAAAAAD4fwAAAAAAAPh/AAAAAAAA+H8AAAAAAAD4fwAAAAAAAPh/AAAAAAAA+H8AAAAAAAD4fwAAAAAAAPh/AAAAAAAA+H8AAAAAAAD4fwAAAAAAAPh/AAAAAAAA+H8AAAAAACBgQAAAAAAAAD9AAAAAAAAAHEAAAAAAAAAiQAAAAAAAAPh/AAAAAAAA+H8AAAAAAAD4fwAAAAAAAPh/AAAAAAAA+H8AAAAAAAD4fwAAAAAAAPh/AAAAAAAA+H8AAAAAAAD4fwAAAAAAAPh/AAAAAAAA+H8AAAAAAAD4fwAAAAAAAPh/AAAAAAAA+H8AAAAAAAD4fwAAAAAAAPh/AAAAAAAA+H8AAAAAAAAIQAAAAAAAAPh/AAAAAAAA+H8AAAAAAIBAQAAAAAAAAPh/AAAAAAAA+H8AAAAAAAD4fwAAAAAAAPh/AAAAAAAA+H8AAAAAAAA4QAAAAAAAAPh/AAAAAAAA+H8AAAAAAAD4fwAAAAAAAD9AAAAAAAAA+H8AAAAAAABRQAAAAAAAAPh/AAAAAAAA+H8AAAAAAAD4fwAAAAAAAPh/AAAAAAAA+H8AAAAAAAD4fwAAAAAAAPh/AAAAAAAA+H8AAAAAAAD4fwAAAAAAAPh/AAAAAAAA+H8AAAAAAAD4fwAAAAAAAPh/AAAAAAAAKEAAAAAAAAD4fwAAAAAAAPh/AAAAAAAA+H8AAAAAAAD4fwAAAAAAAPh/AAAAAABwf0AAAAAAAAD4fwAAAAAAAPh/AAAAAAAAREAAAAAAAAD4fwAAAAAAAPh/AAAAAAAA+H8AAAAAAAD4fwAAAAAAAPh/AAAAAAAA+H8AAAAAAAD4fwAAAAAAAPh/AAAAAAAA+H8AAAAAAAD4fwAAAAAAAPh/AAAAAAAA+H8AAAAAAAAgQAAAAAAAAPh/AAAAAAAA+H8AAAAAAAD4fwAAAAAAAPh/AAAAAAAA+H8AAAAAAAD4fwAAAAAAAPh/AAAAAAAA+H8AAAAAAAD4fwAAAAAAAPh/AAAAAAAA+H8AAAAAAAD4fwAAAAAAAPh/AAAAAABAUUAAAAAAAAAxQAAAAAAAAPh/AAAAAAAA+H8AAAAAAAD4fwAAAAAAgEJAAAAAAAAA+H8AAAAAAAD4fwAAAAAAQFlAAAAAAAAA+H8AAAAAAABJQAAAAAAAAPh/AAAAAABAVUAAAAAAAAD4fwAAAAAAwFBAAAAAAAAA+H8AAAAAAAD4fwAAAAAAAPh/AAAAAAAAMkAAAAAAAAD4fwAAAAAAAPh/AAAAAAAA8D8AAAAAAAD4fwAAAAAAAPh/AAAAAAAA+H8AAAAAAAD4fwAAAAAAAPh/AAAAAAAA+H8AAAAAAAD4fwAAAAAAAPh/AAAAAAAA+H8AAAAAAAD4fwAAAAAAAPh/AAAAAAAA+H8AAAAAAAAmQAAAAAAAAPh/AAAAAAAA+H8AAAAAAAD4fwAAAAAAAPh/AAAAAAAA+H8AAAAAAAD4fwAAAAAAAPh/AAAAAAAA+H8AAAAAAAAAQAAAAAAAAPh/AAAAAAAA+H8AAAAAAAD4fwAAAAAAAPh/AAAAAAAA+H8AAAAAAABNQAAAAAAAAD1AAAAAAAAA+H8AAAAAAAD4fwAAAAAAAPh/AAAAAAAA+H8AAAAAAAD4fwAAAAAAAPh/AAAAAAAA+H8AAAAAAAD4fwAAAAAAAPh/AAAAAAAA+H8AAAAAAIBXQAAAAAAAAPh/AAAAAAAA+H8AAAAAAAD4fwAAAAAAAPh/AAAAAACARUAAAAAAAAD4fwAAAAAAAPh/AAAAAAAA+H8AAAAAAAD4fwAAAAAAAPh/AAAAAAAAHEAAAAAAAAD4fwAAAAAAAPh/AAAAAAAA+H8AAAAAAAD4fwAAAAAAAPh/AAAAAAAA+H8AAAAAAAD4fwAAAAAAAPh/AAAAAAAA+H8AAAAAAAD4fwAAAAAAIGZAAAAAAAAA+H8AAAAAAAD4fwAAAAAAAPh/AAAAAACAREAAAAAAAAD4fwAAAAAAAPh/AAAAAAAA+H8AAAAAAAD4fwAAAAAAAPh/AAAAAAAA+H8AAAAAAAD4fwAAAAAAAPh/AAAAAAAA+H8AAAAAAAD4fwAAAAAAAPh/AAAAAAAA+H8AAAAAAAD4fwAAAAAAAPh/AAAAAAAA+H8AAAAAACBmQAAAAAAAAPh/AAAAAAAA+H8AAAAAAAD4fwAAAAAAAPh/AAAAAAAA+H8AAAAAAAD4fwAAAAAAAPh/AAAAAAAA+H8AAAAAAAD4fwAAAAAAAPh/AAAAAAAA+H8AAAAAAAD4fwAAAAAAAPh/AAAAAAAA+H8AAAAAAEBVQAAAAAAAAPh/AAAAAAAA+H8AAAAAAAD4fwAAAAAAAPh/AAAAAAAA+H8AAAAAAAD4fwAAAAAAAPh/AAAAAAAA+H8AAAAAAAD4fwAAAAAAAPh/AAAAAAAA+H8AAAAAAAD4fwAAAAAAAPh/AAAAAABAXUAAAAAAAAD4fwAAAAAAAHJAAAAAAAAA+H8AAAAAAAD4fwAAAAAAAPh/AAAAAAAA+H8AAAAAAAA1QAAAAAAAAPh/AAAAAAAA+H8AAAAAAEBTQAAAAAAAQFNAAAAAAAAAMUAAAAAAAAD4fwAAAAAAAPh/AAAAAAAA+H8AAAAAAAD4fwAAAAAAAPh/AAAAAAAAP0AAAAAAAAD4fwAAAAAAYGFAAAAAAAAA+H8AAAAAAAD4fwAAAAAAAPh/AAAAAAAAMEAAAAAAAAD4fwAAAAAAAPh/AAAAAAAA+H8AAAAAAAD4fwAAAAAAAPh/AAAAAAAA+H8AAAAAAAD4fwAAAAAAAPh/AAAAAAAA+H8AAAAAAAD4fwAAAAAAAPh/AAAAAAAA+H8AAAAAAAD4fwAAAAAAAPh/AAAAAAAA+H8AAAAAAAD4fwAAAAAAADNAAAAAAAAA+H8AAAAAAAD4fwAAAAAAAPh/AAAAAAAA+H8AAAAAAAD4fwAAAAAAAPh/AAAAAAAA+H8AAAAAAAD4fwAAAAAAAPh/AAAAAAAA+H8AAAAAAAD4fwAAAAAAAPh/AAAAAAAA+H8AAAAAAAD4fwAAAAAAAPh/AAAAAAAA8D8AAAAAAAD4fwAAAAAAAPh/AAAAAAAA+H8AAAAAAAA5QAAAAAAAAPh/AAAAAAAA+H8AAAAAAAD4fwAAAAAAAPh/AAAAAAAA+H8AAAAAAAD4fwAAAAAAAPh/AAAAAAAA+H8AAAAAAAD4fwAAAAAAAPh/AAAAAAAA+H8AAAAAAAD4fwAAAAAAAPh/AAAAAAAA+H8AAAAAAAD4fwAAAAAAAPh/AAAAAAAA+H8AAAAAAAD4fwAAAAAAAPh/AAAAAAAA+H8AAAAAAAAQQAAAAAAAAPh/AAAAAAAA+H8AAAAAAAD4fwAAAAAAAPh/AAAAAAAA+H8AAAAAAAD4fwAAAAAAAPh/AAAAAAAAIEAAAAAAAAD4fwAAAAAAAPh/AAAAAAAA+H8AAAAAAAD4fwAAAAAAAPh/AAAAAAAA+H8AAAAAAAD4fwAAAAAAAPh/AAAAAAAA+H8AAAAAAAD4fwAAAAAAAPh/AAAAAAAA+H8AAAAAAAD4fwAAAAAAAPh/AAAAAAAA+H8AAAAAAAD4fwAAAAAAAPh/AAAAAAAA+H8AAAAAAAD4fwAAAAAAAPh/AAAAAAAA+H8AAAAAAAD4fwAAAAAAAPh/AAAAAAAAQUAAAAAAAAD4fwAAAAAAABRAAAAAAAAA+H8AAAAAAAD4fwAAAAAAAPh/AAAAAAAA+H8AAAAAAAD4fwAAAAAAAPh/AAAAAAAA+H8AAAAAAAD4fwAAAAAAAPh/AAAAAAAA+H8AAAAAAIBVQAAAAAAAAPh/AAAAAAAA+H8AAAAAAAD4fwAAAAAAAPh/AAAAAAAA+H8AAAAAAAD4fwAAAAAAAPh/AAAAAAAA+H8AAAAAACBwQAAAAAAAAPh/AAAAAAAA+H8AAAAAAAD4fwAAAAAAAPh/AAAAAAAARkAAAAAAAABGQAAAAAAAAPh/AAAAAAAA+H8AAAAAAAD4fwAAAAAAAPh/AAAAAAAA+H8AAAAAAAD4fwAAAAAAAPh/AAAAAAAA+H8AAAAAAAAuQAAAAAAAAPh/AAAAAAAA+H8AAAAAAAAAQAAAAAAAAPh/AAAAAAAA+H8AAAAAAAD4fwAAAAAAAERAAAAAAACAREAAAAAAAAD4fwAAAAAAAPh/AAAAAAAANkAAAAAAAAD4fwAAAAAAAPh/AAAAAAAA+H8AAAAAAAD4fwAAAAAAAPh/AAAAAAAA+H8AAAAAAAD4fwAAAAAAgEtAAAAAAAAA+H8AAAAAAAD4fwAAAAAAAPh/AAAAAAAA+H8AAAAAAAD4fwAAAAAAAPh/AAAAAAAA+H8AAAAAAAD4fwAAAAAAAPh/AAAAAAAA+H8AAAAAAAD4fwAAAAAAAPh/AAAAAAAA+H8AAAAAAAD4fwAAAAAAAPh/AAAAAAAA+H8AAAAAAAD4fwAAAAAAAPh/AAAAAAAA+H8AAAAAAAD4fwAAAAAAAPh/AAAAAAAA+H8AAAAAAAD4fwAAAAAAAPh/AAAAAAAAAEAAAAAAAAD4fwAAAAAAAPh/AAAAAAAA+H8AAAAAAAD4fwAAAAAAAPh/AAAAAAAA+H8AAAAAAAD4fwAAAAAAAPh/AAAAAAAAHEAAAAAAAAD4fwAAAAAAAPh/AAAAAAAAWkAAAAAAAAD4fwAAAAAAAPh/AAAAAAAA+H8AAAAAAAD4fwAAAAAAAPh/AAAAAAAA+H8AAAAAAAD4fwAAAAAAAPh/AAAAAAAA+H8AAAAAAAD4fwAAAAAAAPh/AAAAAAAA+H8AAAAAAAD4fwAAAAAAAPh/AAAAAAAAUkAAAAAAAAD4fwAAAAAAAPh/AAAAAAAA+H8AAAAAAAD4fwAAAAAAgEZAAAAAAAAA+H8AAAAAAAD4fwAAAAAAAPh/AAAAAAAA+H8AAAAAAAD4fwAAAAAAACBAAAAAAAAA+H8AAAAAAAD4fwAAAAAAAPh/AAAAAAAA+H8AAAAAAAD4fwAAAAAAAPh/AAAAAAAA+H8AAAAAAAD4fwAAAAAAgGdAAAAAAAAA+H8AAAAAAAD4fwAAAAAAAPh/AAAAAAAAJkAAAAAAAGBxQAAAAAAAAPh/AAAAAAAA+H8AAAAAAAD4fwAAAAAAAEpAAAAAAAAA+H8AAAAAAAD4fwAAAAAAAPh/AAAAAACAQkAAAAAAAAD4fwAAAAAAAPh/AAAAAAAA+H8AAAAAAAD4fwAAAAAAAPh/AAAAAAAA+H8AAAAAAAD4fwAAAAAAAPh/AAAAAAAA+H8AAAAAAAD4fwAAAAAAAPh/AAAAAACAVUAAAAAAAAD4fwAAAAAAAPh/AAAAAAAA+H8AAAAAAAD4fwAAAAAAAPh/AAAAAAAA+H8AAAAAAAD4fwAAAAAAAD1AAAAAAAAASUAAAAAAAMBVQAAAAAAAAPh/AAAAAAAA+H8AAAAAAAD4fwAAAAAAAPh/AAAAAAAA+H8AAAAAAMBqQAAAAAAAAPh/AAAAAAAA+H8AAAAAAAD4fwAAAAAAAPh/AAAAAAAA+H8AAAAAAAD4fwAAAAAAAPh/AAAAAAAA+H8AAAAAAAD4fwAAAAAAAPh/AAAAAAAA+H8AAAAAAAD4fwAAAAAAAPh/AAAAAAAA+H8AAAAAAAD4fwAAAAAAAPh/AAAAAAAA+H8AAAAAAAD4fwAAAAAAAPh/AAAAAAAA+H8AAAAAAAD4fwAAAAAAAPh/AAAAAAAA+H8AAAAAAAD4fwAAAAAAAPh/AAAAAAAA+H8AAAAAAAD4fwAAAAAAAPh/AAAAAAAA+H8AAAAAAAD4fwAAAAAAAPh/AAAAAAAA+H8AAAAAAAD4fwAAAAAAAPh/AAAAAAAA+H8AAAAAAAD4fwAAAAAAAPh/AAAAAAAA+H8AAAAAANBxQAAAAAAAAPh/AAAAAAAA+H8AAAAAAAD4fwAAAAAAAPh/AAAAAAAA+H8AAAAAAAD4fwAAAAAAAPh/AAAAAAAA+H8AAAAAAAD4fwAAAAAAAPh/AAAAAAAA+H8AAAAAAAD4fwAAAAAAAPh/AAAAAAAA+H8AAAAAAAD4fwAAAAAAAPh/AAAAAADwdEAAAAAAAAD4fwAAAAAAAPh/AAAAAAAA+H8AAAAAAAD4fwAAAAAAAPh/AAAAAAAA+H8AAAAAAAD4fwAAAAAAAPh/AAAAAAAA+H8AAAAAAAD4fwAAAAAAAPh/AAAAAAAA+H8AAAAAAAD4fwAAAAAAAPh/AAAAAAAA+H8AAAAAAAD4fwAAAAAAAAhAAAAAAAAA+H8AAAAAAAD4fwAAAAAAAPh/AAAAAAAA+H8AAAAAAAD4fwAAAAAAAPh/AAAAAAAA+H8AAAAAAAD4fwAAAAAAAPh/AAAAAAAA+H8AAAAAAAD4fwAAAAAAAPh/AAAAAAAA+H8AAAAAAAD4fwAAAAAAAPh/AAAAAAAA+H8AAAAAAAD4fwAAAAAAAPh/AAAAAAAA+H8AAAAAAAD4fwAAAAAAAPh/AAAAAAAA+H8AAAAAAAD4fwAAAAAAAPh/AAAAAACAREAAAAAAAAD4fwAAAAAAAPh/AAAAAAAA+H8AAAAAAAD4fwAAAAAAAPh/AAAAAAAA+H8AAAAAAIBBQAAAAAAAAPh/AAAAAAAA+H8AAAAAAAD4fwAAAAAAAPh/AAAAAAAA+H8AAAAAAAD4fwAAAAAAAPh/AAAAAAAA+H8AAAAAAAD4fwAAAAAAAPh/AAAAAAAA+H8AAAAAAAD4fwAAAAAAAPh/AAAAAAAA+H8AAAAAAAD4fwAAAAAAAPh/AAAAAAAgZEAAAAAAAAD4fwAAAAAAAPh/AAAAAAAA+H8AAAAAAAD4fwAAAAAAAPh/AAAAAAAA+H8AAAAAAAD4fwAAAAAAAPh/AAAAAAAA+H8AAAAAAAD4fwAAAAAAAPh/AAAAAAAA+H8AAAAAAAD4fwAAAAAAAD5AAAAAAAAA+H8AAAAAAAD4fwAAAAAA4HJAAAAAAAAA+H8AAAAAAAD4fwAAAAAAAPh/AAAAAAAA+H8AAAAAAAD4fwAAAAAAAPh/AAAAAAAA+H8AAAAAAAD4fwAAAAAAAPh/AAAAAAAA+H8AAAAAAAD4fwAAAAAAAPh/AAAAAAAA+H8AAAAAAAD4fwAAAAAAwFlAAAAAAAAA+H8AAAAAAAD4fwAAAAAAAPh/AAAAAAAA+H8AAAAAAAD4fwAAAAAAAPh/AAAAAAAAKkAAAAAAAAD4fwAAAAAAAPh/AAAAAAAQckAAAAAAAAD4fwAAAAAAAPh/AAAAAAAA+H8AAAAAAAD4fwAAAAAAADhAAAAAAAAA+H8AAAAAACBkQAAAAAAAAPh/AAAAAAAA+H8AAAAAAAD4fwAAAAAAAPh/AAAAAAAA+H8AAAAAAAD4fwAAAAAAAPh/AAAAAAAA+H8AAAAAAAD4fwAAAAAAAPh/AAAAAAAA+H8AAAAAAAD4fwAAAAAAAPh/AAAAAAAAKEAAAAAAAIBQQAAAAAAAAPh/AAAAAAAA+H8AAAAAAAD4fwAAAAAAAPh/AAAAAAAA+H8AAAAAAAD4fwAAAAAAAPh/AAAAAAAA+H8AAAAAAAD4fwAAAAAAAPh/AAAAAAAA+H8AAAAAAAD4fwAAAAAAAPh/AAAAAAAA+H8AAAAAAAD4fwAAAAAAAPh/AAAAAAAA+H8AAAAAAAD4fwAAAAAAAPh/AAAAAAAA+H8AAAAAAAD4fwAAAAAAAPh/AAAAAAAAIEAAAAAAAAD4fwAAAAAAAPh/AAAAAAAA+H8AAAAAAAD4fwAAAAAAABBAAAAAAAAA+H8AAAAAAAD4fwAAAAAAAPh/AAAAAAAA+H8AAAAAAAD4fwAAAAAAAPh/AAAAAAAA+H8AAAAAAAD4fwAAAAAAgEdAAAAAAAAA+H8AAAAAAAD4fwAAAAAAAPh/AAAAAAAA+H8AAAAAAAD4fwAAAAAAAPh/AAAAAAAA+H8AAAAAAAD4fwAAAAAAAPh/AAAAAAAA+H8AAAAAAAD4fwAAAAAAAPh/AAAAAAAAMkAAAAAAAAD4fwAAAAAAADdAAAAAAAAAS0AAAAAAAAD4fwAAAAAAAPh/AAAAAAAA+H8AAAAAAAD4fwAAAAAAAPh/AAAAAAAA+H8AAAAAAAD4fwAAAAAAAPh/AAAAAAAA+H8AAAAAAAD4fwAAAAAAAPh/AAAAAAAA+H8AAAAAAAD4fwAAAAAAAPh/AAAAAAAA+H8AAAAAAAD4fwAAAAAAAPh/AAAAAAAA+H8AAAAAAAD4fwAAAAAAAPh/AAAAAAAA+H8AAAAAAAD4fwAAAAAAAPh/AAAAAAAA+H8AAAAAAAD4fwAAAAAAAPh/AAAAAAAA+H8AAAAAAJBzQAAAAAAAAPh/AAAAAAAA+H8AAAAAAAD4fwAAAAAAAPh/AAAAAAAA+H8AAAAAAAD4fwAAAAAAAPh/AAAAAAAA+H8AAAAAAAD4fwAAAAAAAPh/AAAAAAAA+H8AAAAAAAD4fwAAAAAAAPh/AAAAAAAAAEAAAAAAAAD4fwAAAAAAAPh/AAAAAAAA+H8AAAAAAAD4fwAAAAAAAPh/AAAAAAAA+H8AAAAAAAD4fwAAAAAAAPh/AAAAAAAA+H8AAAAAAAD4fwAAAAAAAPh/AAAAAAAAQ0AAAAAAAAD4fwAAAAAAAPh/AAAAAABAYUAAAAAAAAD4fwAAAAAAAPh/AAAAAAAA+H8AAAAAAAD4fwAAAAAAAPh/AAAAAAAA+H8AAAAAAAD4fwAAAAAAAPh/AAAAAAAA+H8AAAAAAAD4fwAAAAAAAPh/AAAAAAAA+H8AAAAAAAD4fwAAAAAAACxAAAAAAAAA+H8AAAAAAAAwQAAAAAAAAPh/AAAAAADgZUAAAAAAAAD4fwAAAAAAAPh/AAAAAAAA+H8AAAAAAAD4fwAAAAAAAPh/AAAAAAAA+H8AAAAAAAD4fwAAAAAAAPh/AAAAAACAUUAAAAAAALB6QAAAAAAAAPh/AAAAAAAA+H8AAAAAAAD4fwAAAAAAACZAAAAAAAAA+H8AAAAAAAD4fwAAAAAAAPh/AAAAAAAA+H8AAAAAAAD4fwAAAAAAAPh/AAAAAADAY0AAAAAAAAD4fwAAAAAAAPh/AAAAAAAA+H8AAAAAAAD4fwAAAAAAAPh/AAAAAAAAIEAAAAAAAAD4fwAAAAAAADFAAAAAAAAA+H8AAAAAAAD4fwAAAAAAAPh/AAAAAAAA+H8AAAAAAAD4fwAAAAAAAPh/AAAAAAAA+H8AAAAAAAD4fwAAAAAAgEZAAAAAAAAA+H8AAAAAAAD4fwAAAAAAAPh/AAAAAAAA+H8AAAAAAAD4fwAAAAAAAPh/AAAAAAAA+H8AAAAAAAD4fwAAAAAA4GBAAAAAAAAA+H8AAAAAAAD4fwAAAAAAgFtAAAAAAAAA+H8AAAAAAAA/QAAAAAAAAPh/AAAAAAAA+H8AAAAAAAD4fwAAAAAAAPh/AAAAAAAA+H8AAAAAAABMQAAAAAAAAPh/AAAAAAAA+H8AAAAAAAD4fwAAAAAAAPh/AAAAAAAA+H8AAAAAAAD4fwAAAAAAAPh/AAAAAAAA+H8AAAAAAAD4fwAAAAAAAPh/AAAAAAAA+H8AAAAAAAD4fwAAAAAAAABAAAAAAAAA+H8AAAAAAABaQAAAAAAAAPh/AAAAAAAA+H8AAAAAAAD4fwAAAAAAAPh/AAAAAAAA+H8AAAAAAAD4fwAAAAAAAPh/AAAAAAAA+H8AAAAAAAD4fwAAAAAAAPh/AAAAAAAA+H8AAAAAAAD4fwAAAAAAACJAAAAAAAAA+H8AAAAAAAD4fwAAAAAAAPh/AAAAAAAA+H8AAAAAAAD4fwAAAAAAABBAAAAAAAAA+H8AAAAAAAD4fwAAAAAAAPh/AAAAAAAA+H8AAAAAAAD4fwAAAAAAAPh/AAAAAAAA+H8AAAAAAAD4fwAAAAAAAPh/AAAAAAAA+H8AAAAAAAD4fwAAAAAAAPh/AAAAAAAA+H8AAAAAAJB0QAAAAAAAAPh/AAAAAAAA+H8AAAAAAAA2QAAAAAAAAPh/AAAAAAAA+H8AAAAAAAAiQAAAAAAAAPh/AAAAAAAA+H8AAAAAAAD4fwAAAAAAAERAAAAAAAAA+H8AAAAAAABJQAAAAAAAAPh/AAAAAAAAPkAAAAAAAAD4fwAAAAAAAPh/AAAAAAAA+H8AAAAAAAD4fwAAAAAAAPh/AAAAAAAAUEAAAAAAAAD4fwAAAAAAgEJAAAAAAAAA+H8AAAAAAEBRQAAAAAAAAPh/AAAAAADgaUAAAAAAAAD4fwAAAAAAAPh/AAAAAABgY0AAAAAAAAAuQAAAAAAAAPh/AAAAAAAA+H8AAAAAAAD4fwAAAAAAAPh/AAAAAAAA+H8AAAAAAAD4fwAAAAAAAPh/AAAAAAAA+H8AAAAAAAD4fwAAAAAAAPh/AAAAAAAALEAAAAAAAAD4fwAAAAAAAPh/AAAAAAAA+H8AAAAAAAD4fwAAAAAAAPh/AAAAAAAA+H8AAAAAAAD4fwAAAAAAAPh/AAAAAAAANEAAAAAAAAD4fwAAAAAAAPh/AAAAAAAA+H8AAAAAAAA7QAAAAAAAACxAAAAAAADAWEAAAAAAAAD4fwAAAAAAAPh/AAAAAAAA+H8AAAAAAAD4fwAAAAAAAPh/AAAAAAAA+H8AAAAAAGBgQAAAAAAAAPh/AAAAAAAA+H8AAAAAAAD4fwAAAAAAAPh/AAAAAAAA+H8AAAAAAAD4fwAAAAAAAPh/AAAAAAAAIEAAAAAAAAD4fwAAAAAAAPh/AAAAAAAA+H8AAAAAAAD4fwAAAAAAAPh/AAAAAAAA+H8AAAAAAAD4fwAAAAAAAPh/AAAAAAAA+H8AAAAAAAD4fwAAAAAAAPh/AAAAAAAA+H8AAAAAAAD4fwAAAAAAAPA/AAAAAAAA+H8AAAAAAAD4fwAAAAAAAPh/AAAAAAAA+H8AAAAAAAD4fwAAAAAAADVAAAAAAAAA+H8AAAAAAABQQAAAAAAAAPh/AAAAAAAA+H8AAAAAAAD4fwAAAAAAAPh/AAAAAAAA+H8AAAAAAAD4fwAAAAAAAPh/AAAAAAAA+H8AAAAAAAD4fwAAAAAAAPh/AAAAAAAA+H8AAAAAAAD4fwAAAAAAAPh/AAAAAACATkAAAAAAAAD4fwAAAAAAAPh/AAAAAAAAKEAAAAAAAAD4fwAAAAAAAPh/AAAAAAAA+H8AAAAAAAD4fwAAAAAAAPh/AAAAAAAA+H8AAAAAAAD4fwAAAAAAgEFAAAAAAAAA+H8AAAAAAAD4fwAAAAAAAPh/AAAAAAAA+H8AAAAAAAD4fwAAAAAAAPh/AAAAAAAA+H8AAAAAAAD4fwAAAAAAAPh/AAAAAAAA+H8AAAAAAAD4fwAAAAAAAPh/AAAAAAAA+H8AAAAAAAD4fwAAAAAAAPh/AAAAAAAA+H8AAAAAAAD4fwAAAAAAABxAAAAAAACAckAAAAAAAAD4fwAAAAAAAPh/AAAAAAAA+H8AAAAAAAD4fwAAAAAAAPh/AAAAAAAA+H8AAAAAAAD4fwAAAAAAAPh/AAAAAAAA8D8AAAAAAAD4fwAAAAAAAPh/AAAAAAAA+H8AAAAAAAD4fwAAAAAAgE5AAAAAAAAA+H8AAAAAAAD4fwAAAAAAAPh/AAAAAAAANkAAAAAAAAD4fwAAAAAAgEJAAAAAAAAACEAAAAAAAAD4fwAAAAAAACJAAAAAAAAA+H8AAAAAAAD4fwAAAAAAAPh/AAAAAACAQ0AAAAAAAAD4fwAAAAAAAPh/AAAAAAAA+H8AAAAAAAD4fwAAAAAAAPh/AAAAAAAAJEAAAAAAAAAUQAAAAAAA4GFAAAAAAAAA+H8AAAAAAAD4fwAAAAAAAPh/AAAAAAAA+H8AAAAAAABVQAAAAAAAAPh/AAAAAAAA+H8AAAAAAAAzQAAAAAAAAPh/AAAAAAAA+H8AAAAAAAD4fwAAAAAAAPh/AAAAAAAA+H8AAAAAAAAgQAAAAAAAADpAAAAAAAAA+H8AAAAAAAD4fwAAAAAAAPh/AAAAAAAAPUAAAAAAAAD4fwAAAAAAAPh/AAAAAAAA+H8AAAAAAAD4fwAAAAAAADBAAAAAAAAAKkAAAAAAAAD4fwAAAAAAAPh/AAAAAAAA+H8AAAAAAAAiQAAAAAAAAPh/AAAAAAAA+H8AAAAAAAD4fwAAAAAAAPh/AAAAAADga0AAAAAAAAD4fwAAAAAAAPh/AAAAAAAAAEAAAAAAAAD4fwAAAAAAAPh/AAAAAAAA+H8AAAAAAAA6QAAAAAAAAPh/AAAAAAAA+H8AAAAAAAD4fwAAAAAAADJAAAAAAAAA+H8AAAAAAMBWQAAAAAAAgEdAAAAAAAAA+H8AAAAAAAD4fwAAAAAAAPh/AAAAAAAA+H8AAAAAAAD4fwAAAAAAAPh/AAAAAABgY0AAAAAAAAD4fwAAAAAAAPh/AAAAAAAA+H8AAAAAAAD4fwAAAAAAAPh/AAAAAACAUkAAAAAAAAD4fwAAAAAAgF9AAAAAAAAA+H8AAAAAAAD4fwAAAAAA4GpAAAAAAAAA+H8AAAAAAAD4fwAAAAAAAPh/AAAAAAAA+H8AAAAAAAD4fwAAAAAAAPh/AAAAAAAA+H8AAAAAAAA9QAAAAAAAAPh/AAAAAAAA+H8AAAAAAAD4fwAAAAAAAPh/AAAAAAAA+H8AAAAAAAD4fwAAAAAAAPh/AAAAAAAA+H8AAAAAAAD4fwAAAAAAAPh/AAAAAAAA+H8AAAAAAAD4fwAAAAAAAPh/AAAAAAAA+H8AAAAAAAAAQAAAAAAAAPh/AAAAAAAA+H8AAAAAAAA8QAAAAAAAAPh/AAAAAAAA+H8AAAAAAAD4fwAAAAAAAPh/AAAAAAAA+H8AAAAAAEBQQAAAAAAAACxAAAAAAAAA+H8AAAAAAAD4fwAAAAAAAPh/AAAAAAAA+H8AAAAAAAD4fwAAAAAAAPA/AAAAAAAA+H8AAAAAAAD4fwAAAAAAAPh/AAAAAAAA+H8AAAAAAAD4fwAAAAAAAPh/AAAAAAAA+H8AAAAAAAD4fwAAAAAAAPh/AAAAAAAA+H8AAAAAAAD4fwAAAAAAAPh/AAAAAAAA+H8AAAAAAAD4fwAAAAAAAPh/AAAAAAAA+H8AAAAAAAD4fwAAAAAAAPh/AAAAAAAA+H8AAAAAAAD4fwAAAAAAAPh/AAAAAAAA+H8AAAAAAAD4fwAAAAAAAPh/AAAAAAAA+H8AAAAAAAD4fwAAAAAAAPh/AAAAAAAA+H8AAAAAAAD4fwAAAAAAAPh/AAAAAAAA+H8AAAAAAAD4fwAAAAAAAPh/AAAAAAAA+H8AAAAAAAD4fwAAAAAAAPh/AAAAAAAA+H8AAAAAAAD4fwAAAAAAAPh/AAAAAAAA+H8AAAAAAAD4fwAAAAAAAPh/AAAAAAAA+H8AAAAAAAD4fwAAAAAAAPh/AAAAAAAA+H8AAAAAAAD4fwAAAAAAAPh/AAAAAAAA+H8AAAAAAAD4fwAAAAAAAPh/AAAAAAAA+H8AAAAAAAD4fwAAAAAAACpAAAAAAADAUEAAAAAAAAD4fwAAAAAAAPh/AAAAAAAAEEAAAAAAAAD4fwAAAAAAABBAAAAAAAAwcUAAAAAAAAD4fwAAAAAAAPh/AAAAAAAA+H8AAAAAAAD4fwAAAAAAAPh/AAAAAAAA+H8AAAAAAAD4fwAAAAAAAPh/AAAAAACAV0AAAAAAAAAiQAAAAAAAAPh/AAAAAAAA+H8AAAAAAAD4fwAAAAAAAPh/AAAAAAAA+H8AAAAAAAD4fwAAAAAAYGtAAAAAAAAA+H8AAAAAAAA6QAAAAAAAAPh/AAAAAAAA+H8AAAAAAAD4fwAAAAAAAPh/AAAAAAAA+H8AAAAAAAD4fwAAAAAAAPh/AAAAAAAA+H8AAAAAAAD4fwAAAAAAAPh/AAAAAAAA+H8AAAAAAAD4fwAAAAAAAPh/AAAAAAAA+H8AAAAAAAD4fwAAAAAAAPh/AAAAAADAakAAAAAAAAD4fwAAAAAAAPh/AAAAAACAR0AAAAAAAAD4fwAAAAAAAPh/AAAAAAAA+H8AAAAAAAD4fwAAAAAAAPh/AAAAAAAA+H8AAAAAAAD4fwAAAAAAAABAAAAAAAAA+H8AAAAAAAD4fwAAAAAAAPh/AAAAAAAA+H8AAAAAAAD4fwAAAAAAAPh/AAAAAAAA+H8AAAAAAGBmQAAAAAAAABRAAAAAAAAA+H8AAAAAAAD4fwAAAAAAAPh/AAAAAAAA+H8AAAAAAAD4fwAAAAAAAPh/AAAAAAAA+H8AAAAAAAD4fwAAAAAAAEtAAAAAAAAA+H8AAAAAAAD4fwAAAAAAAPh/AAAAAAAA+H8AAAAAAAD4fwAAAAAAAPh/AAAAAAAA+H8AAAAAAMBdQAAAAAAAAPh/AAAAAAAA+H8AAAAAAAD4fwAAAAAAAPh/AAAAAAAA+H8AAAAAAAD4fwAAAAAAAPh/AAAAAAAA+H8AAAAAAAD4fwAAAAAAAPh/AAAAAAAA+H8AAAAAAAD4fwAAAAAAADRAAAAAAAAA+H8AAAAAAAD4fwAAAAAAAPh/AAAAAAAA+H8AAAAAAAD4fwAAAAAAAPh/AAAAAAAA+H8AAAAAAAD4fwAAAAAAAPh/AAAAAAAAKEAAAAAAAAD4fwAAAAAAAEhAAAAAAAAA+H8AAAAAAIBFQAAAAAAAACxAAAAAAAAA+H8AAAAAAAD4fwAAAAAAwGBAAAAAAAAQcUAAAAAAAAD4fwAAAAAAAPh/AAAAAAAA+H8AAAAAAAD4fwAAAAAAAPh/AAAAAAAACEAAAAAAAAD4fwAAAAAAAEZAAAAAAAAA+H8AAAAAAAD4fwAAAAAAAPh/AAAAAAAA+H8AAAAAAAD4fwAAAAAAAPh/AAAAAAAA+H8AAAAAAAAkQAAAAAAAAPh/AAAAAAAA+H8AAAAAAIBbQAAAAAAAAPh/AAAAAAAA+H8AAAAAAAD4fwAAAAAAAPh/AAAAAAAA+H8AAAAAAAD4fwAAAAAAAPh/AAAAAAAA+H8AAAAAAAAYQAAAAAAAAPh/AAAAAAAA+H8AAAAAAAAyQAAAAAAAAPh/AAAAAAAA+H8AAAAAAMBXQAAAAAAAAPh/AAAAAAAA8D8AAAAAAAD4fwAAAAAAAPh/AAAAAAAA+H8AAAAAAIBCQAAAAAAAADxAAAAAAAAA+H8AAAAAAAD4fwAAAAAAgEBAAAAAAAAA+H8AAAAAAIBTQAAAAAAAAPh/AAAAAAAA+H8AAAAAAAD4fwAAAAAAAPh/AAAAAAAA+H8AAAAAAAD4fwAAAAAAAPh/AAAAAAAA+H8AAAAAAAD4fwAAAAAAAPh/AAAAAAAA+H8AAAAAAAD4fwAAAAAAAAhAAAAAAAAA+H8AAAAAAAD4fwAAAAAAAPh/AAAAAAAA+H8AAAAAAAAYQAAAAAAAABBAAAAAAAAA+H8AAAAAAAD4fwAAAAAAAPh/AAAAAAAA+H8AAAAAAABJQAAAAAAAAPh/AAAAAAAA+H8AAAAAAAD4fwAAAAAAAPh/AAAAAAAA+H8AAAAAAAD4fwAAAAAAAPh/AAAAAAAA+H8AAAAAAAD4fwAAAAAAAPh/AAAAAAAA+H8AAAAAAAD4fwAAAAAAAPh/AAAAAAAA+H8AAAAAAAD4fwAAAAAAAPh/AAAAAAAA+H8AAAAAAAD4fwAAAAAAAPh/AAAAAAAA+H8AAAAAAAD4fwAAAAAA4HBAAAAAAAAAOUAAAAAAAAD4fwAAAAAAAPh/AAAAAAAA+H8AAAAAAAD4fwAAAAAAAPh/AAAAAAAA+H8AAAAAAAD4fwAAAAAAAPh/AAAAAAAA+H8AAAAAAAD4fwAAAAAAAPh/AAAAAAAA+H8AAAAAAAD4fwAAAAAAAPh/AAAAAACAdEAAAAAAAAAiQAAAAAAAAPh/AAAAAAAA+H8AAAAAAAD4fwAAAAAAAPh/AAAAAAAA+H8AAAAAAAD4fwAAAAAAADBAAAAAAAAA+H8AAAAAAAD4fwAAAAAAAPh/AAAAAAAA+H8AAAAAAAD4fwAAAAAAAPh/AAAAAAAA+H8AAAAAAAD4fwAAAAAAAPh/AAAAAAAA+H8AAAAAAAD4fwAAAAAAACBAAAAAAAAA+H8AAAAAAAD4fwAAAAAAAPh/AAAAAAAA+H8AAAAAAIBCQAAAAAAAAPh/AAAAAAAA+H8AAAAAAADwPwAAAAAAAPh/AAAAAAAA+H8AAAAAAABiQAAAAAAAAPh/AAAAAAAA+H8AAAAAAAD4fwAAAAAAAPh/AAAAAAAA+H8AAAAAAAD4fwAAAAAAAPh/AAAAAAAA+H8AAAAAAAD4fwAAAAAAAPh/AAAAAAAA+H8AAAAAAAD4fwAAAAAAgEpAAAAAAAAA+H8AAAAAAAD4fwAAAAAAAPh/AAAAAAAA+H8AAAAAAAD4fwAAAAAAAPh/AAAAAAAA+H8AAAAAAAD4fwAAAAAAAPh/AAAAAAAA+H8AAAAAAAAmQAAAAAAAAPh/AAAAAAAA+H8AAAAAAAD4fwAAAAAAAPh/AAAAAAAA+H8AAAAAAAD4fwAAAAAAAPh/AAAAAAAA+H8AAAAAAIBJQAAAAAAAAPh/AAAAAAAA+H8AAAAAAAD4fwAAAAAAAPh/AAAAAAAA+H8AAAAAAAD4fwAAAAAAAPh/AAAAAAAALkAAAAAAAAD4fwAAAAAAAPh/AAAAAAAA+H8AAAAAAAD4fwAAAAAAAPh/AAAAAAAA+H8AAAAAAAD4fwAAAAAAAPh/AAAAAAAA+H8AAAAAAAD4fwAAAAAAAPh/AAAAAAAA+H8AAAAAAAD4fwAAAAAAACJAAAAAAAAA+H8AAAAAAAD4fwAAAAAAAPh/AAAAAAAA+H8AAAAAAAD4fwAAAAAAAPh/AAAAAAAA+H8AAAAAAAD4fwAAAAAAAEFAAAAAAACAVUAAAAAAAAD4fwAAAAAAAAhAAAAAAAAA+H8AAAAAAAAiQAAAAAAAAPh/AAAAAAAA+H8AAAAAAAD4fwAAAAAAAPh/AAAAAAAA+H8AAAAAAAD4fwAAAAAAAPh/AAAAAAAA+H8AAAAAAIBOQAAAAAAAAPh/AAAAAAAA+H8AAAAAAAAmQAAAAAAAAPh/AAAAAAAA+H8AAAAAAAD4fwAAAAAAAPh/AAAAAAAA+H8AAAAAAIBCQAAAAAAAAPh/AAAAAACAXEAAAAAAAAD4fwAAAAAAACxAAAAAAAAA+H8AAAAAAAD4fwAAAAAAAPh/AAAAAAAA+H8AAAAAAAD4fwAAAAAAAPh/AAAAAAAAXkAAAAAAAAD4fwAAAAAAAPh/AAAAAAAA+H8AAAAAAAD4fwAAAAAAgENAAAAAAAAA+H8AAAAAAAA3QAAAAAAAAPh/AAAAAAAA+H8AAAAAAABBQAAAAAAAAPh/AAAAAAAA+H8AAAAAAAD4fwAAAAAAAPh/AAAAAAAA+H8AAAAAAAD4fwAAAAAAgFNAAAAAAAAA+H8AAAAAAAAiQAAAAAAAAPh/AAAAAACga0AAAAAAAAD4fwAAAAAAAPh/AAAAAAAA+H8AAAAAAAD4fwAAAAAAAPh/AAAAAAAA+H8AAAAAAAD4fwAAAAAAAPh/AAAAAAAA+H8AAAAAAAD4fwAAAAAAAPh/AAAAAAAA+H8AAAAAAAD4fwAAAAAAAPh/AAAAAAAA+H8AAAAAAAD4fwAAAAAAAPh/AAAAAAAA+H8AAAAAAAD4fwAAAAAAAPh/AAAAAAAA+H8AAAAAAAA3QAAAAAAAAPh/AAAAAAAA+H8AAAAAAAD4fwAAAAAAgElAAAAAAAAA+H8AAAAAAAD4fwAAAAAAAPh/AAAAAAAA+H8AAAAAAAD4fwAAAAAAAPh/AAAAAAAA+H8AAAAAAAA/QAAAAAAAAPh/AAAAAAAA+H8AAAAAAAD4fwAAAAAAQGBAAAAAAAAA+H8AAAAAAAD4fwAAAAAAAPh/AAAAAAAA+H8AAAAAAAD4fwAAAAAAAPh/AAAAAAAA+H8AAAAAAAD4fwAAAAAAAPh/AAAAAAAA+H8AAAAAAAAcQAAAAAAAAPh/AAAAAAAA+H8AAAAAAAD4fwAAAAAAADBAAAAAAACAVUAAAAAAAAD4fwAAAAAAAPh/AAAAAAAA+H8AAAAAAAD4fwAAAAAAAPh/AAAAAABAhUAAAAAAAAAAQAAAAAAAAPh/AAAAAACAV0AAAAAAAAD4fwAAAAAAAPh/AAAAAAAA+H8AAAAAAAD4fwAAAAAAAPh/AAAAAAAA+H8AAAAAAAA1QAAAAAAAAPh/AAAAAAAA+H8AAAAAAAD4fwAAAAAAAPh/AAAAAAAAEEAAAAAAAABAQAAAAAAAAExAAAAAAAAA+H8AAAAAAAD4fwAAAAAAAPh/AAAAAAAA+H8AAAAAAAD4fwAAAAAAAPh/AAAAAAAA+H8AAAAAAAD4fwAAAAAAgENAAAAAAAAA+H8AAAAAAAD4fwAAAAAAAPh/AAAAAAAAIkAAAAAAAAD4fwAAAAAAAPh/AAAAAAAA+H8AAAAAAAAAQAAAAAAAAPh/AAAAAAAA+H8AAAAAAAD4fwAAAAAAAABAAAAAAAAA+H8AAAAAAAD4fwAAAAAAAPh/AAAAAAAA+H8AAAAAAAD4fwAAAAAAAPh/AAAAAAAANkAAAAAAAAAkQAAAAAAAwFxAAAAAAAAA+H8AAAAAAAD4fwAAAAAAgFZAAAAAAAAA+H8AAAAAAAD4fwAAAAAAAPh/AAAAAAAA+H8AAAAAAKBvQAAAAAAAAPh/AAAAAAAA+H8AAAAAAAD4fwAAAAAAAPh/AAAAAAAA+H8AAAAAAAD4fwAAAAAAAPh/AAAAAAAA+H8AAAAAAAD4fwAAAAAAgEBAAAAAAAAA+H8AAAAAAAD4fwAAAAAAAERAAAAAAAAA+H8AAAAAAKBkQAAAAAAAAPh/AAAAAAAA+H8AAAAAAAD4fwAAAAAAAPh/AAAAAAAA+H8AAAAAAAD4fwAAAAAAAPh/AAAAAACAUkAAAAAAAAD4fwAAAAAAAPh/AAAAAAAA+H8AAAAAAIBEQAAAAAAAAPh/AAAAAAAA+H8AAAAAAAD4fwAAAAAA0HJAAAAAAABAWEAAAAAAAAD4fwAAAAAAAPh/AAAAAAAA+H8AAAAAAAD4fwAAAAAAAPh/AAAAAAAA+H8AAAAAAAD4fwAAAAAAAPh/AAAAAAAA+H8AAAAAAAD4fwAAAAAAAPh/AAAAAAAA+H8AAAAAAAD4fwAAAAAAAPh/AAAAAAAA+H8AAAAAAAD4fwAAAAAAAPh/AAAAAAAA+H8AAAAAAAD4fwAAAAAAAPh/AAAAAAAA+H8AAAAAAAD4fwAAAAAAAPh/AAAAAAAA+H8AAAAAAAAxQAAAAAAAAPh/AAAAAAAAGEAAAAAAAAD4fwAAAAAAAPh/AAAAAAAA+H8AAAAAAAD4fwAAAAAAAPh/AAAAAAAA+H8AAAAAAAD4fwAAAAAAAPh/AAAAAAAA+H8AAAAAAAD4fwAAAAAAAPh/AAAAAAAAGEAAAAAAAAD4fwAAAAAAAPh/AAAAAABAW0AAAAAAAAD4fwAAAAAAAPh/AAAAAAAA+H8AAAAAAAA4QAAAAAAAAPh/AAAAAAAA+H8AAAAAAAD4fwAAAAAAAPh/AAAAAAAA8D8AAAAAAAD4fwAAAAAAAPh/AAAAAAAA+H8AAAAAAAD4fwAAAAAAAPh/AAAAAAAA+H8AAAAAAAD4fwAAAAAAADlAAAAAAAAA+H8AAAAAAAD4fwAAAAAAAPh/AAAAAAAA+H8AAAAAAAD4fwAAAAAAAPh/AAAAAACAV0AAAAAAAAD4fwAAAAAAAPh/AAAAAAAA+H8AAAAAAAD4fwAAAAAAAChAAAAAAAAA+H8AAAAAAAAmQAAAAAAAAPh/AAAAAAAA+H8AAAAAAAD4fwAAAAAAAPh/AAAAAAAA+H8AAAAAAAD4fwAAAAAAAGJAAAAAAAAA+H8AAAAAAAD4fwAAAAAAAPh/AAAAAAAA+H8AAAAAAAD4fwAAAAAAAPh/AAAAAAAA+H8AAAAAAAD4fwAAAAAAAPh/AAAAAAAA+H8AAAAAAAD4fwAAAAAAABhAAAAAAAAA+H8AAAAAAAD4fwAAAAAAACpAAAAAAAAA+H8AAAAAAAD4fwAAAAAAAPh/AAAAAAAAIEAAAAAAAAD4fwAAAAAAwFdAAAAAAAAA+H8AAAAAAAD4fwAAAAAAAPh/AAAAAAAA+H8AAAAAAAD4fwAAAAAAAPh/AAAAAAAA+H8AAAAAAAD4fwAAAAAAAPh/AAAAAAAA+H8AAAAAAAD4fwAAAAAAAPh/AAAAAAAAMkAAAAAAAEBZQAAAAAAAAPh/AAAAAAAA+H8AAAAAAAD4fwAAAAAAAPh/AAAAAACATEAAAAAAAAD4fwAAAAAAAPh/AAAAAAAA+H8AAAAAAABtQAAAAAAAAPh/AAAAAAAA+H8AAAAAAAD4fwAAAAAAAPh/AAAAAAAAEEAAAAAAAGBtQAAAAAAAAPh/AAAAAAAA+H8AAAAAAAD4fwAAAAAAAPh/AAAAAAAA+H8AAAAAAAA9QAAAAAAAAPh/AAAAAAAA+H8AAAAAAAD4fwAAAAAAAPh/AAAAAAAA+H8AAAAAAAD4fwAAAAAAgFZAAAAAAAAA+H8AAAAAAAD4fwAAAAAAABhAAAAAAADgYEAAAAAAAAD4fwAAAAAAAEpAAAAAAAAA+H8AAAAAAAD4fwAAAAAAAPh/AAAAAAAA+H8AAAAAAAD4fwAAAAAAAPh/AAAAAAAA+H8AAAAAAAD4fwAAAAAAAPh/AAAAAAAA+H8AAAAAAAD4fwAAAAAAAPh/AAAAAAAA+H8AAAAAAAD4fwAAAAAAADVAAAAAAAAA+H8AAAAAAAD4fwAAAAAAAPh/AAAAAAAA+H8AAAAAAAD4fwAAAAAAAHVAAAAAAAAA+H8AAAAAAAD4fwAAAAAAAPh/AAAAAAAA+H8AAAAAAAD4fwAAAAAAAEFAAAAAAAAA+H8AAAAAAAD4fwAAAAAAAPh/AAAAAAAA+H8AAAAAAAD4fwAAAAAAAPh/AAAAAAAA+H8AAAAAAAD4fwAAAAAAAPh/AAAAAAAA+H8AAAAAAAD4fwAAAAAAAPh/AAAAAAAA+H8AAAAAAAD4fwAAAAAAAPh/AAAAAAAA+H8AAAAAAAD4fwAAAAAAAPh/AAAAAAAA+H8AAAAAAAD4fwAAAAAAAPh/AAAAAAAA+H8AAAAAAAD4fwAAAAAAAPh/AAAAAAAA+H8AAAAAAAD4fwAAAAAAAPh/AAAAAAAA+H8AAAAAAEBnQAAAAAAAAPh/AAAAAAAA+H8AAAAAAAD4fwAAAAAAAPh/AAAAAAAA+H8AAAAAAAD4fwAAAAAAAPh/AAAAAAAA+H8AAAAAAAD4fwAAAAAAADhAAAAAAACAVEAAAAAAAAD4fwAAAAAAAPh/AAAAAAAAMUAAAAAAAAD4fwAAAAAAAPh/AAAAAAAA+H8AAAAAAAD4fwAAAAAAAPh/AAAAAAAA+H8AAAAAAAD4fwAAAAAAAPh/AAAAAAAA+H8AAAAAAAAsQAAAAAAAAPh/AAAAAAAA+H8AAAAAAAD4fwAAAAAAAPh/AAAAAAAA+H8AAAAAAAD4fwAAAAAAAPh/AAAAAAAA+H8AAAAAAAD4fwAAAAAAAPh/AAAAAAAAa0AAAAAAAAD4fwAAAAAAAPh/AAAAAAAA+H8AAAAAAAD4fwAAAAAAAPh/AAAAAAAA+H8AAAAAAAD4fwAAAAAAAPh/AAAAAAAA+H8AAAAAAAD4fwAAAAAAAPh/AAAAAAAA+H8AAAAAAAD4fwAAAAAAAPh/AAAAAAAA+H8AAAAAAAD4fwAAAAAAAPh/AAAAAAAA+H8AAAAAAAD4fwAAAAAAAPh/AAAAAAAA+H8AAAAAAAD4fwAAAAAAAPh/AAAAAADQdEAAAAAAAAD4fwAAAAAAAPh/AAAAAAAA+H8AAAAAAAD4fwAAAAAAAGVAAAAAAAAA+H8AAAAAAAD4fwAAAAAAABRAAAAAAAAA+H8AAAAAAAD4fwAAAAAAAPh/AAAAAAAA+H8AAAAAAAD4fwAAAAAAAPh/AAAAAAAA+H8AAAAAAAD4fwAAAAAAAPh/AAAAAAAA+H8AAAAAAAD4fwAAAAAAAPh/AAAAAAAA+H8AAAAAAAD4fwAAAAAAAPh/AAAAAAAA+H8AAAAAAMBjQAAAAAAAAPh/AAAAAAAA+H8AAAAAAAD4fwAAAAAAAPh/AAAAAAAA+H8AAAAAAAD4fwAAAAAAAPh/AAAAAAAAEEAAAAAAAAD4fwAAAAAAAPh/AAAAAAAANUAAAAAAAAD4fwAAAAAAAPh/AAAAAAAA+H8AAAAAAAD4fwAAAAAAgGFAAAAAAAAA+H8AAAAAAAD4fwAAAAAAAPh/AAAAAAAA+H8AAAAAAAD4fwAAAAAAACRAAAAAAAAA+H8AAAAAAAD4fwAAAAAAABRAAAAAAAAAMEAAAAAAAAD4fwAAAAAAAPh/AAAAAAAA+H8AAAAAAAD4fwAAAAAAAPh/AAAAAAAA+H8AAAAAAAD4fwAAAAAAAPh/AAAAAAAA+H8AAAAAAAD4fwAAAAAAAPh/AAAAAAAA+H8AAAAAAAD4fwAAAAAAAPh/AAAAAAAA+H8AAAAAAAD4fwAAAAAAAPh/AAAAAAAA+H8AAAAAAAD4fwAAAAAAAPh/AAAAAAAA+H8AAAAAAAD4fwAAAAAAAPh/AAAAAAAA+H8AAAAAAAA3QAAAAAAAAPh/AAAAAAAA+H8AAAAAAABFQAAAAAAAAPh/AAAAAAAAMEAAAAAAAAAuQAAAAAAAAPh/AAAAAAAA+H8AAAAAAKBxQAAAAAAAAPh/AAAAAABAUkAAAAAAAAD4fwAAAAAAAPh/AAAAAAAA+H8AAAAAAAD4fwAAAAAAAPh/AAAAAAAA+H8AAAAAAAD4fwAAAAAAAPh/AAAAAAAA+H8AAAAAAAD4fwAAAAAAADtAAAAAAACARkAAAAAAAAD4fwAAAAAAAPh/AAAAAAAA+H8AAAAAAAD4fwAAAAAAAPh/AAAAAAAA+H8AAAAAAAD4fwAAAAAAAPh/AAAAAAAAR0AAAAAAAAD4fwAAAAAAAPh/AAAAAAAA+H8AAAAAAAD4fwAAAAAAAPh/AAAAAAAA+H8AAAAAAAD4fwAAAAAAAPh/AAAAAAAA+H8AAAAAAAD4fwAAAAAAAPh/AAAAAAAAGEAAAAAAAAD4fwAAAAAAAPh/AAAAAAAA+H8AAAAAAAD4fwAAAAAAABRAAAAAAAAA+H8AAAAAAAD4fwAAAAAAAPh/AAAAAAAACEAAAAAAAAD4fwAAAAAAAPh/AAAAAAAA+H8AAAAAAAD4fwAAAAAAAPh/AAAAAAAA+H8AAAAAAAD4fwAAAAAAAPh/AAAAAAAA+H8AAAAAAAD4fwAAAAAAQF1AAAAAAAAA+H8AAAAAAAD4fwAAAAAAAPh/AAAAAAAA+H8AAAAAAAD4fwAAAAAAAPh/AAAAAAAA+H8AAAAAAAD4fwAAAAAAAPh/AAAAAADAUUAAAAAAAAAoQAAAAAAAgEFAAAAAAAAA+H8AAAAAAAD4fwAAAAAAAPh/AAAAAAAA+H8AAAAAAEBWQAAAAAAAAPh/AAAAAAAA+H8AAAAAAAD4fwAAAAAAAPh/AAAAAAAA+H8AAAAAAAD4fwAAAAAAAPh/AAAAAAAA+H8AAAAAAAD4fwAAAAAAAC5AAAAAAAAA+H8AAAAAAAD4fwAAAAAAAPh/AAAAAAAA+H8AAAAAAAD4fwAAAAAAADhAAAAAAAAA+H8AAAAAAAD4fwAAAAAAAPh/AAAAAAAA+H8AAAAAAAD4fwAAAAAAAPh/AAAAAAAA+H8AAAAAAAD4fwAAAAAAAPh/AAAAAAAA+H8AAAAAAAD4fwAAAAAAAABAAAAAAAAA+H8AAAAAAAD4fwAAAAAAAPh/AAAAAAAA+H8AAAAAAMBTQAAAAAAAAPh/AAAAAAAA+H8AAAAAAAD4fwAAAAAAADlAAAAAAAAAYUAAAAAAAAD4fwAAAAAAIGNAAAAAAAAA+H8AAAAAAAD4fwAAAAAAAD9AAAAAAADAUUAAAAAAAAD4fwAAAAAAAPh/AAAAAAAA+H8AAAAAAAD4fwAAAAAAAPh/AAAAAAAA+H8AAAAAAAD4fwAAAAAAAPh/AAAAAAAA+H8AAAAAAAD4fwAAAAAAAPh/AAAAAAAA+H8AAAAAAIBNQAAAAAAAAPh/AAAAAAAA+H8AAAAAAAD4fwAAAAAAAPh/AAAAAAAA+H8AAAAAAAD4fwAAAAAAAPh/AAAAAAAA+H8AAAAAAAD4fwAAAAAAAPh/AAAAAAAA8D8AAAAAAAD4fwAAAAAAAPh/AAAAAAAA+H8AAAAAAAD4fwAAAAAAAPh/AAAAAAAA+H8AAAAAAAD4fwAAAAAAAPh/AAAAAAAA+H8AAAAAAAA3QA==",
          "dtype": "f8"
         },
         "xaxis": "x",
         "yaxis": "y"
        }
       ],
       "layout": {
        "barmode": "group",
        "legend": {
         "title": {
          "text": "variable"
         },
         "tracegroupgap": 0
        },
        "margin": {
         "t": 60
        },
        "template": {
         "data": {
          "bar": [
           {
            "error_x": {
             "color": "#2a3f5f"
            },
            "error_y": {
             "color": "#2a3f5f"
            },
            "marker": {
             "line": {
              "color": "#E5ECF6",
              "width": 0.5
             },
             "pattern": {
              "fillmode": "overlay",
              "size": 10,
              "solidity": 0.2
             }
            },
            "type": "bar"
           }
          ],
          "barpolar": [
           {
            "marker": {
             "line": {
              "color": "#E5ECF6",
              "width": 0.5
             },
             "pattern": {
              "fillmode": "overlay",
              "size": 10,
              "solidity": 0.2
             }
            },
            "type": "barpolar"
           }
          ],
          "carpet": [
           {
            "aaxis": {
             "endlinecolor": "#2a3f5f",
             "gridcolor": "white",
             "linecolor": "white",
             "minorgridcolor": "white",
             "startlinecolor": "#2a3f5f"
            },
            "baxis": {
             "endlinecolor": "#2a3f5f",
             "gridcolor": "white",
             "linecolor": "white",
             "minorgridcolor": "white",
             "startlinecolor": "#2a3f5f"
            },
            "type": "carpet"
           }
          ],
          "choropleth": [
           {
            "colorbar": {
             "outlinewidth": 0,
             "ticks": ""
            },
            "type": "choropleth"
           }
          ],
          "contour": [
           {
            "colorbar": {
             "outlinewidth": 0,
             "ticks": ""
            },
            "colorscale": [
             [
              0,
              "#0d0887"
             ],
             [
              0.1111111111111111,
              "#46039f"
             ],
             [
              0.2222222222222222,
              "#7201a8"
             ],
             [
              0.3333333333333333,
              "#9c179e"
             ],
             [
              0.4444444444444444,
              "#bd3786"
             ],
             [
              0.5555555555555556,
              "#d8576b"
             ],
             [
              0.6666666666666666,
              "#ed7953"
             ],
             [
              0.7777777777777778,
              "#fb9f3a"
             ],
             [
              0.8888888888888888,
              "#fdca26"
             ],
             [
              1,
              "#f0f921"
             ]
            ],
            "type": "contour"
           }
          ],
          "contourcarpet": [
           {
            "colorbar": {
             "outlinewidth": 0,
             "ticks": ""
            },
            "type": "contourcarpet"
           }
          ],
          "heatmap": [
           {
            "colorbar": {
             "outlinewidth": 0,
             "ticks": ""
            },
            "colorscale": [
             [
              0,
              "#0d0887"
             ],
             [
              0.1111111111111111,
              "#46039f"
             ],
             [
              0.2222222222222222,
              "#7201a8"
             ],
             [
              0.3333333333333333,
              "#9c179e"
             ],
             [
              0.4444444444444444,
              "#bd3786"
             ],
             [
              0.5555555555555556,
              "#d8576b"
             ],
             [
              0.6666666666666666,
              "#ed7953"
             ],
             [
              0.7777777777777778,
              "#fb9f3a"
             ],
             [
              0.8888888888888888,
              "#fdca26"
             ],
             [
              1,
              "#f0f921"
             ]
            ],
            "type": "heatmap"
           }
          ],
          "histogram": [
           {
            "marker": {
             "pattern": {
              "fillmode": "overlay",
              "size": 10,
              "solidity": 0.2
             }
            },
            "type": "histogram"
           }
          ],
          "histogram2d": [
           {
            "colorbar": {
             "outlinewidth": 0,
             "ticks": ""
            },
            "colorscale": [
             [
              0,
              "#0d0887"
             ],
             [
              0.1111111111111111,
              "#46039f"
             ],
             [
              0.2222222222222222,
              "#7201a8"
             ],
             [
              0.3333333333333333,
              "#9c179e"
             ],
             [
              0.4444444444444444,
              "#bd3786"
             ],
             [
              0.5555555555555556,
              "#d8576b"
             ],
             [
              0.6666666666666666,
              "#ed7953"
             ],
             [
              0.7777777777777778,
              "#fb9f3a"
             ],
             [
              0.8888888888888888,
              "#fdca26"
             ],
             [
              1,
              "#f0f921"
             ]
            ],
            "type": "histogram2d"
           }
          ],
          "histogram2dcontour": [
           {
            "colorbar": {
             "outlinewidth": 0,
             "ticks": ""
            },
            "colorscale": [
             [
              0,
              "#0d0887"
             ],
             [
              0.1111111111111111,
              "#46039f"
             ],
             [
              0.2222222222222222,
              "#7201a8"
             ],
             [
              0.3333333333333333,
              "#9c179e"
             ],
             [
              0.4444444444444444,
              "#bd3786"
             ],
             [
              0.5555555555555556,
              "#d8576b"
             ],
             [
              0.6666666666666666,
              "#ed7953"
             ],
             [
              0.7777777777777778,
              "#fb9f3a"
             ],
             [
              0.8888888888888888,
              "#fdca26"
             ],
             [
              1,
              "#f0f921"
             ]
            ],
            "type": "histogram2dcontour"
           }
          ],
          "mesh3d": [
           {
            "colorbar": {
             "outlinewidth": 0,
             "ticks": ""
            },
            "type": "mesh3d"
           }
          ],
          "parcoords": [
           {
            "line": {
             "colorbar": {
              "outlinewidth": 0,
              "ticks": ""
             }
            },
            "type": "parcoords"
           }
          ],
          "pie": [
           {
            "automargin": true,
            "type": "pie"
           }
          ],
          "scatter": [
           {
            "fillpattern": {
             "fillmode": "overlay",
             "size": 10,
             "solidity": 0.2
            },
            "type": "scatter"
           }
          ],
          "scatter3d": [
           {
            "line": {
             "colorbar": {
              "outlinewidth": 0,
              "ticks": ""
             }
            },
            "marker": {
             "colorbar": {
              "outlinewidth": 0,
              "ticks": ""
             }
            },
            "type": "scatter3d"
           }
          ],
          "scattercarpet": [
           {
            "marker": {
             "colorbar": {
              "outlinewidth": 0,
              "ticks": ""
             }
            },
            "type": "scattercarpet"
           }
          ],
          "scattergeo": [
           {
            "marker": {
             "colorbar": {
              "outlinewidth": 0,
              "ticks": ""
             }
            },
            "type": "scattergeo"
           }
          ],
          "scattergl": [
           {
            "marker": {
             "colorbar": {
              "outlinewidth": 0,
              "ticks": ""
             }
            },
            "type": "scattergl"
           }
          ],
          "scattermap": [
           {
            "marker": {
             "colorbar": {
              "outlinewidth": 0,
              "ticks": ""
             }
            },
            "type": "scattermap"
           }
          ],
          "scattermapbox": [
           {
            "marker": {
             "colorbar": {
              "outlinewidth": 0,
              "ticks": ""
             }
            },
            "type": "scattermapbox"
           }
          ],
          "scatterpolar": [
           {
            "marker": {
             "colorbar": {
              "outlinewidth": 0,
              "ticks": ""
             }
            },
            "type": "scatterpolar"
           }
          ],
          "scatterpolargl": [
           {
            "marker": {
             "colorbar": {
              "outlinewidth": 0,
              "ticks": ""
             }
            },
            "type": "scatterpolargl"
           }
          ],
          "scatterternary": [
           {
            "marker": {
             "colorbar": {
              "outlinewidth": 0,
              "ticks": ""
             }
            },
            "type": "scatterternary"
           }
          ],
          "surface": [
           {
            "colorbar": {
             "outlinewidth": 0,
             "ticks": ""
            },
            "colorscale": [
             [
              0,
              "#0d0887"
             ],
             [
              0.1111111111111111,
              "#46039f"
             ],
             [
              0.2222222222222222,
              "#7201a8"
             ],
             [
              0.3333333333333333,
              "#9c179e"
             ],
             [
              0.4444444444444444,
              "#bd3786"
             ],
             [
              0.5555555555555556,
              "#d8576b"
             ],
             [
              0.6666666666666666,
              "#ed7953"
             ],
             [
              0.7777777777777778,
              "#fb9f3a"
             ],
             [
              0.8888888888888888,
              "#fdca26"
             ],
             [
              1,
              "#f0f921"
             ]
            ],
            "type": "surface"
           }
          ],
          "table": [
           {
            "cells": {
             "fill": {
              "color": "#EBF0F8"
             },
             "line": {
              "color": "white"
             }
            },
            "header": {
             "fill": {
              "color": "#C8D4E3"
             },
             "line": {
              "color": "white"
             }
            },
            "type": "table"
           }
          ]
         },
         "layout": {
          "annotationdefaults": {
           "arrowcolor": "#2a3f5f",
           "arrowhead": 0,
           "arrowwidth": 1
          },
          "autotypenumbers": "strict",
          "coloraxis": {
           "colorbar": {
            "outlinewidth": 0,
            "ticks": ""
           }
          },
          "colorscale": {
           "diverging": [
            [
             0,
             "#8e0152"
            ],
            [
             0.1,
             "#c51b7d"
            ],
            [
             0.2,
             "#de77ae"
            ],
            [
             0.3,
             "#f1b6da"
            ],
            [
             0.4,
             "#fde0ef"
            ],
            [
             0.5,
             "#f7f7f7"
            ],
            [
             0.6,
             "#e6f5d0"
            ],
            [
             0.7,
             "#b8e186"
            ],
            [
             0.8,
             "#7fbc41"
            ],
            [
             0.9,
             "#4d9221"
            ],
            [
             1,
             "#276419"
            ]
           ],
           "sequential": [
            [
             0,
             "#0d0887"
            ],
            [
             0.1111111111111111,
             "#46039f"
            ],
            [
             0.2222222222222222,
             "#7201a8"
            ],
            [
             0.3333333333333333,
             "#9c179e"
            ],
            [
             0.4444444444444444,
             "#bd3786"
            ],
            [
             0.5555555555555556,
             "#d8576b"
            ],
            [
             0.6666666666666666,
             "#ed7953"
            ],
            [
             0.7777777777777778,
             "#fb9f3a"
            ],
            [
             0.8888888888888888,
             "#fdca26"
            ],
            [
             1,
             "#f0f921"
            ]
           ],
           "sequentialminus": [
            [
             0,
             "#0d0887"
            ],
            [
             0.1111111111111111,
             "#46039f"
            ],
            [
             0.2222222222222222,
             "#7201a8"
            ],
            [
             0.3333333333333333,
             "#9c179e"
            ],
            [
             0.4444444444444444,
             "#bd3786"
            ],
            [
             0.5555555555555556,
             "#d8576b"
            ],
            [
             0.6666666666666666,
             "#ed7953"
            ],
            [
             0.7777777777777778,
             "#fb9f3a"
            ],
            [
             0.8888888888888888,
             "#fdca26"
            ],
            [
             1,
             "#f0f921"
            ]
           ]
          },
          "colorway": [
           "#636efa",
           "#EF553B",
           "#00cc96",
           "#ab63fa",
           "#FFA15A",
           "#19d3f3",
           "#FF6692",
           "#B6E880",
           "#FF97FF",
           "#FECB52"
          ],
          "font": {
           "color": "#2a3f5f"
          },
          "geo": {
           "bgcolor": "white",
           "lakecolor": "white",
           "landcolor": "#E5ECF6",
           "showlakes": true,
           "showland": true,
           "subunitcolor": "white"
          },
          "hoverlabel": {
           "align": "left"
          },
          "hovermode": "closest",
          "mapbox": {
           "style": "light"
          },
          "paper_bgcolor": "white",
          "plot_bgcolor": "#E5ECF6",
          "polar": {
           "angularaxis": {
            "gridcolor": "white",
            "linecolor": "white",
            "ticks": ""
           },
           "bgcolor": "#E5ECF6",
           "radialaxis": {
            "gridcolor": "white",
            "linecolor": "white",
            "ticks": ""
           }
          },
          "scene": {
           "xaxis": {
            "backgroundcolor": "#E5ECF6",
            "gridcolor": "white",
            "gridwidth": 2,
            "linecolor": "white",
            "showbackground": true,
            "ticks": "",
            "zerolinecolor": "white"
           },
           "yaxis": {
            "backgroundcolor": "#E5ECF6",
            "gridcolor": "white",
            "gridwidth": 2,
            "linecolor": "white",
            "showbackground": true,
            "ticks": "",
            "zerolinecolor": "white"
           },
           "zaxis": {
            "backgroundcolor": "#E5ECF6",
            "gridcolor": "white",
            "gridwidth": 2,
            "linecolor": "white",
            "showbackground": true,
            "ticks": "",
            "zerolinecolor": "white"
           }
          },
          "shapedefaults": {
           "line": {
            "color": "#2a3f5f"
           }
          },
          "ternary": {
           "aaxis": {
            "gridcolor": "white",
            "linecolor": "white",
            "ticks": ""
           },
           "baxis": {
            "gridcolor": "white",
            "linecolor": "white",
            "ticks": ""
           },
           "bgcolor": "#E5ECF6",
           "caxis": {
            "gridcolor": "white",
            "linecolor": "white",
            "ticks": ""
           }
          },
          "title": {
           "x": 0.05
          },
          "xaxis": {
           "automargin": true,
           "gridcolor": "white",
           "linecolor": "white",
           "ticks": "",
           "title": {
            "standoff": 15
           },
           "zerolinecolor": "white",
           "zerolinewidth": 2
          },
          "yaxis": {
           "automargin": true,
           "gridcolor": "white",
           "linecolor": "white",
           "ticks": "",
           "title": {
            "standoff": 15
           },
           "zerolinecolor": "white",
           "zerolinewidth": 2
          }
         }
        },
        "xaxis": {
         "anchor": "y",
         "domain": [
          0,
          1
         ],
         "title": {
          "text": "value"
         }
        },
        "yaxis": {
         "anchor": "x",
         "domain": [
          0,
          1
         ],
         "title": {
          "text": "count"
         }
        }
       }
      }
     },
     "metadata": {},
     "output_type": "display_data"
    },
    {
     "data": {
      "text/html": [
       "<div>\n",
       "<style scoped>\n",
       "    .dataframe tbody tr th:only-of-type {\n",
       "        vertical-align: middle;\n",
       "    }\n",
       "\n",
       "    .dataframe tbody tr th {\n",
       "        vertical-align: top;\n",
       "    }\n",
       "\n",
       "    .dataframe thead th {\n",
       "        text-align: right;\n",
       "    }\n",
       "</style>\n",
       "<table border=\"1\" class=\"dataframe\">\n",
       "  <thead>\n",
       "    <tr style=\"text-align: right;\">\n",
       "      <th></th>\n",
       "      <th>count</th>\n",
       "      <th>mean</th>\n",
       "      <th>std</th>\n",
       "      <th>min</th>\n",
       "      <th>q01</th>\n",
       "      <th>q05</th>\n",
       "      <th>q25</th>\n",
       "      <th>median</th>\n",
       "      <th>q75</th>\n",
       "      <th>q95</th>\n",
       "      <th>q99</th>\n",
       "      <th>max</th>\n",
       "    </tr>\n",
       "  </thead>\n",
       "  <tbody>\n",
       "    <tr>\n",
       "      <th>Train</th>\n",
       "      <td>5511.0</td>\n",
       "      <td>150.072038</td>\n",
       "      <td>175.521932</td>\n",
       "      <td>2.0</td>\n",
       "      <td>9.1</td>\n",
       "      <td>22.0</td>\n",
       "      <td>41.0</td>\n",
       "      <td>86.0</td>\n",
       "      <td>189.5</td>\n",
       "      <td>506.00</td>\n",
       "      <td>836.90</td>\n",
       "      <td>2029.0</td>\n",
       "    </tr>\n",
       "    <tr>\n",
       "      <th>Test</th>\n",
       "      <td>1180.0</td>\n",
       "      <td>81.196610</td>\n",
       "      <td>115.496327</td>\n",
       "      <td>1.0</td>\n",
       "      <td>1.0</td>\n",
       "      <td>2.0</td>\n",
       "      <td>13.0</td>\n",
       "      <td>38.0</td>\n",
       "      <td>102.0</td>\n",
       "      <td>301.05</td>\n",
       "      <td>518.46</td>\n",
       "      <td>1014.0</td>\n",
       "    </tr>\n",
       "  </tbody>\n",
       "</table>\n",
       "</div>"
      ],
      "text/plain": [
       "        count        mean         std  min  q01   q05   q25  median    q75  \\\n",
       "Train  5511.0  150.072038  175.521932  2.0  9.1  22.0  41.0    86.0  189.5   \n",
       "Test   1180.0   81.196610  115.496327  1.0  1.0   2.0  13.0    38.0  102.0   \n",
       "\n",
       "          q95     q99     max  \n",
       "Train  506.00  836.90  2029.0  \n",
       "Test   301.05  518.46  1014.0  "
      ]
     },
     "execution_count": 28,
     "metadata": {},
     "output_type": "execute_result"
    }
   ],
   "source": [
    "# Majority of visualization functions have 2 versions: customizable matplotlib version and interactive plotly version.\n",
    "# To use it, just add _px to the function name. Let's use plot_hist_px, a plotly counterpart of plot_hist.\n",
    "# Arguments are similar to plot_hist, but the figure is interactive.\n",
    "\n",
    "fig_px, stats_px = plot_hist_px(\n",
    "    data=[train_user_interactions, test_user_interactions],\n",
    "    col=\"item_id\",\n",
    "    log=False,                  # log-transform for skewed data\n",
    "    labels=[\"Train\", \"Test\"],\n",
    "    nbins=30,                  # number of proposed histogram bins (the ploty may contain less)\n",
    "    barmode=\"group\",           # overlay bars for comparison (plotly kwarg)\n",
    "    opacity=0.7\n",
    ")\n",
    "\n",
    "# Display interactive plot\n",
    "fig_px.show()\n",
    "\n",
    "stats_px"
   ]
  },
  {
   "cell_type": "code",
   "execution_count": 29,
   "id": "41eb93d9",
   "metadata": {},
   "outputs": [
    {
     "data": {
      "image/png": "[encoded data removed]",
      "text/plain": [
       "<Figure size 1000x500 with 1 Axes>"
      ]
     },
     "metadata": {},
     "output_type": "display_data"
    }
   ],
   "source": [
    "# This function aggregates events into time periods (hours, days, weeks, months)\n",
    "# and shows how activity changes over time for each subset.\n",
    "\n",
    "fig = plot_inters(\n",
    "    data=[train, test_target],\n",
    "    start_date=\"01/01/2000\",    # optional inclusive start date\n",
    "    end_date=\"01/02/2002\",      # optional inclusive end date\n",
    "    granularity=\"m\",            # 'm' = monthly\n",
    "    labels=[\"Train\", \"Test\"],\n",
    "    title=\"Daily Interaction Counts\",\n",
    "    palette=\"deep\"\n",
    ")\n",
    "\n",
    "plt.show()"
   ]
  },
  {
   "cell_type": "code",
   "execution_count": 30,
   "id": "47b27e60",
   "metadata": {},
   "outputs": [
    {
     "data": {
      "application/vnd.plotly.v1+json": {
       "config": {
        "plotlyServerURL": "https://plot.ly"
       },
       "data": [
        {
         "hovertemplate": "subset=Train<br>timestamp=%{x}<br>n_inters=%{y}<extra></extra>",
         "legendgroup": "Train",
         "marker": {
          "color": "#636efa",
          "pattern": {
           "shape": ""
          }
         },
         "name": "Train",
         "orientation": "v",
         "showlegend": true,
         "textposition": "auto",
         "type": "bar",
         "x": [
          "2000-04-30T00:00:00.000000000",
          "2000-05-31T00:00:00.000000000",
          "2000-06-30T00:00:00.000000000",
          "2000-07-31T00:00:00.000000000",
          "2000-08-31T00:00:00.000000000",
          "2000-09-30T00:00:00.000000000",
          "2000-10-31T00:00:00.000000000",
          "2000-11-30T00:00:00.000000000",
          "2000-12-31T00:00:00.000000000"
         ],
         "xaxis": "x",
         "y": {
          "bdata": "xikAAIbtAABPvgAAsUUBAMuQAgANwQAAv5MAANscBADpgAEA",
          "dtype": "i4"
         },
         "yaxis": "y"
        },
        {
         "hovertemplate": "subset=Test<br>timestamp=%{x}<br>n_inters=%{y}<extra></extra>",
         "legendgroup": "Test",
         "marker": {
          "color": "#EF553B",
          "pattern": {
           "shape": ""
          }
         },
         "name": "Test",
         "orientation": "v",
         "showlegend": true,
         "textposition": "auto",
         "type": "bar",
         "x": [
          "2000-12-31T00:00:00.000000000",
          "2001-01-31T00:00:00.000000000",
          "2001-02-28T00:00:00.000000000",
          "2001-03-31T00:00:00.000000000",
          "2001-04-30T00:00:00.000000000",
          "2001-05-31T00:00:00.000000000",
          "2001-06-30T00:00:00.000000000",
          "2001-07-31T00:00:00.000000000",
          "2001-08-31T00:00:00.000000000",
          "2001-09-30T00:00:00.000000000",
          "2001-10-31T00:00:00.000000000",
          "2001-11-30T00:00:00.000000000",
          "2001-12-31T00:00:00.000000000",
          "2002-01-31T00:00:00.000000000",
          "2002-02-28T00:00:00.000000000"
         ],
         "xaxis": "x",
         "y": {
          "bdata": "WQjrQzAfwxczFAwTTxOVEmERvQuJCFgKcQ2qCzsA",
          "dtype": "i2"
         },
         "yaxis": "y"
        }
       ],
       "layout": {
        "barmode": "relative",
        "legend": {
         "title": {
          "text": "subset"
         },
         "tracegroupgap": 0
        },
        "template": {
         "data": {
          "bar": [
           {
            "error_x": {
             "color": "#2a3f5f"
            },
            "error_y": {
             "color": "#2a3f5f"
            },
            "marker": {
             "line": {
              "color": "#E5ECF6",
              "width": 0.5
             },
             "pattern": {
              "fillmode": "overlay",
              "size": 10,
              "solidity": 0.2
             }
            },
            "type": "bar"
           }
          ],
          "barpolar": [
           {
            "marker": {
             "line": {
              "color": "#E5ECF6",
              "width": 0.5
             },
             "pattern": {
              "fillmode": "overlay",
              "size": 10,
              "solidity": 0.2
             }
            },
            "type": "barpolar"
           }
          ],
          "carpet": [
           {
            "aaxis": {
             "endlinecolor": "#2a3f5f",
             "gridcolor": "white",
             "linecolor": "white",
             "minorgridcolor": "white",
             "startlinecolor": "#2a3f5f"
            },
            "baxis": {
             "endlinecolor": "#2a3f5f",
             "gridcolor": "white",
             "linecolor": "white",
             "minorgridcolor": "white",
             "startlinecolor": "#2a3f5f"
            },
            "type": "carpet"
           }
          ],
          "choropleth": [
           {
            "colorbar": {
             "outlinewidth": 0,
             "ticks": ""
            },
            "type": "choropleth"
           }
          ],
          "contour": [
           {
            "colorbar": {
             "outlinewidth": 0,
             "ticks": ""
            },
            "colorscale": [
             [
              0,
              "#0d0887"
             ],
             [
              0.1111111111111111,
              "#46039f"
             ],
             [
              0.2222222222222222,
              "#7201a8"
             ],
             [
              0.3333333333333333,
              "#9c179e"
             ],
             [
              0.4444444444444444,
              "#bd3786"
             ],
             [
              0.5555555555555556,
              "#d8576b"
             ],
             [
              0.6666666666666666,
              "#ed7953"
             ],
             [
              0.7777777777777778,
              "#fb9f3a"
             ],
             [
              0.8888888888888888,
              "#fdca26"
             ],
             [
              1,
              "#f0f921"
             ]
            ],
            "type": "contour"
           }
          ],
          "contourcarpet": [
           {
            "colorbar": {
             "outlinewidth": 0,
             "ticks": ""
            },
            "type": "contourcarpet"
           }
          ],
          "heatmap": [
           {
            "colorbar": {
             "outlinewidth": 0,
             "ticks": ""
            },
            "colorscale": [
             [
              0,
              "#0d0887"
             ],
             [
              0.1111111111111111,
              "#46039f"
             ],
             [
              0.2222222222222222,
              "#7201a8"
             ],
             [
              0.3333333333333333,
              "#9c179e"
             ],
             [
              0.4444444444444444,
              "#bd3786"
             ],
             [
              0.5555555555555556,
              "#d8576b"
             ],
             [
              0.6666666666666666,
              "#ed7953"
             ],
             [
              0.7777777777777778,
              "#fb9f3a"
             ],
             [
              0.8888888888888888,
              "#fdca26"
             ],
             [
              1,
              "#f0f921"
             ]
            ],
            "type": "heatmap"
           }
          ],
          "histogram": [
           {
            "marker": {
             "pattern": {
              "fillmode": "overlay",
              "size": 10,
              "solidity": 0.2
             }
            },
            "type": "histogram"
           }
          ],
          "histogram2d": [
           {
            "colorbar": {
             "outlinewidth": 0,
             "ticks": ""
            },
            "colorscale": [
             [
              0,
              "#0d0887"
             ],
             [
              0.1111111111111111,
              "#46039f"
             ],
             [
              0.2222222222222222,
              "#7201a8"
             ],
             [
              0.3333333333333333,
              "#9c179e"
             ],
             [
              0.4444444444444444,
              "#bd3786"
             ],
             [
              0.5555555555555556,
              "#d8576b"
             ],
             [
              0.6666666666666666,
              "#ed7953"
             ],
             [
              0.7777777777777778,
              "#fb9f3a"
             ],
             [
              0.8888888888888888,
              "#fdca26"
             ],
             [
              1,
              "#f0f921"
             ]
            ],
            "type": "histogram2d"
           }
          ],
          "histogram2dcontour": [
           {
            "colorbar": {
             "outlinewidth": 0,
             "ticks": ""
            },
            "colorscale": [
             [
              0,
              "#0d0887"
             ],
             [
              0.1111111111111111,
              "#46039f"
             ],
             [
              0.2222222222222222,
              "#7201a8"
             ],
             [
              0.3333333333333333,
              "#9c179e"
             ],
             [
              0.4444444444444444,
              "#bd3786"
             ],
             [
              0.5555555555555556,
              "#d8576b"
             ],
             [
              0.6666666666666666,
              "#ed7953"
             ],
             [
              0.7777777777777778,
              "#fb9f3a"
             ],
             [
              0.8888888888888888,
              "#fdca26"
             ],
             [
              1,
              "#f0f921"
             ]
            ],
            "type": "histogram2dcontour"
           }
          ],
          "mesh3d": [
           {
            "colorbar": {
             "outlinewidth": 0,
             "ticks": ""
            },
            "type": "mesh3d"
           }
          ],
          "parcoords": [
           {
            "line": {
             "colorbar": {
              "outlinewidth": 0,
              "ticks": ""
             }
            },
            "type": "parcoords"
           }
          ],
          "pie": [
           {
            "automargin": true,
            "type": "pie"
           }
          ],
          "scatter": [
           {
            "fillpattern": {
             "fillmode": "overlay",
             "size": 10,
             "solidity": 0.2
            },
            "type": "scatter"
           }
          ],
          "scatter3d": [
           {
            "line": {
             "colorbar": {
              "outlinewidth": 0,
              "ticks": ""
             }
            },
            "marker": {
             "colorbar": {
              "outlinewidth": 0,
              "ticks": ""
             }
            },
            "type": "scatter3d"
           }
          ],
          "scattercarpet": [
           {
            "marker": {
             "colorbar": {
              "outlinewidth": 0,
              "ticks": ""
             }
            },
            "type": "scattercarpet"
           }
          ],
          "scattergeo": [
           {
            "marker": {
             "colorbar": {
              "outlinewidth": 0,
              "ticks": ""
             }
            },
            "type": "scattergeo"
           }
          ],
          "scattergl": [
           {
            "marker": {
             "colorbar": {
              "outlinewidth": 0,
              "ticks": ""
             }
            },
            "type": "scattergl"
           }
          ],
          "scattermap": [
           {
            "marker": {
             "colorbar": {
              "outlinewidth": 0,
              "ticks": ""
             }
            },
            "type": "scattermap"
           }
          ],
          "scattermapbox": [
           {
            "marker": {
             "colorbar": {
              "outlinewidth": 0,
              "ticks": ""
             }
            },
            "type": "scattermapbox"
           }
          ],
          "scatterpolar": [
           {
            "marker": {
             "colorbar": {
              "outlinewidth": 0,
              "ticks": ""
             }
            },
            "type": "scatterpolar"
           }
          ],
          "scatterpolargl": [
           {
            "marker": {
             "colorbar": {
              "outlinewidth": 0,
              "ticks": ""
             }
            },
            "type": "scatterpolargl"
           }
          ],
          "scatterternary": [
           {
            "marker": {
             "colorbar": {
              "outlinewidth": 0,
              "ticks": ""
             }
            },
            "type": "scatterternary"
           }
          ],
          "surface": [
           {
            "colorbar": {
             "outlinewidth": 0,
             "ticks": ""
            },
            "colorscale": [
             [
              0,
              "#0d0887"
             ],
             [
              0.1111111111111111,
              "#46039f"
             ],
             [
              0.2222222222222222,
              "#7201a8"
             ],
             [
              0.3333333333333333,
              "#9c179e"
             ],
             [
              0.4444444444444444,
              "#bd3786"
             ],
             [
              0.5555555555555556,
              "#d8576b"
             ],
             [
              0.6666666666666666,
              "#ed7953"
             ],
             [
              0.7777777777777778,
              "#fb9f3a"
             ],
             [
              0.8888888888888888,
              "#fdca26"
             ],
             [
              1,
              "#f0f921"
             ]
            ],
            "type": "surface"
           }
          ],
          "table": [
           {
            "cells": {
             "fill": {
              "color": "#EBF0F8"
             },
             "line": {
              "color": "white"
             }
            },
            "header": {
             "fill": {
              "color": "#C8D4E3"
             },
             "line": {
              "color": "white"
             }
            },
            "type": "table"
           }
          ]
         },
         "layout": {
          "annotationdefaults": {
           "arrowcolor": "#2a3f5f",
           "arrowhead": 0,
           "arrowwidth": 1
          },
          "autotypenumbers": "strict",
          "coloraxis": {
           "colorbar": {
            "outlinewidth": 0,
            "ticks": ""
           }
          },
          "colorscale": {
           "diverging": [
            [
             0,
             "#8e0152"
            ],
            [
             0.1,
             "#c51b7d"
            ],
            [
             0.2,
             "#de77ae"
            ],
            [
             0.3,
             "#f1b6da"
            ],
            [
             0.4,
             "#fde0ef"
            ],
            [
             0.5,
             "#f7f7f7"
            ],
            [
             0.6,
             "#e6f5d0"
            ],
            [
             0.7,
             "#b8e186"
            ],
            [
             0.8,
             "#7fbc41"
            ],
            [
             0.9,
             "#4d9221"
            ],
            [
             1,
             "#276419"
            ]
           ],
           "sequential": [
            [
             0,
             "#0d0887"
            ],
            [
             0.1111111111111111,
             "#46039f"
            ],
            [
             0.2222222222222222,
             "#7201a8"
            ],
            [
             0.3333333333333333,
             "#9c179e"
            ],
            [
             0.4444444444444444,
             "#bd3786"
            ],
            [
             0.5555555555555556,
             "#d8576b"
            ],
            [
             0.6666666666666666,
             "#ed7953"
            ],
            [
             0.7777777777777778,
             "#fb9f3a"
            ],
            [
             0.8888888888888888,
             "#fdca26"
            ],
            [
             1,
             "#f0f921"
            ]
           ],
           "sequentialminus": [
            [
             0,
             "#0d0887"
            ],
            [
             0.1111111111111111,
             "#46039f"
            ],
            [
             0.2222222222222222,
             "#7201a8"
            ],
            [
             0.3333333333333333,
             "#9c179e"
            ],
            [
             0.4444444444444444,
             "#bd3786"
            ],
            [
             0.5555555555555556,
             "#d8576b"
            ],
            [
             0.6666666666666666,
             "#ed7953"
            ],
            [
             0.7777777777777778,
             "#fb9f3a"
            ],
            [
             0.8888888888888888,
             "#fdca26"
            ],
            [
             1,
             "#f0f921"
            ]
           ]
          },
          "colorway": [
           "#636efa",
           "#EF553B",
           "#00cc96",
           "#ab63fa",
           "#FFA15A",
           "#19d3f3",
           "#FF6692",
           "#B6E880",
           "#FF97FF",
           "#FECB52"
          ],
          "font": {
           "color": "#2a3f5f"
          },
          "geo": {
           "bgcolor": "white",
           "lakecolor": "white",
           "landcolor": "#E5ECF6",
           "showlakes": true,
           "showland": true,
           "subunitcolor": "white"
          },
          "hoverlabel": {
           "align": "left"
          },
          "hovermode": "closest",
          "mapbox": {
           "style": "light"
          },
          "paper_bgcolor": "white",
          "plot_bgcolor": "#E5ECF6",
          "polar": {
           "angularaxis": {
            "gridcolor": "white",
            "linecolor": "white",
            "ticks": ""
           },
           "bgcolor": "#E5ECF6",
           "radialaxis": {
            "gridcolor": "white",
            "linecolor": "white",
            "ticks": ""
           }
          },
          "scene": {
           "xaxis": {
            "backgroundcolor": "#E5ECF6",
            "gridcolor": "white",
            "gridwidth": 2,
            "linecolor": "white",
            "showbackground": true,
            "ticks": "",
            "zerolinecolor": "white"
           },
           "yaxis": {
            "backgroundcolor": "#E5ECF6",
            "gridcolor": "white",
            "gridwidth": 2,
            "linecolor": "white",
            "showbackground": true,
            "ticks": "",
            "zerolinecolor": "white"
           },
           "zaxis": {
            "backgroundcolor": "#E5ECF6",
            "gridcolor": "white",
            "gridwidth": 2,
            "linecolor": "white",
            "showbackground": true,
            "ticks": "",
            "zerolinecolor": "white"
           }
          },
          "shapedefaults": {
           "line": {
            "color": "#2a3f5f"
           }
          },
          "ternary": {
           "aaxis": {
            "gridcolor": "white",
            "linecolor": "white",
            "ticks": ""
           },
           "baxis": {
            "gridcolor": "white",
            "linecolor": "white",
            "ticks": ""
           },
           "bgcolor": "#E5ECF6",
           "caxis": {
            "gridcolor": "white",
            "linecolor": "white",
            "ticks": ""
           }
          },
          "title": {
           "x": 0.05
          },
          "xaxis": {
           "automargin": true,
           "gridcolor": "white",
           "linecolor": "white",
           "ticks": "",
           "title": {
            "standoff": 15
           },
           "zerolinecolor": "white",
           "zerolinewidth": 2
          },
          "yaxis": {
           "automargin": true,
           "gridcolor": "white",
           "linecolor": "white",
           "ticks": "",
           "title": {
            "standoff": 15
           },
           "zerolinecolor": "white",
           "zerolinewidth": 2
          }
         }
        },
        "title": {
         "text": "Daily Interaction Counts"
        },
        "xaxis": {
         "anchor": "y",
         "domain": [
          0,
          1
         ],
         "title": {
          "text": "timestamp"
         }
        },
        "yaxis": {
         "anchor": "x",
         "domain": [
          0,
          1
         ],
         "title": {
          "text": "n_inters"
         }
        }
       }
      }
     },
     "metadata": {},
     "output_type": "display_data"
    }
   ],
   "source": [
    "# Works with plotly!\n",
    "\n",
    "fig = plot_inters_px(\n",
    "    data=[train, test_target],\n",
    "    start_date=\"01/01/2000\",    # optional inclusive start date\n",
    "    end_date=\"01/02/2002\",      # optional inclusive end date\n",
    "    granularity=\"m\",            # 'm' = monthly\n",
    "    labels=[\"Train\", \"Test\"],\n",
    "    title=\"Daily Interaction Counts\",\n",
    ")\n",
    "\n",
    "fig.show()"
   ]
  },
  {
   "cell_type": "code",
   "execution_count": 31,
   "id": "2c00fbeb",
   "metadata": {},
   "outputs": [
    {
     "data": {
      "image/png": "[encoded data removed]",
      "text/plain": [
       "<Figure size 2500x1200 with 1 Axes>"
      ]
     },
     "metadata": {},
     "output_type": "display_data"
    }
   ],
   "source": [
    "# Let's see, how each individual user history looks for the given split\n",
    "\n",
    "fig = plot_inters_scatter(\n",
    "    data=[train, test_target],\n",
    "    labels=[\"Train\", \"Test\"],\n",
    "    users=50,           # sample 50 random users for clarity\n",
    "    random_state=42,    # reproducible sampling\n",
    "    point_size=40,      # adjust point size\n",
    "    alpha=0.8\n",
    ")\n",
    "\n",
    "plt.title(\"User Interaction Scatter (Train vs Test)\")\n",
    "plt.show()"
   ]
  }
 ],
 "metadata": {
  "kernelspec": {
   "display_name": "base",
   "language": "python",
   "name": "python3"
  },
  "language_info": {
   "codemirror_mode": {
    "name": "ipython",
    "version": 3
   },
   "file_extension": ".py",
   "mimetype": "text/x-python",
   "name": "python",
   "nbconvert_exporter": "python",
   "pygments_lexer": "ipython3",
   "version": "3.9.13"
  }
 },
 "nbformat": 4,
 "nbformat_minor": 5
}
